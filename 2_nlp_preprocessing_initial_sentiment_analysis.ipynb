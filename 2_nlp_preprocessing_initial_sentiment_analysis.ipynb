{
 "cells": [
  {
   "cell_type": "code",
   "execution_count": 2,
   "metadata": {
    "ExecuteTime": {
     "end_time": "2019-08-21T18:45:41.809862Z",
     "start_time": "2019-08-21T18:45:40.435573Z"
    }
   },
   "outputs": [],
   "source": [
    "#import libraries\n",
    "import requests\n",
    "import pandas as pd\n",
    "import matplotlib.pyplot as plt\n",
    "from datetime import datetime\n",
    "import time\n",
    "import re\n",
    "import enchant\n",
    "\n",
    "#preprocessing\n",
    "from sklearn.preprocessing import StandardScaler\n",
    "\n",
    "#nltk libraries\n",
    "import nltk\n",
    "\n",
    "#stopwords\n",
    "from nltk.corpus import stopwords\n",
    "from nltk.tokenize import word_tokenize\n",
    "\n",
    "#sentiment analysis\n",
    "from textblob import TextBlob\n",
    "from vaderSentiment.vaderSentiment import SentimentIntensityAnalyzer\n",
    "\n",
    "%matplotlib inline"
   ]
  },
  {
   "cell_type": "markdown",
   "metadata": {},
   "source": [
    "# A. Installing Libraries"
   ]
  },
  {
   "cell_type": "code",
   "execution_count": 3,
   "metadata": {
    "ExecuteTime": {
     "end_time": "2019-08-21T18:45:43.657992Z",
     "start_time": "2019-08-21T18:45:41.825061Z"
    },
    "scrolled": true
   },
   "outputs": [
    {
     "name": "stdout",
     "output_type": "stream",
     "text": [
      "Requirement already up-to-date: textblob in /anaconda3/lib/python3.7/site-packages (0.15.3)\n",
      "Requirement already satisfied, skipping upgrade: nltk>=3.1 in /anaconda3/lib/python3.7/site-packages (from textblob) (3.4)\n",
      "Requirement already satisfied, skipping upgrade: six in /anaconda3/lib/python3.7/site-packages (from nltk>=3.1->textblob) (1.12.0)\n",
      "Requirement already satisfied, skipping upgrade: singledispatch in /anaconda3/lib/python3.7/site-packages (from nltk>=3.1->textblob) (3.4.0.3)\n",
      "Note: you may need to restart the kernel to use updated packages.\n"
     ]
    }
   ],
   "source": [
    "pip install -U textblob"
   ]
  },
  {
   "cell_type": "code",
   "execution_count": 4,
   "metadata": {
    "ExecuteTime": {
     "end_time": "2019-08-21T18:45:44.885379Z",
     "start_time": "2019-08-21T18:45:43.668699Z"
    }
   },
   "outputs": [
    {
     "name": "stdout",
     "output_type": "stream",
     "text": [
      "Requirement already satisfied: vaderSentiment in /anaconda3/lib/python3.7/site-packages (3.2.1)\n",
      "Note: you may need to restart the kernel to use updated packages.\n"
     ]
    }
   ],
   "source": [
    "pip install vaderSentiment"
   ]
  },
  {
   "cell_type": "code",
   "execution_count": 5,
   "metadata": {
    "ExecuteTime": {
     "end_time": "2019-08-21T18:45:46.330499Z",
     "start_time": "2019-08-21T18:45:44.897211Z"
    }
   },
   "outputs": [
    {
     "name": "stdout",
     "output_type": "stream",
     "text": [
      "Requirement already up-to-date: vaderSentiment in /anaconda3/lib/python3.7/site-packages (3.2.1)\n",
      "Note: you may need to restart the kernel to use updated packages.\n"
     ]
    }
   ],
   "source": [
    "pip install --upgrade vaderSentiment"
   ]
  },
  {
   "cell_type": "code",
   "execution_count": 6,
   "metadata": {
    "ExecuteTime": {
     "end_time": "2019-08-21T18:45:47.517374Z",
     "start_time": "2019-08-21T18:45:46.343201Z"
    }
   },
   "outputs": [
    {
     "name": "stdout",
     "output_type": "stream",
     "text": [
      "Requirement already satisfied: pyenchant in /anaconda3/lib/python3.7/site-packages (2.0.0)\n",
      "Note: you may need to restart the kernel to use updated packages.\n"
     ]
    }
   ],
   "source": [
    "pip install pyenchant"
   ]
  },
  {
   "cell_type": "code",
   "execution_count": 7,
   "metadata": {
    "ExecuteTime": {
     "end_time": "2019-08-21T18:45:47.759078Z",
     "start_time": "2019-08-21T18:45:47.529045Z"
    }
   },
   "outputs": [
    {
     "name": "stderr",
     "output_type": "stream",
     "text": [
      "[nltk_data] Downloading package stopwords to\n",
      "[nltk_data]     /Users/michaelli/nltk_data...\n",
      "[nltk_data]   Package stopwords is already up-to-date!\n"
     ]
    },
    {
     "data": {
      "text/plain": [
       "True"
      ]
     },
     "execution_count": 7,
     "metadata": {},
     "output_type": "execute_result"
    }
   ],
   "source": [
    "nltk.download('stopwords')"
   ]
  },
  {
   "cell_type": "markdown",
   "metadata": {},
   "source": [
    "# B. Creating API Functions"
   ]
  },
  {
   "cell_type": "code",
   "execution_count": 8,
   "metadata": {
    "ExecuteTime": {
     "end_time": "2019-08-21T18:45:47.771038Z",
     "start_time": "2019-08-21T18:45:47.768099Z"
    }
   },
   "outputs": [],
   "source": [
    "#this function takes in a timestamp\n",
    "#edit the URL to add in filters\n",
    "#yahoofinance\n",
    "def get_data_simple(timestamp):\n",
    "    url = \"https://min-api.cryptocompare.com/data/v2/news/?feeds=cointelegraph&{}&categories=BTC,ETH,USDT,Mining,Market,Fiat,Regulation,Commodity,Technology,Blockchain&excludeCategories=Sponsored&lang=EN\".format('lTs='+ str(timestamp)) #formats timestamp into api query\n",
    "    #url = \"https://min-api.cryptocompare.com/data/v2/news/?{}&excludeCategories=Sponsored&lang=EN\".format('lTs='+ str(timestamp)) #formats timestamp into api query\n",
    "    r = requests.get(url) #gets url\n",
    "    ipdata = r.json() #saves json file\n",
    "    return ipdata #returns json for df processing"
   ]
  },
  {
   "cell_type": "code",
   "execution_count": 9,
   "metadata": {
    "ExecuteTime": {
     "end_time": "2019-08-21T18:45:47.783762Z",
     "start_time": "2019-08-21T18:45:47.779498Z"
    }
   },
   "outputs": [],
   "source": [
    "#need to make a loop with time delays to obtain all the data and concat into one large dataframe\n",
    "\n",
    "def api_get_df(timestamplist):\n",
    "    df_list=[] #stores all dataframes\n",
    "    counter = 0\n",
    "    for timestamp in timestamplist[0:5]:\n",
    "        df_list.append(get_df(timestamp))\n",
    "        #should enter some sort of time delay because of api request limits\n",
    "        counter = counter +1\n",
    "        print (counter)\n",
    "        if counter % 45 == 0:\n",
    "            print(\"Taking a Break\")\n",
    "            time.sleep(1) #Taks a 1 second break after 45 links \n",
    "    \n",
    "    #combine dataframes\n",
    "    df_final = pd.concat(df_list, axis = 0)\n",
    "    #df_final['date_time'] = pd.to_datetime(df_final['published_on'], unit='s') \n",
    "    return df_final #.sort_values(by = 'date_time', ascending = False) #return final combined dataframes\n",
    "        "
   ]
  },
  {
   "cell_type": "markdown",
   "metadata": {},
   "source": [
    "# 1. Read In Data from CSV Files and clean Files"
   ]
  },
  {
   "cell_type": "code",
   "execution_count": 10,
   "metadata": {
    "ExecuteTime": {
     "end_time": "2019-08-21T18:45:49.058728Z",
     "start_time": "2019-08-21T18:45:47.795097Z"
    }
   },
   "outputs": [
    {
     "name": "stderr",
     "output_type": "stream",
     "text": [
      "/anaconda3/lib/python3.7/site-packages/ipykernel_launcher.py:11: FutureWarning: Sorting because non-concatenation axis is not aligned. A future version\n",
      "of pandas will change to not sort by default.\n",
      "\n",
      "To accept the future behavior, pass 'sort=False'.\n",
      "\n",
      "To retain the current behavior and silence the warning, pass 'sort=True'.\n",
      "\n",
      "  # This is added back by InteractiveShellApp.init_path()\n"
     ]
    }
   ],
   "source": [
    "#Data already taken from API, will run additional requests with different filtering parameters as needed\n",
    "#designate paths\n",
    "path1 = 'api_data.csv'\n",
    "path2 = 'api_data_btc_eth_filter.csv'\n",
    "path3 = 'api_data_btc_eth_regulations_moreetc_regs_filter_yahoofinance.csv'\n",
    "path4 = 'api_data_btc_eth_regulations_moreetc_regs_filter.csv'\n",
    "path5 = 'api_data_no_filters.csv'\n",
    "\n",
    "#df=pd.concat([pd.read_csv(path1),pd.read_csv(path2),pd.read_csv(path3),pd.read_csv(path4), pd.read_csv(path5)])\n",
    "\n",
    "df=pd.concat([pd.read_csv(path2),pd.read_csv(path3),pd.read_csv(path4)])"
   ]
  },
  {
   "cell_type": "code",
   "execution_count": 11,
   "metadata": {
    "ExecuteTime": {
     "end_time": "2019-08-21T18:45:49.132347Z",
     "start_time": "2019-08-21T18:45:49.115806Z"
    }
   },
   "outputs": [
    {
     "data": {
      "text/html": [
       "<div>\n",
       "<style scoped>\n",
       "    .dataframe tbody tr th:only-of-type {\n",
       "        vertical-align: middle;\n",
       "    }\n",
       "\n",
       "    .dataframe tbody tr th {\n",
       "        vertical-align: top;\n",
       "    }\n",
       "\n",
       "    .dataframe thead th {\n",
       "        text-align: right;\n",
       "    }\n",
       "</style>\n",
       "<table border=\"1\" class=\"dataframe\">\n",
       "  <thead>\n",
       "    <tr style=\"text-align: right;\">\n",
       "      <th></th>\n",
       "      <th>Unnamed: 0</th>\n",
       "      <th>body</th>\n",
       "      <th>categories</th>\n",
       "      <th>date_time</th>\n",
       "      <th>downvotes</th>\n",
       "      <th>guid</th>\n",
       "      <th>id</th>\n",
       "      <th>imageurl</th>\n",
       "      <th>lang</th>\n",
       "      <th>published_on</th>\n",
       "      <th>source</th>\n",
       "      <th>source_info</th>\n",
       "      <th>tags</th>\n",
       "      <th>title</th>\n",
       "      <th>upvotes</th>\n",
       "      <th>url</th>\n",
       "    </tr>\n",
       "  </thead>\n",
       "  <tbody>\n",
       "    <tr>\n",
       "      <th>0</th>\n",
       "      <td>0</td>\n",
       "      <td>Bitcoin has been trading for a premium of betw...</td>\n",
       "      <td>BTC|Market|Trading</td>\n",
       "      <td>2019-08-15 22:00:47</td>\n",
       "      <td>0</td>\n",
       "      <td>https://www.newsbtc.com/?p=393277</td>\n",
       "      <td>2813980</td>\n",
       "      <td>https://images.cryptocompare.com/news/newsbtc/...</td>\n",
       "      <td>EN</td>\n",
       "      <td>1565906447</td>\n",
       "      <td>newsbtc</td>\n",
       "      <td>{'name': 'NewsBTC', 'lang': 'EN', 'img': 'http...</td>\n",
       "      <td>Bitcoin|Opinion|argentina|bitcoin|safe haven</td>\n",
       "      <td>Argentine Bitcoin Premium Shows Relativity of ...</td>\n",
       "      <td>0</td>\n",
       "      <td>https://www.newsbtc.com/2019/08/15/argentine-b...</td>\n",
       "    </tr>\n",
       "    <tr>\n",
       "      <th>1</th>\n",
       "      <td>1</td>\n",
       "      <td>Bitcoin’s market valuation has already made so...</td>\n",
       "      <td>BTC|Trading|Market</td>\n",
       "      <td>2019-08-15 22:00:21</td>\n",
       "      <td>0</td>\n",
       "      <td>https://bitcoinist.com/?p=115180</td>\n",
       "      <td>2813979</td>\n",
       "      <td>https://images.cryptocompare.com/news/bitcoini...</td>\n",
       "      <td>EN</td>\n",
       "      <td>1565906421</td>\n",
       "      <td>bitcoinist</td>\n",
       "      <td>{'name': 'Bitcoinist', 'lang': 'EN', 'img': 'h...</td>\n",
       "      <td>Bitcoin|Bitcoin Price|News|News teaser|bitcoin...</td>\n",
       "      <td>Brandt’s Momentum Indicator Highlights Potenti...</td>\n",
       "      <td>0</td>\n",
       "      <td>https://bitcoinist.com/brandts-momentum-indica...</td>\n",
       "    </tr>\n",
       "    <tr>\n",
       "      <th>2</th>\n",
       "      <td>2</td>\n",
       "      <td>Paxful’s peer-to-peer Bitcoin exchange got a b...</td>\n",
       "      <td>BTC|Exchange|Trading|Fiat|Market</td>\n",
       "      <td>2019-08-15 21:55:41</td>\n",
       "      <td>0</td>\n",
       "      <td>https://decrypt.co/?p=8442</td>\n",
       "      <td>2813832</td>\n",
       "      <td>https://images.cryptocompare.com/news/decrypt/...</td>\n",
       "      <td>EN</td>\n",
       "      <td>1565906141</td>\n",
       "      <td>decrypt</td>\n",
       "      <td>{'name': 'Decrypt', 'lang': 'EN', 'img': 'http...</td>\n",
       "      <td>Cryptocurrencies|bitcoin|cryptocurrency|Market...</td>\n",
       "      <td>Bitcoin peer-to-peer exchange Paxful sees 70 p...</td>\n",
       "      <td>0</td>\n",
       "      <td>https://decrypt.co/8442/bitcoin-peer-to-peer-e...</td>\n",
       "    </tr>\n",
       "    <tr>\n",
       "      <th>3</th>\n",
       "      <td>3</td>\n",
       "      <td>Move over, John McAfee, there&amp;#8217;s a new cr...</td>\n",
       "      <td>BTC|Blockchain|Technology|Regulation</td>\n",
       "      <td>2019-08-15 21:21:14</td>\n",
       "      <td>0</td>\n",
       "      <td>https://cryptobriefing.com/?p=43933</td>\n",
       "      <td>2812410</td>\n",
       "      <td>https://images.cryptocompare.com/news/cryptobr...</td>\n",
       "      <td>EN</td>\n",
       "      <td>1565904074</td>\n",
       "      <td>cryptobriefing</td>\n",
       "      <td>{'name': 'Crypto Briefing', 'lang': 'EN', 'img...</td>\n",
       "      <td>News|Bitcoin|Government|Politics|USA</td>\n",
       "      <td>Crypto Candidate Andrew Yang Talks Up Bitcoin ...</td>\n",
       "      <td>0</td>\n",
       "      <td>https://cryptobriefing.com/crypto-andrew-yang-...</td>\n",
       "    </tr>\n",
       "    <tr>\n",
       "      <th>4</th>\n",
       "      <td>4</td>\n",
       "      <td>TRON announced the latest release of its side ...</td>\n",
       "      <td>ETH|Blockchain|BTC|Market</td>\n",
       "      <td>2019-08-15 21:19:06</td>\n",
       "      <td>0</td>\n",
       "      <td>https://cryptoslate.com/?p=111863</td>\n",
       "      <td>2812411</td>\n",
       "      <td>https://images.cryptocompare.com/news/cryptosl...</td>\n",
       "      <td>EN</td>\n",
       "      <td>1565903946</td>\n",
       "      <td>cryptoslate</td>\n",
       "      <td>{'name': 'CryptoSlate', 'lang': 'EN', 'img': '...</td>\n",
       "      <td>Analysis|EOS|Ethereum|Tron</td>\n",
       "      <td>Is TRON’s Sun Network a marketing gimmick? Com...</td>\n",
       "      <td>0</td>\n",
       "      <td>https://cryptoslate.com/tron-sun-network-marke...</td>\n",
       "    </tr>\n",
       "  </tbody>\n",
       "</table>\n",
       "</div>"
      ],
      "text/plain": [
       "   Unnamed: 0                                               body  \\\n",
       "0           0  Bitcoin has been trading for a premium of betw...   \n",
       "1           1  Bitcoin’s market valuation has already made so...   \n",
       "2           2  Paxful’s peer-to-peer Bitcoin exchange got a b...   \n",
       "3           3  Move over, John McAfee, there&#8217;s a new cr...   \n",
       "4           4  TRON announced the latest release of its side ...   \n",
       "\n",
       "                             categories            date_time  downvotes  \\\n",
       "0                    BTC|Market|Trading  2019-08-15 22:00:47          0   \n",
       "1                    BTC|Trading|Market  2019-08-15 22:00:21          0   \n",
       "2      BTC|Exchange|Trading|Fiat|Market  2019-08-15 21:55:41          0   \n",
       "3  BTC|Blockchain|Technology|Regulation  2019-08-15 21:21:14          0   \n",
       "4             ETH|Blockchain|BTC|Market  2019-08-15 21:19:06          0   \n",
       "\n",
       "                                  guid       id  \\\n",
       "0    https://www.newsbtc.com/?p=393277  2813980   \n",
       "1     https://bitcoinist.com/?p=115180  2813979   \n",
       "2           https://decrypt.co/?p=8442  2813832   \n",
       "3  https://cryptobriefing.com/?p=43933  2812410   \n",
       "4    https://cryptoslate.com/?p=111863  2812411   \n",
       "\n",
       "                                            imageurl lang  published_on  \\\n",
       "0  https://images.cryptocompare.com/news/newsbtc/...   EN    1565906447   \n",
       "1  https://images.cryptocompare.com/news/bitcoini...   EN    1565906421   \n",
       "2  https://images.cryptocompare.com/news/decrypt/...   EN    1565906141   \n",
       "3  https://images.cryptocompare.com/news/cryptobr...   EN    1565904074   \n",
       "4  https://images.cryptocompare.com/news/cryptosl...   EN    1565903946   \n",
       "\n",
       "           source                                        source_info  \\\n",
       "0         newsbtc  {'name': 'NewsBTC', 'lang': 'EN', 'img': 'http...   \n",
       "1      bitcoinist  {'name': 'Bitcoinist', 'lang': 'EN', 'img': 'h...   \n",
       "2         decrypt  {'name': 'Decrypt', 'lang': 'EN', 'img': 'http...   \n",
       "3  cryptobriefing  {'name': 'Crypto Briefing', 'lang': 'EN', 'img...   \n",
       "4     cryptoslate  {'name': 'CryptoSlate', 'lang': 'EN', 'img': '...   \n",
       "\n",
       "                                                tags  \\\n",
       "0       Bitcoin|Opinion|argentina|bitcoin|safe haven   \n",
       "1  Bitcoin|Bitcoin Price|News|News teaser|bitcoin...   \n",
       "2  Cryptocurrencies|bitcoin|cryptocurrency|Market...   \n",
       "3               News|Bitcoin|Government|Politics|USA   \n",
       "4                         Analysis|EOS|Ethereum|Tron   \n",
       "\n",
       "                                               title  upvotes  \\\n",
       "0  Argentine Bitcoin Premium Shows Relativity of ...        0   \n",
       "1  Brandt’s Momentum Indicator Highlights Potenti...        0   \n",
       "2  Bitcoin peer-to-peer exchange Paxful sees 70 p...        0   \n",
       "3  Crypto Candidate Andrew Yang Talks Up Bitcoin ...        0   \n",
       "4  Is TRON’s Sun Network a marketing gimmick? Com...        0   \n",
       "\n",
       "                                                 url  \n",
       "0  https://www.newsbtc.com/2019/08/15/argentine-b...  \n",
       "1  https://bitcoinist.com/brandts-momentum-indica...  \n",
       "2  https://decrypt.co/8442/bitcoin-peer-to-peer-e...  \n",
       "3  https://cryptobriefing.com/crypto-andrew-yang-...  \n",
       "4  https://cryptoslate.com/tron-sun-network-marke...  "
      ]
     },
     "execution_count": 11,
     "metadata": {},
     "output_type": "execute_result"
    }
   ],
   "source": [
    "df.head()"
   ]
  },
  {
   "cell_type": "code",
   "execution_count": 12,
   "metadata": {
    "ExecuteTime": {
     "end_time": "2019-08-21T18:45:49.189855Z",
     "start_time": "2019-08-21T18:45:49.185508Z"
    }
   },
   "outputs": [
    {
     "data": {
      "text/plain": [
       "Unnamed: 0       int64\n",
       "body            object\n",
       "categories      object\n",
       "date_time       object\n",
       "downvotes        int64\n",
       "guid            object\n",
       "id               int64\n",
       "imageurl        object\n",
       "lang            object\n",
       "published_on     int64\n",
       "source          object\n",
       "source_info     object\n",
       "tags            object\n",
       "title           object\n",
       "upvotes          int64\n",
       "url             object\n",
       "dtype: object"
      ]
     },
     "execution_count": 12,
     "metadata": {},
     "output_type": "execute_result"
    }
   ],
   "source": [
    "df.dtypes #checking if columns have correct data type"
   ]
  },
  {
   "cell_type": "code",
   "execution_count": 13,
   "metadata": {
    "ExecuteTime": {
     "end_time": "2019-08-21T18:45:49.294672Z",
     "start_time": "2019-08-21T18:45:49.237894Z"
    }
   },
   "outputs": [],
   "source": [
    "df.id = df.id.astype(str)#changing ID to str"
   ]
  },
  {
   "cell_type": "code",
   "execution_count": 14,
   "metadata": {
    "ExecuteTime": {
     "end_time": "2019-08-21T18:45:49.349356Z",
     "start_time": "2019-08-21T18:45:49.344105Z"
    }
   },
   "outputs": [
    {
     "data": {
      "text/plain": [
       "Unnamed: 0       int64\n",
       "body            object\n",
       "categories      object\n",
       "date_time       object\n",
       "downvotes        int64\n",
       "guid            object\n",
       "id              object\n",
       "imageurl        object\n",
       "lang            object\n",
       "published_on     int64\n",
       "source          object\n",
       "source_info     object\n",
       "tags            object\n",
       "title           object\n",
       "upvotes          int64\n",
       "url             object\n",
       "dtype: object"
      ]
     },
     "execution_count": 14,
     "metadata": {},
     "output_type": "execute_result"
    }
   ],
   "source": [
    "df.dtypes #checking if change is successful"
   ]
  },
  {
   "cell_type": "code",
   "execution_count": 15,
   "metadata": {
    "ExecuteTime": {
     "end_time": "2019-08-21T18:45:49.402098Z",
     "start_time": "2019-08-21T18:45:49.398627Z"
    }
   },
   "outputs": [
    {
     "data": {
      "text/plain": [
       "Index(['Unnamed: 0', 'body', 'categories', 'date_time', 'downvotes', 'guid',\n",
       "       'id', 'imageurl', 'lang', 'published_on', 'source', 'source_info',\n",
       "       'tags', 'title', 'upvotes', 'url'],\n",
       "      dtype='object')"
      ]
     },
     "execution_count": 15,
     "metadata": {},
     "output_type": "execute_result"
    }
   ],
   "source": [
    "#dropping columns\n",
    "df.columns"
   ]
  },
  {
   "cell_type": "code",
   "execution_count": 16,
   "metadata": {
    "ExecuteTime": {
     "end_time": "2019-08-21T18:45:49.541178Z",
     "start_time": "2019-08-21T18:45:49.453371Z"
    }
   },
   "outputs": [],
   "source": [
    "dropcol = ['Unnamed: 0','downvotes','guid','imageurl','lang','source_info','upvotes','url']\n",
    "\n",
    "df_analysis = df.drop(dropcol,axis=1)"
   ]
  },
  {
   "cell_type": "code",
   "execution_count": 17,
   "metadata": {
    "ExecuteTime": {
     "end_time": "2019-08-21T18:45:49.634826Z",
     "start_time": "2019-08-21T18:45:49.613307Z"
    }
   },
   "outputs": [],
   "source": [
    "#remove duplicate articles\n",
    "\n",
    "df_analysis.drop_duplicates('id',inplace = True)"
   ]
  },
  {
   "cell_type": "code",
   "execution_count": 18,
   "metadata": {
    "ExecuteTime": {
     "end_time": "2019-08-21T18:45:49.716257Z",
     "start_time": "2019-08-21T18:45:49.712331Z"
    }
   },
   "outputs": [
    {
     "data": {
      "text/plain": [
       "(45473, 8)"
      ]
     },
     "execution_count": 18,
     "metadata": {},
     "output_type": "execute_result"
    }
   ],
   "source": [
    "df_analysis.shape #52257 unique articles"
   ]
  },
  {
   "cell_type": "code",
   "execution_count": 19,
   "metadata": {
    "ExecuteTime": {
     "end_time": "2019-08-21T18:45:49.796932Z",
     "start_time": "2019-08-21T18:45:49.788028Z"
    }
   },
   "outputs": [
    {
     "data": {
      "text/html": [
       "<div>\n",
       "<style scoped>\n",
       "    .dataframe tbody tr th:only-of-type {\n",
       "        vertical-align: middle;\n",
       "    }\n",
       "\n",
       "    .dataframe tbody tr th {\n",
       "        vertical-align: top;\n",
       "    }\n",
       "\n",
       "    .dataframe thead th {\n",
       "        text-align: right;\n",
       "    }\n",
       "</style>\n",
       "<table border=\"1\" class=\"dataframe\">\n",
       "  <thead>\n",
       "    <tr style=\"text-align: right;\">\n",
       "      <th></th>\n",
       "      <th>body</th>\n",
       "      <th>title</th>\n",
       "    </tr>\n",
       "  </thead>\n",
       "  <tbody>\n",
       "    <tr>\n",
       "      <th>0</th>\n",
       "      <td>Bitcoin has been trading for a premium of betw...</td>\n",
       "      <td>Argentine Bitcoin Premium Shows Relativity of ...</td>\n",
       "    </tr>\n",
       "    <tr>\n",
       "      <th>1</th>\n",
       "      <td>Bitcoin’s market valuation has already made so...</td>\n",
       "      <td>Brandt’s Momentum Indicator Highlights Potenti...</td>\n",
       "    </tr>\n",
       "    <tr>\n",
       "      <th>2</th>\n",
       "      <td>Paxful’s peer-to-peer Bitcoin exchange got a b...</td>\n",
       "      <td>Bitcoin peer-to-peer exchange Paxful sees 70 p...</td>\n",
       "    </tr>\n",
       "    <tr>\n",
       "      <th>3</th>\n",
       "      <td>Move over, John McAfee, there&amp;#8217;s a new cr...</td>\n",
       "      <td>Crypto Candidate Andrew Yang Talks Up Bitcoin ...</td>\n",
       "    </tr>\n",
       "    <tr>\n",
       "      <th>4</th>\n",
       "      <td>TRON announced the latest release of its side ...</td>\n",
       "      <td>Is TRON’s Sun Network a marketing gimmick? Com...</td>\n",
       "    </tr>\n",
       "  </tbody>\n",
       "</table>\n",
       "</div>"
      ],
      "text/plain": [
       "                                                body  \\\n",
       "0  Bitcoin has been trading for a premium of betw...   \n",
       "1  Bitcoin’s market valuation has already made so...   \n",
       "2  Paxful’s peer-to-peer Bitcoin exchange got a b...   \n",
       "3  Move over, John McAfee, there&#8217;s a new cr...   \n",
       "4  TRON announced the latest release of its side ...   \n",
       "\n",
       "                                               title  \n",
       "0  Argentine Bitcoin Premium Shows Relativity of ...  \n",
       "1  Brandt’s Momentum Indicator Highlights Potenti...  \n",
       "2  Bitcoin peer-to-peer exchange Paxful sees 70 p...  \n",
       "3  Crypto Candidate Andrew Yang Talks Up Bitcoin ...  \n",
       "4  Is TRON’s Sun Network a marketing gimmick? Com...  "
      ]
     },
     "execution_count": 19,
     "metadata": {},
     "output_type": "execute_result"
    }
   ],
   "source": [
    "df_analysis[['body','title']].head()"
   ]
  },
  {
   "cell_type": "code",
   "execution_count": 20,
   "metadata": {
    "ExecuteTime": {
     "end_time": "2019-08-21T18:45:49.885254Z",
     "start_time": "2019-08-21T18:45:49.868264Z"
    }
   },
   "outputs": [],
   "source": [
    "df_analysis = df_analysis.reset_index()"
   ]
  },
  {
   "cell_type": "code",
   "execution_count": 21,
   "metadata": {
    "ExecuteTime": {
     "end_time": "2019-08-21T18:45:49.967400Z",
     "start_time": "2019-08-21T18:45:49.958371Z"
    }
   },
   "outputs": [],
   "source": [
    "df_analysis = df_analysis.drop(['index'],axis = 1)"
   ]
  },
  {
   "cell_type": "code",
   "execution_count": 22,
   "metadata": {
    "ExecuteTime": {
     "end_time": "2019-08-21T18:45:50.044232Z",
     "start_time": "2019-08-21T18:45:50.035456Z"
    }
   },
   "outputs": [
    {
     "data": {
      "text/html": [
       "<div>\n",
       "<style scoped>\n",
       "    .dataframe tbody tr th:only-of-type {\n",
       "        vertical-align: middle;\n",
       "    }\n",
       "\n",
       "    .dataframe tbody tr th {\n",
       "        vertical-align: top;\n",
       "    }\n",
       "\n",
       "    .dataframe thead th {\n",
       "        text-align: right;\n",
       "    }\n",
       "</style>\n",
       "<table border=\"1\" class=\"dataframe\">\n",
       "  <thead>\n",
       "    <tr style=\"text-align: right;\">\n",
       "      <th></th>\n",
       "      <th>body</th>\n",
       "      <th>categories</th>\n",
       "      <th>date_time</th>\n",
       "      <th>id</th>\n",
       "      <th>published_on</th>\n",
       "      <th>source</th>\n",
       "      <th>tags</th>\n",
       "      <th>title</th>\n",
       "    </tr>\n",
       "  </thead>\n",
       "  <tbody>\n",
       "    <tr>\n",
       "      <th>0</th>\n",
       "      <td>Bitcoin has been trading for a premium of betw...</td>\n",
       "      <td>BTC|Market|Trading</td>\n",
       "      <td>2019-08-15 22:00:47</td>\n",
       "      <td>2813980</td>\n",
       "      <td>1565906447</td>\n",
       "      <td>newsbtc</td>\n",
       "      <td>Bitcoin|Opinion|argentina|bitcoin|safe haven</td>\n",
       "      <td>Argentine Bitcoin Premium Shows Relativity of ...</td>\n",
       "    </tr>\n",
       "    <tr>\n",
       "      <th>1</th>\n",
       "      <td>Bitcoin’s market valuation has already made so...</td>\n",
       "      <td>BTC|Trading|Market</td>\n",
       "      <td>2019-08-15 22:00:21</td>\n",
       "      <td>2813979</td>\n",
       "      <td>1565906421</td>\n",
       "      <td>bitcoinist</td>\n",
       "      <td>Bitcoin|Bitcoin Price|News|News teaser|bitcoin...</td>\n",
       "      <td>Brandt’s Momentum Indicator Highlights Potenti...</td>\n",
       "    </tr>\n",
       "    <tr>\n",
       "      <th>2</th>\n",
       "      <td>Paxful’s peer-to-peer Bitcoin exchange got a b...</td>\n",
       "      <td>BTC|Exchange|Trading|Fiat|Market</td>\n",
       "      <td>2019-08-15 21:55:41</td>\n",
       "      <td>2813832</td>\n",
       "      <td>1565906141</td>\n",
       "      <td>decrypt</td>\n",
       "      <td>Cryptocurrencies|bitcoin|cryptocurrency|Market...</td>\n",
       "      <td>Bitcoin peer-to-peer exchange Paxful sees 70 p...</td>\n",
       "    </tr>\n",
       "    <tr>\n",
       "      <th>3</th>\n",
       "      <td>Move over, John McAfee, there&amp;#8217;s a new cr...</td>\n",
       "      <td>BTC|Blockchain|Technology|Regulation</td>\n",
       "      <td>2019-08-15 21:21:14</td>\n",
       "      <td>2812410</td>\n",
       "      <td>1565904074</td>\n",
       "      <td>cryptobriefing</td>\n",
       "      <td>News|Bitcoin|Government|Politics|USA</td>\n",
       "      <td>Crypto Candidate Andrew Yang Talks Up Bitcoin ...</td>\n",
       "    </tr>\n",
       "    <tr>\n",
       "      <th>4</th>\n",
       "      <td>TRON announced the latest release of its side ...</td>\n",
       "      <td>ETH|Blockchain|BTC|Market</td>\n",
       "      <td>2019-08-15 21:19:06</td>\n",
       "      <td>2812411</td>\n",
       "      <td>1565903946</td>\n",
       "      <td>cryptoslate</td>\n",
       "      <td>Analysis|EOS|Ethereum|Tron</td>\n",
       "      <td>Is TRON’s Sun Network a marketing gimmick? Com...</td>\n",
       "    </tr>\n",
       "  </tbody>\n",
       "</table>\n",
       "</div>"
      ],
      "text/plain": [
       "                                                body  \\\n",
       "0  Bitcoin has been trading for a premium of betw...   \n",
       "1  Bitcoin’s market valuation has already made so...   \n",
       "2  Paxful’s peer-to-peer Bitcoin exchange got a b...   \n",
       "3  Move over, John McAfee, there&#8217;s a new cr...   \n",
       "4  TRON announced the latest release of its side ...   \n",
       "\n",
       "                             categories            date_time       id  \\\n",
       "0                    BTC|Market|Trading  2019-08-15 22:00:47  2813980   \n",
       "1                    BTC|Trading|Market  2019-08-15 22:00:21  2813979   \n",
       "2      BTC|Exchange|Trading|Fiat|Market  2019-08-15 21:55:41  2813832   \n",
       "3  BTC|Blockchain|Technology|Regulation  2019-08-15 21:21:14  2812410   \n",
       "4             ETH|Blockchain|BTC|Market  2019-08-15 21:19:06  2812411   \n",
       "\n",
       "   published_on          source  \\\n",
       "0    1565906447         newsbtc   \n",
       "1    1565906421      bitcoinist   \n",
       "2    1565906141         decrypt   \n",
       "3    1565904074  cryptobriefing   \n",
       "4    1565903946     cryptoslate   \n",
       "\n",
       "                                                tags  \\\n",
       "0       Bitcoin|Opinion|argentina|bitcoin|safe haven   \n",
       "1  Bitcoin|Bitcoin Price|News|News teaser|bitcoin...   \n",
       "2  Cryptocurrencies|bitcoin|cryptocurrency|Market...   \n",
       "3               News|Bitcoin|Government|Politics|USA   \n",
       "4                         Analysis|EOS|Ethereum|Tron   \n",
       "\n",
       "                                               title  \n",
       "0  Argentine Bitcoin Premium Shows Relativity of ...  \n",
       "1  Brandt’s Momentum Indicator Highlights Potenti...  \n",
       "2  Bitcoin peer-to-peer exchange Paxful sees 70 p...  \n",
       "3  Crypto Candidate Andrew Yang Talks Up Bitcoin ...  \n",
       "4  Is TRON’s Sun Network a marketing gimmick? Com...  "
      ]
     },
     "execution_count": 22,
     "metadata": {},
     "output_type": "execute_result"
    }
   ],
   "source": [
    "df_analysis.head()"
   ]
  },
  {
   "cell_type": "code",
   "execution_count": 23,
   "metadata": {
    "ExecuteTime": {
     "end_time": "2019-08-21T18:45:50.186544Z",
     "start_time": "2019-08-21T18:45:50.110341Z"
    }
   },
   "outputs": [],
   "source": [
    "#concat title and body together\n",
    "\n",
    "df_analysis[\"text\"] = df_analysis[\"title\"].map(str) + ' '+ df_analysis[\"body\"].map(str)"
   ]
  },
  {
   "cell_type": "code",
   "execution_count": 24,
   "metadata": {
    "ExecuteTime": {
     "end_time": "2019-08-21T18:45:50.271144Z",
     "start_time": "2019-08-21T18:45:50.259998Z"
    }
   },
   "outputs": [
    {
     "data": {
      "text/html": [
       "<div>\n",
       "<style scoped>\n",
       "    .dataframe tbody tr th:only-of-type {\n",
       "        vertical-align: middle;\n",
       "    }\n",
       "\n",
       "    .dataframe tbody tr th {\n",
       "        vertical-align: top;\n",
       "    }\n",
       "\n",
       "    .dataframe thead th {\n",
       "        text-align: right;\n",
       "    }\n",
       "</style>\n",
       "<table border=\"1\" class=\"dataframe\">\n",
       "  <thead>\n",
       "    <tr style=\"text-align: right;\">\n",
       "      <th></th>\n",
       "      <th>body</th>\n",
       "      <th>categories</th>\n",
       "      <th>date_time</th>\n",
       "      <th>id</th>\n",
       "      <th>published_on</th>\n",
       "      <th>source</th>\n",
       "      <th>tags</th>\n",
       "      <th>title</th>\n",
       "      <th>text</th>\n",
       "    </tr>\n",
       "  </thead>\n",
       "  <tbody>\n",
       "    <tr>\n",
       "      <th>0</th>\n",
       "      <td>Bitcoin has been trading for a premium of betw...</td>\n",
       "      <td>BTC|Market|Trading</td>\n",
       "      <td>2019-08-15 22:00:47</td>\n",
       "      <td>2813980</td>\n",
       "      <td>1565906447</td>\n",
       "      <td>newsbtc</td>\n",
       "      <td>Bitcoin|Opinion|argentina|bitcoin|safe haven</td>\n",
       "      <td>Argentine Bitcoin Premium Shows Relativity of ...</td>\n",
       "      <td>Argentine Bitcoin Premium Shows Relativity of ...</td>\n",
       "    </tr>\n",
       "    <tr>\n",
       "      <th>1</th>\n",
       "      <td>Bitcoin’s market valuation has already made so...</td>\n",
       "      <td>BTC|Trading|Market</td>\n",
       "      <td>2019-08-15 22:00:21</td>\n",
       "      <td>2813979</td>\n",
       "      <td>1565906421</td>\n",
       "      <td>bitcoinist</td>\n",
       "      <td>Bitcoin|Bitcoin Price|News|News teaser|bitcoin...</td>\n",
       "      <td>Brandt’s Momentum Indicator Highlights Potenti...</td>\n",
       "      <td>Brandt’s Momentum Indicator Highlights Potenti...</td>\n",
       "    </tr>\n",
       "    <tr>\n",
       "      <th>2</th>\n",
       "      <td>Paxful’s peer-to-peer Bitcoin exchange got a b...</td>\n",
       "      <td>BTC|Exchange|Trading|Fiat|Market</td>\n",
       "      <td>2019-08-15 21:55:41</td>\n",
       "      <td>2813832</td>\n",
       "      <td>1565906141</td>\n",
       "      <td>decrypt</td>\n",
       "      <td>Cryptocurrencies|bitcoin|cryptocurrency|Market...</td>\n",
       "      <td>Bitcoin peer-to-peer exchange Paxful sees 70 p...</td>\n",
       "      <td>Bitcoin peer-to-peer exchange Paxful sees 70 p...</td>\n",
       "    </tr>\n",
       "    <tr>\n",
       "      <th>3</th>\n",
       "      <td>Move over, John McAfee, there&amp;#8217;s a new cr...</td>\n",
       "      <td>BTC|Blockchain|Technology|Regulation</td>\n",
       "      <td>2019-08-15 21:21:14</td>\n",
       "      <td>2812410</td>\n",
       "      <td>1565904074</td>\n",
       "      <td>cryptobriefing</td>\n",
       "      <td>News|Bitcoin|Government|Politics|USA</td>\n",
       "      <td>Crypto Candidate Andrew Yang Talks Up Bitcoin ...</td>\n",
       "      <td>Crypto Candidate Andrew Yang Talks Up Bitcoin ...</td>\n",
       "    </tr>\n",
       "    <tr>\n",
       "      <th>4</th>\n",
       "      <td>TRON announced the latest release of its side ...</td>\n",
       "      <td>ETH|Blockchain|BTC|Market</td>\n",
       "      <td>2019-08-15 21:19:06</td>\n",
       "      <td>2812411</td>\n",
       "      <td>1565903946</td>\n",
       "      <td>cryptoslate</td>\n",
       "      <td>Analysis|EOS|Ethereum|Tron</td>\n",
       "      <td>Is TRON’s Sun Network a marketing gimmick? Com...</td>\n",
       "      <td>Is TRON’s Sun Network a marketing gimmick? Com...</td>\n",
       "    </tr>\n",
       "    <tr>\n",
       "      <th>5</th>\n",
       "      <td>Maryland has entered the early stages of what ...</td>\n",
       "      <td>ICO|BTC</td>\n",
       "      <td>2019-08-15 21:00:47</td>\n",
       "      <td>2811641</td>\n",
       "      <td>1565902847</td>\n",
       "      <td>livebitcoinnews</td>\n",
       "      <td>Bitcoin News|ICO|News|crypto fraud|Maryland|Texas</td>\n",
       "      <td>Maryland Initiates Operation Crypto Sweep to E...</td>\n",
       "      <td>Maryland Initiates Operation Crypto Sweep to E...</td>\n",
       "    </tr>\n",
       "    <tr>\n",
       "      <th>6</th>\n",
       "      <td>Bitcoin is not behaving like a safe-haven asse...</td>\n",
       "      <td>BTC|Trading|Business</td>\n",
       "      <td>2019-08-15 21:00:29</td>\n",
       "      <td>2811739</td>\n",
       "      <td>1565902829</td>\n",
       "      <td>bitcoinist</td>\n",
       "      <td>Bitcoin|News|Uncategorized|bitcoin|Dow Jones|T...</td>\n",
       "      <td>Bitcoin is Not Acting Like Safe-Haven: Ikigai ...</td>\n",
       "      <td>Bitcoin is Not Acting Like Safe-Haven: Ikigai ...</td>\n",
       "    </tr>\n",
       "    <tr>\n",
       "      <th>7</th>\n",
       "      <td>After facing a significant amount of downwards...</td>\n",
       "      <td>BTC|Trading</td>\n",
       "      <td>2019-08-15 21:00:14</td>\n",
       "      <td>2811642</td>\n",
       "      <td>1565902814</td>\n",
       "      <td>newsbtc</td>\n",
       "      <td>Bitcoin|Crypto|bitcoin|btc|crypto</td>\n",
       "      <td>Bitcoin May Soon Test 2019 Trend Line Below $9...</td>\n",
       "      <td>Bitcoin May Soon Test 2019 Trend Line Below $9...</td>\n",
       "    </tr>\n",
       "    <tr>\n",
       "      <th>8</th>\n",
       "      <td>Bitcoin cash price analysis reveals that Bitco...</td>\n",
       "      <td>Trading|BCH|Market|XRP|ETH</td>\n",
       "      <td>2019-08-15 20:57:36</td>\n",
       "      <td>2811590</td>\n",
       "      <td>1565902656</td>\n",
       "      <td>cryptopolitan</td>\n",
       "      <td>Bitcoin Cash Price|bch price|BCH price analysi...</td>\n",
       "      <td>Bitcoin Cash price analysis: BCH price hits $2...</td>\n",
       "      <td>Bitcoin Cash price analysis: BCH price hits $2...</td>\n",
       "    </tr>\n",
       "    <tr>\n",
       "      <th>9</th>\n",
       "      <td>On August 13, Samsung, the South Korean multin...</td>\n",
       "      <td>BCH|ETH|Blockchain|ICO</td>\n",
       "      <td>2019-08-15 20:45:51</td>\n",
       "      <td>2811057</td>\n",
       "      <td>1565901951</td>\n",
       "      <td>bitcoin.com</td>\n",
       "      <td>News|Apple|BCH|bitcoin cash|Bitcoin Core|Block...</td>\n",
       "      <td>Samsung Adds Bitcoin Support to Its Blockchain...</td>\n",
       "      <td>Samsung Adds Bitcoin Support to Its Blockchain...</td>\n",
       "    </tr>\n",
       "  </tbody>\n",
       "</table>\n",
       "</div>"
      ],
      "text/plain": [
       "                                                body  \\\n",
       "0  Bitcoin has been trading for a premium of betw...   \n",
       "1  Bitcoin’s market valuation has already made so...   \n",
       "2  Paxful’s peer-to-peer Bitcoin exchange got a b...   \n",
       "3  Move over, John McAfee, there&#8217;s a new cr...   \n",
       "4  TRON announced the latest release of its side ...   \n",
       "5  Maryland has entered the early stages of what ...   \n",
       "6  Bitcoin is not behaving like a safe-haven asse...   \n",
       "7  After facing a significant amount of downwards...   \n",
       "8  Bitcoin cash price analysis reveals that Bitco...   \n",
       "9  On August 13, Samsung, the South Korean multin...   \n",
       "\n",
       "                             categories            date_time       id  \\\n",
       "0                    BTC|Market|Trading  2019-08-15 22:00:47  2813980   \n",
       "1                    BTC|Trading|Market  2019-08-15 22:00:21  2813979   \n",
       "2      BTC|Exchange|Trading|Fiat|Market  2019-08-15 21:55:41  2813832   \n",
       "3  BTC|Blockchain|Technology|Regulation  2019-08-15 21:21:14  2812410   \n",
       "4             ETH|Blockchain|BTC|Market  2019-08-15 21:19:06  2812411   \n",
       "5                               ICO|BTC  2019-08-15 21:00:47  2811641   \n",
       "6                  BTC|Trading|Business  2019-08-15 21:00:29  2811739   \n",
       "7                           BTC|Trading  2019-08-15 21:00:14  2811642   \n",
       "8            Trading|BCH|Market|XRP|ETH  2019-08-15 20:57:36  2811590   \n",
       "9                BCH|ETH|Blockchain|ICO  2019-08-15 20:45:51  2811057   \n",
       "\n",
       "   published_on           source  \\\n",
       "0    1565906447          newsbtc   \n",
       "1    1565906421       bitcoinist   \n",
       "2    1565906141          decrypt   \n",
       "3    1565904074   cryptobriefing   \n",
       "4    1565903946      cryptoslate   \n",
       "5    1565902847  livebitcoinnews   \n",
       "6    1565902829       bitcoinist   \n",
       "7    1565902814          newsbtc   \n",
       "8    1565902656    cryptopolitan   \n",
       "9    1565901951      bitcoin.com   \n",
       "\n",
       "                                                tags  \\\n",
       "0       Bitcoin|Opinion|argentina|bitcoin|safe haven   \n",
       "1  Bitcoin|Bitcoin Price|News|News teaser|bitcoin...   \n",
       "2  Cryptocurrencies|bitcoin|cryptocurrency|Market...   \n",
       "3               News|Bitcoin|Government|Politics|USA   \n",
       "4                         Analysis|EOS|Ethereum|Tron   \n",
       "5  Bitcoin News|ICO|News|crypto fraud|Maryland|Texas   \n",
       "6  Bitcoin|News|Uncategorized|bitcoin|Dow Jones|T...   \n",
       "7                  Bitcoin|Crypto|bitcoin|btc|crypto   \n",
       "8  Bitcoin Cash Price|bch price|BCH price analysi...   \n",
       "9  News|Apple|BCH|bitcoin cash|Bitcoin Core|Block...   \n",
       "\n",
       "                                               title  \\\n",
       "0  Argentine Bitcoin Premium Shows Relativity of ...   \n",
       "1  Brandt’s Momentum Indicator Highlights Potenti...   \n",
       "2  Bitcoin peer-to-peer exchange Paxful sees 70 p...   \n",
       "3  Crypto Candidate Andrew Yang Talks Up Bitcoin ...   \n",
       "4  Is TRON’s Sun Network a marketing gimmick? Com...   \n",
       "5  Maryland Initiates Operation Crypto Sweep to E...   \n",
       "6  Bitcoin is Not Acting Like Safe-Haven: Ikigai ...   \n",
       "7  Bitcoin May Soon Test 2019 Trend Line Below $9...   \n",
       "8  Bitcoin Cash price analysis: BCH price hits $2...   \n",
       "9  Samsung Adds Bitcoin Support to Its Blockchain...   \n",
       "\n",
       "                                                text  \n",
       "0  Argentine Bitcoin Premium Shows Relativity of ...  \n",
       "1  Brandt’s Momentum Indicator Highlights Potenti...  \n",
       "2  Bitcoin peer-to-peer exchange Paxful sees 70 p...  \n",
       "3  Crypto Candidate Andrew Yang Talks Up Bitcoin ...  \n",
       "4  Is TRON’s Sun Network a marketing gimmick? Com...  \n",
       "5  Maryland Initiates Operation Crypto Sweep to E...  \n",
       "6  Bitcoin is Not Acting Like Safe-Haven: Ikigai ...  \n",
       "7  Bitcoin May Soon Test 2019 Trend Line Below $9...  \n",
       "8  Bitcoin Cash price analysis: BCH price hits $2...  \n",
       "9  Samsung Adds Bitcoin Support to Its Blockchain...  "
      ]
     },
     "execution_count": 24,
     "metadata": {},
     "output_type": "execute_result"
    }
   ],
   "source": [
    "df_analysis.head(10)"
   ]
  },
  {
   "cell_type": "markdown",
   "metadata": {},
   "source": [
    "# 2. Preprocessing"
   ]
  },
  {
   "cell_type": "code",
   "execution_count": 25,
   "metadata": {
    "ExecuteTime": {
     "end_time": "2019-08-21T18:45:51.417230Z",
     "start_time": "2019-08-21T18:45:50.344917Z"
    }
   },
   "outputs": [],
   "source": [
    "#need to do some regrex cleaning on text column\n",
    "#Regex to get rid of numbers so that only ingredients are left\n",
    "\n",
    "#use an apply function to apply regrex to each row in nlp_ingredients\n",
    "df_analysis['text'] = df_analysis['text'].apply(lambda x: re.sub(r'\\b\\d+\\b', '', x))\n",
    "\n",
    "#remove punctuation\n",
    "df_analysis['text'] = df_analysis['text'].apply(lambda x: re.sub(r'[^\\w\\s]','',x))\n",
    "\n",
    "#make all ingredients lowercase\n",
    "df_analysis['text'] = df_analysis['text'].apply(lambda x: x.lower())\n",
    "\n"
   ]
  },
  {
   "cell_type": "code",
   "execution_count": 26,
   "metadata": {
    "ExecuteTime": {
     "end_time": "2019-08-21T18:45:51.503603Z",
     "start_time": "2019-08-21T18:45:51.498293Z"
    }
   },
   "outputs": [
    {
     "data": {
      "text/plain": [
       "['i',\n",
       " 'me',\n",
       " 'my',\n",
       " 'myself',\n",
       " 'we',\n",
       " 'our',\n",
       " 'ours',\n",
       " 'ourselves',\n",
       " 'you',\n",
       " \"you're\",\n",
       " \"you've\",\n",
       " \"you'll\",\n",
       " \"you'd\",\n",
       " 'your',\n",
       " 'yours',\n",
       " 'yourself',\n",
       " 'yourselves',\n",
       " 'he',\n",
       " 'him',\n",
       " 'his',\n",
       " 'himself',\n",
       " 'she',\n",
       " \"she's\",\n",
       " 'her',\n",
       " 'hers',\n",
       " 'herself',\n",
       " 'it',\n",
       " \"it's\",\n",
       " 'its',\n",
       " 'itself',\n",
       " 'they',\n",
       " 'them',\n",
       " 'their',\n",
       " 'theirs',\n",
       " 'themselves',\n",
       " 'what',\n",
       " 'which',\n",
       " 'who',\n",
       " 'whom',\n",
       " 'this',\n",
       " 'that',\n",
       " \"that'll\",\n",
       " 'these',\n",
       " 'those',\n",
       " 'am',\n",
       " 'is',\n",
       " 'are',\n",
       " 'was',\n",
       " 'were',\n",
       " 'be',\n",
       " 'been',\n",
       " 'being',\n",
       " 'have',\n",
       " 'has',\n",
       " 'had',\n",
       " 'having',\n",
       " 'do',\n",
       " 'does',\n",
       " 'did',\n",
       " 'doing',\n",
       " 'a',\n",
       " 'an',\n",
       " 'the',\n",
       " 'and',\n",
       " 'but',\n",
       " 'if',\n",
       " 'or',\n",
       " 'because',\n",
       " 'as',\n",
       " 'until',\n",
       " 'while',\n",
       " 'of',\n",
       " 'at',\n",
       " 'by',\n",
       " 'for',\n",
       " 'with',\n",
       " 'about',\n",
       " 'against',\n",
       " 'between',\n",
       " 'into',\n",
       " 'through',\n",
       " 'during',\n",
       " 'before',\n",
       " 'after',\n",
       " 'above',\n",
       " 'below',\n",
       " 'to',\n",
       " 'from',\n",
       " 'up',\n",
       " 'down',\n",
       " 'in',\n",
       " 'out',\n",
       " 'on',\n",
       " 'off',\n",
       " 'over',\n",
       " 'under',\n",
       " 'again',\n",
       " 'further',\n",
       " 'then',\n",
       " 'once',\n",
       " 'here',\n",
       " 'there',\n",
       " 'when',\n",
       " 'where',\n",
       " 'why',\n",
       " 'how',\n",
       " 'all',\n",
       " 'any',\n",
       " 'both',\n",
       " 'each',\n",
       " 'few',\n",
       " 'more',\n",
       " 'most',\n",
       " 'other',\n",
       " 'some',\n",
       " 'such',\n",
       " 'no',\n",
       " 'nor',\n",
       " 'not',\n",
       " 'only',\n",
       " 'own',\n",
       " 'same',\n",
       " 'so',\n",
       " 'than',\n",
       " 'too',\n",
       " 'very',\n",
       " 's',\n",
       " 't',\n",
       " 'can',\n",
       " 'will',\n",
       " 'just',\n",
       " 'don',\n",
       " \"don't\",\n",
       " 'should',\n",
       " \"should've\",\n",
       " 'now',\n",
       " 'd',\n",
       " 'll',\n",
       " 'm',\n",
       " 'o',\n",
       " 're',\n",
       " 've',\n",
       " 'y',\n",
       " 'ain',\n",
       " 'aren',\n",
       " \"aren't\",\n",
       " 'couldn',\n",
       " \"couldn't\",\n",
       " 'didn',\n",
       " \"didn't\",\n",
       " 'doesn',\n",
       " \"doesn't\",\n",
       " 'hadn',\n",
       " \"hadn't\",\n",
       " 'hasn',\n",
       " \"hasn't\",\n",
       " 'haven',\n",
       " \"haven't\",\n",
       " 'isn',\n",
       " \"isn't\",\n",
       " 'ma',\n",
       " 'mightn',\n",
       " \"mightn't\",\n",
       " 'mustn',\n",
       " \"mustn't\",\n",
       " 'needn',\n",
       " \"needn't\",\n",
       " 'shan',\n",
       " \"shan't\",\n",
       " 'shouldn',\n",
       " \"shouldn't\",\n",
       " 'wasn',\n",
       " \"wasn't\",\n",
       " 'weren',\n",
       " \"weren't\",\n",
       " 'won',\n",
       " \"won't\",\n",
       " 'wouldn',\n",
       " \"wouldn't\"]"
      ]
     },
     "execution_count": 26,
     "metadata": {},
     "output_type": "execute_result"
    }
   ],
   "source": [
    "#removing stop words, need to be careful, stop words such as very, not etc are valuable for sentiment analysis\n",
    "\n",
    "stop = stopwords.words('english')\n",
    "\n",
    "#need to manually add and remove stopwords.\n",
    "\n",
    "#against, above, below, down, up, no, not \n",
    "stop\n",
    "\n",
    "#for sentiment analysis, first round, will not remove stop words to see initial \n",
    "\n",
    "#df_analysis = df_analysis['text'].apply(lambda x: [item for item in x if item not in stop])"
   ]
  },
  {
   "cell_type": "code",
   "execution_count": 27,
   "metadata": {
    "ExecuteTime": {
     "end_time": "2019-08-21T18:45:51.586624Z",
     "start_time": "2019-08-21T18:45:51.575983Z"
    },
    "scrolled": false
   },
   "outputs": [
    {
     "data": {
      "text/html": [
       "<div>\n",
       "<style scoped>\n",
       "    .dataframe tbody tr th:only-of-type {\n",
       "        vertical-align: middle;\n",
       "    }\n",
       "\n",
       "    .dataframe tbody tr th {\n",
       "        vertical-align: top;\n",
       "    }\n",
       "\n",
       "    .dataframe thead th {\n",
       "        text-align: right;\n",
       "    }\n",
       "</style>\n",
       "<table border=\"1\" class=\"dataframe\">\n",
       "  <thead>\n",
       "    <tr style=\"text-align: right;\">\n",
       "      <th></th>\n",
       "      <th>body</th>\n",
       "      <th>categories</th>\n",
       "      <th>date_time</th>\n",
       "      <th>id</th>\n",
       "      <th>published_on</th>\n",
       "      <th>source</th>\n",
       "      <th>tags</th>\n",
       "      <th>title</th>\n",
       "      <th>text</th>\n",
       "    </tr>\n",
       "  </thead>\n",
       "  <tbody>\n",
       "    <tr>\n",
       "      <th>0</th>\n",
       "      <td>Bitcoin has been trading for a premium of betw...</td>\n",
       "      <td>BTC|Market|Trading</td>\n",
       "      <td>2019-08-15 22:00:47</td>\n",
       "      <td>2813980</td>\n",
       "      <td>1565906447</td>\n",
       "      <td>newsbtc</td>\n",
       "      <td>Bitcoin|Opinion|argentina|bitcoin|safe haven</td>\n",
       "      <td>Argentine Bitcoin Premium Shows Relativity of ...</td>\n",
       "      <td>argentine bitcoin premium shows relativity of ...</td>\n",
       "    </tr>\n",
       "    <tr>\n",
       "      <th>1</th>\n",
       "      <td>Bitcoin’s market valuation has already made so...</td>\n",
       "      <td>BTC|Trading|Market</td>\n",
       "      <td>2019-08-15 22:00:21</td>\n",
       "      <td>2813979</td>\n",
       "      <td>1565906421</td>\n",
       "      <td>bitcoinist</td>\n",
       "      <td>Bitcoin|Bitcoin Price|News|News teaser|bitcoin...</td>\n",
       "      <td>Brandt’s Momentum Indicator Highlights Potenti...</td>\n",
       "      <td>brandts momentum indicator highlights potentia...</td>\n",
       "    </tr>\n",
       "    <tr>\n",
       "      <th>2</th>\n",
       "      <td>Paxful’s peer-to-peer Bitcoin exchange got a b...</td>\n",
       "      <td>BTC|Exchange|Trading|Fiat|Market</td>\n",
       "      <td>2019-08-15 21:55:41</td>\n",
       "      <td>2813832</td>\n",
       "      <td>1565906141</td>\n",
       "      <td>decrypt</td>\n",
       "      <td>Cryptocurrencies|bitcoin|cryptocurrency|Market...</td>\n",
       "      <td>Bitcoin peer-to-peer exchange Paxful sees 70 p...</td>\n",
       "      <td>bitcoin peertopeer exchange paxful sees  perce...</td>\n",
       "    </tr>\n",
       "    <tr>\n",
       "      <th>3</th>\n",
       "      <td>Move over, John McAfee, there&amp;#8217;s a new cr...</td>\n",
       "      <td>BTC|Blockchain|Technology|Regulation</td>\n",
       "      <td>2019-08-15 21:21:14</td>\n",
       "      <td>2812410</td>\n",
       "      <td>1565904074</td>\n",
       "      <td>cryptobriefing</td>\n",
       "      <td>News|Bitcoin|Government|Politics|USA</td>\n",
       "      <td>Crypto Candidate Andrew Yang Talks Up Bitcoin ...</td>\n",
       "      <td>crypto candidate andrew yang talks up bitcoin ...</td>\n",
       "    </tr>\n",
       "    <tr>\n",
       "      <th>4</th>\n",
       "      <td>TRON announced the latest release of its side ...</td>\n",
       "      <td>ETH|Blockchain|BTC|Market</td>\n",
       "      <td>2019-08-15 21:19:06</td>\n",
       "      <td>2812411</td>\n",
       "      <td>1565903946</td>\n",
       "      <td>cryptoslate</td>\n",
       "      <td>Analysis|EOS|Ethereum|Tron</td>\n",
       "      <td>Is TRON’s Sun Network a marketing gimmick? Com...</td>\n",
       "      <td>is trons sun network a marketing gimmick compa...</td>\n",
       "    </tr>\n",
       "  </tbody>\n",
       "</table>\n",
       "</div>"
      ],
      "text/plain": [
       "                                                body  \\\n",
       "0  Bitcoin has been trading for a premium of betw...   \n",
       "1  Bitcoin’s market valuation has already made so...   \n",
       "2  Paxful’s peer-to-peer Bitcoin exchange got a b...   \n",
       "3  Move over, John McAfee, there&#8217;s a new cr...   \n",
       "4  TRON announced the latest release of its side ...   \n",
       "\n",
       "                             categories            date_time       id  \\\n",
       "0                    BTC|Market|Trading  2019-08-15 22:00:47  2813980   \n",
       "1                    BTC|Trading|Market  2019-08-15 22:00:21  2813979   \n",
       "2      BTC|Exchange|Trading|Fiat|Market  2019-08-15 21:55:41  2813832   \n",
       "3  BTC|Blockchain|Technology|Regulation  2019-08-15 21:21:14  2812410   \n",
       "4             ETH|Blockchain|BTC|Market  2019-08-15 21:19:06  2812411   \n",
       "\n",
       "   published_on          source  \\\n",
       "0    1565906447         newsbtc   \n",
       "1    1565906421      bitcoinist   \n",
       "2    1565906141         decrypt   \n",
       "3    1565904074  cryptobriefing   \n",
       "4    1565903946     cryptoslate   \n",
       "\n",
       "                                                tags  \\\n",
       "0       Bitcoin|Opinion|argentina|bitcoin|safe haven   \n",
       "1  Bitcoin|Bitcoin Price|News|News teaser|bitcoin...   \n",
       "2  Cryptocurrencies|bitcoin|cryptocurrency|Market...   \n",
       "3               News|Bitcoin|Government|Politics|USA   \n",
       "4                         Analysis|EOS|Ethereum|Tron   \n",
       "\n",
       "                                               title  \\\n",
       "0  Argentine Bitcoin Premium Shows Relativity of ...   \n",
       "1  Brandt’s Momentum Indicator Highlights Potenti...   \n",
       "2  Bitcoin peer-to-peer exchange Paxful sees 70 p...   \n",
       "3  Crypto Candidate Andrew Yang Talks Up Bitcoin ...   \n",
       "4  Is TRON’s Sun Network a marketing gimmick? Com...   \n",
       "\n",
       "                                                text  \n",
       "0  argentine bitcoin premium shows relativity of ...  \n",
       "1  brandts momentum indicator highlights potentia...  \n",
       "2  bitcoin peertopeer exchange paxful sees  perce...  \n",
       "3  crypto candidate andrew yang talks up bitcoin ...  \n",
       "4  is trons sun network a marketing gimmick compa...  "
      ]
     },
     "execution_count": 27,
     "metadata": {},
     "output_type": "execute_result"
    }
   ],
   "source": [
    "df_analysis.head()"
   ]
  },
  {
   "cell_type": "code",
   "execution_count": 28,
   "metadata": {
    "ExecuteTime": {
     "end_time": "2019-08-21T18:45:51.667442Z",
     "start_time": "2019-08-21T18:45:51.662355Z"
    },
    "scrolled": true
   },
   "outputs": [
    {
     "data": {
      "text/plain": [
       "'2019-08-15 22:00:47'"
      ]
     },
     "execution_count": 28,
     "metadata": {},
     "output_type": "execute_result"
    }
   ],
   "source": [
    "df_analysis.date_time[0]"
   ]
  },
  {
   "cell_type": "code",
   "execution_count": 29,
   "metadata": {
    "ExecuteTime": {
     "end_time": "2019-08-21T18:45:51.774370Z",
     "start_time": "2019-08-21T18:45:51.747355Z"
    }
   },
   "outputs": [],
   "source": [
    "#Create a year_month column\n",
    "df_analysis['year_month'] = df_analysis['date_time'].str[0:7]\n",
    "#Create a year_month_day column\n",
    "df_analysis['year_month_day'] = df_analysis['date_time'].str[0:10]\n",
    "\n",
    "\n",
    "\n",
    "\n",
    "\n"
   ]
  },
  {
   "cell_type": "code",
   "execution_count": 30,
   "metadata": {
    "ExecuteTime": {
     "end_time": "2019-08-21T18:45:51.877147Z",
     "start_time": "2019-08-21T18:45:51.854567Z"
    }
   },
   "outputs": [],
   "source": [
    "#convert data_time back to date_time object\n",
    "df_analysis['date_time'] = pd.to_datetime(df_analysis['date_time'])"
   ]
  },
  {
   "cell_type": "code",
   "execution_count": 31,
   "metadata": {
    "ExecuteTime": {
     "end_time": "2019-08-21T18:45:52.170819Z",
     "start_time": "2019-08-21T18:45:51.954979Z"
    }
   },
   "outputs": [],
   "source": [
    "#Create year_week column\n",
    "df_analysis['date_time_week'] = df_analysis.date_time.dt.strftime(\"%Y-%W\")"
   ]
  },
  {
   "cell_type": "code",
   "execution_count": 32,
   "metadata": {
    "ExecuteTime": {
     "end_time": "2019-08-21T18:45:52.956805Z",
     "start_time": "2019-08-21T18:45:52.943808Z"
    }
   },
   "outputs": [
    {
     "data": {
      "text/html": [
       "<div>\n",
       "<style scoped>\n",
       "    .dataframe tbody tr th:only-of-type {\n",
       "        vertical-align: middle;\n",
       "    }\n",
       "\n",
       "    .dataframe tbody tr th {\n",
       "        vertical-align: top;\n",
       "    }\n",
       "\n",
       "    .dataframe thead th {\n",
       "        text-align: right;\n",
       "    }\n",
       "</style>\n",
       "<table border=\"1\" class=\"dataframe\">\n",
       "  <thead>\n",
       "    <tr style=\"text-align: right;\">\n",
       "      <th></th>\n",
       "      <th>body</th>\n",
       "      <th>categories</th>\n",
       "      <th>date_time</th>\n",
       "      <th>id</th>\n",
       "      <th>published_on</th>\n",
       "      <th>source</th>\n",
       "      <th>tags</th>\n",
       "      <th>title</th>\n",
       "      <th>text</th>\n",
       "      <th>year_month</th>\n",
       "      <th>year_month_day</th>\n",
       "      <th>date_time_week</th>\n",
       "    </tr>\n",
       "  </thead>\n",
       "  <tbody>\n",
       "    <tr>\n",
       "      <th>0</th>\n",
       "      <td>Bitcoin has been trading for a premium of betw...</td>\n",
       "      <td>BTC|Market|Trading</td>\n",
       "      <td>2019-08-15 22:00:47</td>\n",
       "      <td>2813980</td>\n",
       "      <td>1565906447</td>\n",
       "      <td>newsbtc</td>\n",
       "      <td>Bitcoin|Opinion|argentina|bitcoin|safe haven</td>\n",
       "      <td>Argentine Bitcoin Premium Shows Relativity of ...</td>\n",
       "      <td>argentine bitcoin premium shows relativity of ...</td>\n",
       "      <td>2019-08</td>\n",
       "      <td>2019-08-15</td>\n",
       "      <td>2019-32</td>\n",
       "    </tr>\n",
       "    <tr>\n",
       "      <th>1</th>\n",
       "      <td>Bitcoin’s market valuation has already made so...</td>\n",
       "      <td>BTC|Trading|Market</td>\n",
       "      <td>2019-08-15 22:00:21</td>\n",
       "      <td>2813979</td>\n",
       "      <td>1565906421</td>\n",
       "      <td>bitcoinist</td>\n",
       "      <td>Bitcoin|Bitcoin Price|News|News teaser|bitcoin...</td>\n",
       "      <td>Brandt’s Momentum Indicator Highlights Potenti...</td>\n",
       "      <td>brandts momentum indicator highlights potentia...</td>\n",
       "      <td>2019-08</td>\n",
       "      <td>2019-08-15</td>\n",
       "      <td>2019-32</td>\n",
       "    </tr>\n",
       "    <tr>\n",
       "      <th>2</th>\n",
       "      <td>Paxful’s peer-to-peer Bitcoin exchange got a b...</td>\n",
       "      <td>BTC|Exchange|Trading|Fiat|Market</td>\n",
       "      <td>2019-08-15 21:55:41</td>\n",
       "      <td>2813832</td>\n",
       "      <td>1565906141</td>\n",
       "      <td>decrypt</td>\n",
       "      <td>Cryptocurrencies|bitcoin|cryptocurrency|Market...</td>\n",
       "      <td>Bitcoin peer-to-peer exchange Paxful sees 70 p...</td>\n",
       "      <td>bitcoin peertopeer exchange paxful sees  perce...</td>\n",
       "      <td>2019-08</td>\n",
       "      <td>2019-08-15</td>\n",
       "      <td>2019-32</td>\n",
       "    </tr>\n",
       "    <tr>\n",
       "      <th>3</th>\n",
       "      <td>Move over, John McAfee, there&amp;#8217;s a new cr...</td>\n",
       "      <td>BTC|Blockchain|Technology|Regulation</td>\n",
       "      <td>2019-08-15 21:21:14</td>\n",
       "      <td>2812410</td>\n",
       "      <td>1565904074</td>\n",
       "      <td>cryptobriefing</td>\n",
       "      <td>News|Bitcoin|Government|Politics|USA</td>\n",
       "      <td>Crypto Candidate Andrew Yang Talks Up Bitcoin ...</td>\n",
       "      <td>crypto candidate andrew yang talks up bitcoin ...</td>\n",
       "      <td>2019-08</td>\n",
       "      <td>2019-08-15</td>\n",
       "      <td>2019-32</td>\n",
       "    </tr>\n",
       "    <tr>\n",
       "      <th>4</th>\n",
       "      <td>TRON announced the latest release of its side ...</td>\n",
       "      <td>ETH|Blockchain|BTC|Market</td>\n",
       "      <td>2019-08-15 21:19:06</td>\n",
       "      <td>2812411</td>\n",
       "      <td>1565903946</td>\n",
       "      <td>cryptoslate</td>\n",
       "      <td>Analysis|EOS|Ethereum|Tron</td>\n",
       "      <td>Is TRON’s Sun Network a marketing gimmick? Com...</td>\n",
       "      <td>is trons sun network a marketing gimmick compa...</td>\n",
       "      <td>2019-08</td>\n",
       "      <td>2019-08-15</td>\n",
       "      <td>2019-32</td>\n",
       "    </tr>\n",
       "  </tbody>\n",
       "</table>\n",
       "</div>"
      ],
      "text/plain": [
       "                                                body  \\\n",
       "0  Bitcoin has been trading for a premium of betw...   \n",
       "1  Bitcoin’s market valuation has already made so...   \n",
       "2  Paxful’s peer-to-peer Bitcoin exchange got a b...   \n",
       "3  Move over, John McAfee, there&#8217;s a new cr...   \n",
       "4  TRON announced the latest release of its side ...   \n",
       "\n",
       "                             categories           date_time       id  \\\n",
       "0                    BTC|Market|Trading 2019-08-15 22:00:47  2813980   \n",
       "1                    BTC|Trading|Market 2019-08-15 22:00:21  2813979   \n",
       "2      BTC|Exchange|Trading|Fiat|Market 2019-08-15 21:55:41  2813832   \n",
       "3  BTC|Blockchain|Technology|Regulation 2019-08-15 21:21:14  2812410   \n",
       "4             ETH|Blockchain|BTC|Market 2019-08-15 21:19:06  2812411   \n",
       "\n",
       "   published_on          source  \\\n",
       "0    1565906447         newsbtc   \n",
       "1    1565906421      bitcoinist   \n",
       "2    1565906141         decrypt   \n",
       "3    1565904074  cryptobriefing   \n",
       "4    1565903946     cryptoslate   \n",
       "\n",
       "                                                tags  \\\n",
       "0       Bitcoin|Opinion|argentina|bitcoin|safe haven   \n",
       "1  Bitcoin|Bitcoin Price|News|News teaser|bitcoin...   \n",
       "2  Cryptocurrencies|bitcoin|cryptocurrency|Market...   \n",
       "3               News|Bitcoin|Government|Politics|USA   \n",
       "4                         Analysis|EOS|Ethereum|Tron   \n",
       "\n",
       "                                               title  \\\n",
       "0  Argentine Bitcoin Premium Shows Relativity of ...   \n",
       "1  Brandt’s Momentum Indicator Highlights Potenti...   \n",
       "2  Bitcoin peer-to-peer exchange Paxful sees 70 p...   \n",
       "3  Crypto Candidate Andrew Yang Talks Up Bitcoin ...   \n",
       "4  Is TRON’s Sun Network a marketing gimmick? Com...   \n",
       "\n",
       "                                                text year_month  \\\n",
       "0  argentine bitcoin premium shows relativity of ...    2019-08   \n",
       "1  brandts momentum indicator highlights potentia...    2019-08   \n",
       "2  bitcoin peertopeer exchange paxful sees  perce...    2019-08   \n",
       "3  crypto candidate andrew yang talks up bitcoin ...    2019-08   \n",
       "4  is trons sun network a marketing gimmick compa...    2019-08   \n",
       "\n",
       "  year_month_day date_time_week  \n",
       "0     2019-08-15        2019-32  \n",
       "1     2019-08-15        2019-32  \n",
       "2     2019-08-15        2019-32  \n",
       "3     2019-08-15        2019-32  \n",
       "4     2019-08-15        2019-32  "
      ]
     },
     "execution_count": 32,
     "metadata": {},
     "output_type": "execute_result"
    }
   ],
   "source": [
    "df_analysis.head()"
   ]
  },
  {
   "cell_type": "code",
   "execution_count": 33,
   "metadata": {
    "ExecuteTime": {
     "end_time": "2019-08-21T18:45:53.635609Z",
     "start_time": "2019-08-21T18:45:53.630184Z"
    }
   },
   "outputs": [
    {
     "data": {
      "text/plain": [
       "0        2019-32\n",
       "1        2019-32\n",
       "2        2019-32\n",
       "3        2019-32\n",
       "4        2019-32\n",
       "5        2019-32\n",
       "6        2019-32\n",
       "7        2019-32\n",
       "8        2019-32\n",
       "9        2019-32\n",
       "10       2019-32\n",
       "11       2019-32\n",
       "12       2019-32\n",
       "13       2019-32\n",
       "14       2019-32\n",
       "15       2019-32\n",
       "16       2019-32\n",
       "17       2019-32\n",
       "18       2019-32\n",
       "19       2019-32\n",
       "20       2019-32\n",
       "21       2019-32\n",
       "22       2019-32\n",
       "23       2019-32\n",
       "24       2019-32\n",
       "25       2019-32\n",
       "26       2019-32\n",
       "27       2019-32\n",
       "28       2019-32\n",
       "29       2019-32\n",
       "          ...   \n",
       "45443    2017-38\n",
       "45444    2017-38\n",
       "45445    2017-38\n",
       "45446    2017-37\n",
       "45447    2017-37\n",
       "45448    2017-37\n",
       "45449    2017-37\n",
       "45450    2017-37\n",
       "45451    2017-11\n",
       "45452    2017-11\n",
       "45453    2017-08\n",
       "45454    2017-08\n",
       "45455    2017-06\n",
       "45456    2017-06\n",
       "45457    2017-05\n",
       "45458    2017-05\n",
       "45459    2016-34\n",
       "45460    2016-34\n",
       "45461    2016-33\n",
       "45462    2016-33\n",
       "45463    2016-33\n",
       "45464    2016-33\n",
       "45465    2016-28\n",
       "45466    2016-28\n",
       "45467    2016-27\n",
       "45468    2016-27\n",
       "45469    2016-25\n",
       "45470    2016-25\n",
       "45471    2016-23\n",
       "45472    2016-23\n",
       "Name: date_time_week, Length: 45473, dtype: object"
      ]
     },
     "execution_count": 33,
     "metadata": {},
     "output_type": "execute_result"
    }
   ],
   "source": [
    "df_analysis.date_time_week"
   ]
  },
  {
   "cell_type": "code",
   "execution_count": 34,
   "metadata": {
    "ExecuteTime": {
     "end_time": "2019-08-21T18:45:54.201936Z",
     "start_time": "2019-08-21T18:45:54.197673Z"
    }
   },
   "outputs": [
    {
     "data": {
      "text/plain": [
       "body                      object\n",
       "categories                object\n",
       "date_time         datetime64[ns]\n",
       "id                        object\n",
       "published_on               int64\n",
       "source                    object\n",
       "tags                      object\n",
       "title                     object\n",
       "text                      object\n",
       "year_month                object\n",
       "year_month_day            object\n",
       "date_time_week            object\n",
       "dtype: object"
      ]
     },
     "execution_count": 34,
     "metadata": {},
     "output_type": "execute_result"
    }
   ],
   "source": [
    "df_analysis.dtypes"
   ]
  },
  {
   "cell_type": "code",
   "execution_count": 35,
   "metadata": {
    "ExecuteTime": {
     "end_time": "2019-08-21T18:45:54.820575Z",
     "start_time": "2019-08-21T18:45:54.810196Z"
    }
   },
   "outputs": [
    {
     "data": {
      "text/plain": [
       "2013-08       1\n",
       "2013-09       2\n",
       "2013-10       8\n",
       "2013-11      12\n",
       "2014-06       1\n",
       "2016-06       4\n",
       "2016-07       4\n",
       "2016-08       6\n",
       "2017-01       2\n",
       "2017-02       8\n",
       "2017-03       2\n",
       "2017-06       4\n",
       "2017-07       4\n",
       "2017-08       5\n",
       "2017-09     420\n",
       "2017-10    1897\n",
       "2017-11    1839\n",
       "2017-12    1811\n",
       "2018-01    1788\n",
       "2018-02    1870\n",
       "2018-03    2164\n",
       "2018-04    2073\n",
       "2018-05    2172\n",
       "2018-06    2081\n",
       "2018-07    2124\n",
       "2018-08    2087\n",
       "2018-09    2019\n",
       "2018-10    2053\n",
       "2018-11    1925\n",
       "2018-12    2058\n",
       "2019-01    2050\n",
       "2019-02    1841\n",
       "2019-03    2104\n",
       "2019-04    1904\n",
       "2019-05    1961\n",
       "2019-06    2003\n",
       "2019-07    2078\n",
       "2019-08    1084\n",
       "Name: year_month, dtype: int64"
      ]
     },
     "execution_count": 35,
     "metadata": {},
     "output_type": "execute_result"
    }
   ],
   "source": [
    "df_analysis.year_month.value_counts().sort_index()\n",
    "\n",
    "#may need to drop months before 2017-10 because not enough data"
   ]
  },
  {
   "cell_type": "code",
   "execution_count": 36,
   "metadata": {
    "ExecuteTime": {
     "end_time": "2019-08-21T18:45:55.306382Z",
     "start_time": "2019-08-21T18:45:55.292956Z"
    }
   },
   "outputs": [
    {
     "data": {
      "text/html": [
       "<div>\n",
       "<style scoped>\n",
       "    .dataframe tbody tr th:only-of-type {\n",
       "        vertical-align: middle;\n",
       "    }\n",
       "\n",
       "    .dataframe tbody tr th {\n",
       "        vertical-align: top;\n",
       "    }\n",
       "\n",
       "    .dataframe thead th {\n",
       "        text-align: right;\n",
       "    }\n",
       "</style>\n",
       "<table border=\"1\" class=\"dataframe\">\n",
       "  <thead>\n",
       "    <tr style=\"text-align: right;\">\n",
       "      <th></th>\n",
       "      <th>body</th>\n",
       "      <th>categories</th>\n",
       "      <th>date_time</th>\n",
       "      <th>id</th>\n",
       "      <th>published_on</th>\n",
       "      <th>source</th>\n",
       "      <th>tags</th>\n",
       "      <th>title</th>\n",
       "      <th>text</th>\n",
       "      <th>year_month</th>\n",
       "      <th>year_month_day</th>\n",
       "      <th>date_time_week</th>\n",
       "    </tr>\n",
       "  </thead>\n",
       "  <tbody>\n",
       "    <tr>\n",
       "      <th>0</th>\n",
       "      <td>Bitcoin has been trading for a premium of betw...</td>\n",
       "      <td>BTC|Market|Trading</td>\n",
       "      <td>2019-08-15 22:00:47</td>\n",
       "      <td>2813980</td>\n",
       "      <td>1565906447</td>\n",
       "      <td>newsbtc</td>\n",
       "      <td>Bitcoin|Opinion|argentina|bitcoin|safe haven</td>\n",
       "      <td>Argentine Bitcoin Premium Shows Relativity of ...</td>\n",
       "      <td>argentine bitcoin premium shows relativity of ...</td>\n",
       "      <td>2019-08</td>\n",
       "      <td>2019-08-15</td>\n",
       "      <td>2019-32</td>\n",
       "    </tr>\n",
       "    <tr>\n",
       "      <th>1</th>\n",
       "      <td>Bitcoin’s market valuation has already made so...</td>\n",
       "      <td>BTC|Trading|Market</td>\n",
       "      <td>2019-08-15 22:00:21</td>\n",
       "      <td>2813979</td>\n",
       "      <td>1565906421</td>\n",
       "      <td>bitcoinist</td>\n",
       "      <td>Bitcoin|Bitcoin Price|News|News teaser|bitcoin...</td>\n",
       "      <td>Brandt’s Momentum Indicator Highlights Potenti...</td>\n",
       "      <td>brandts momentum indicator highlights potentia...</td>\n",
       "      <td>2019-08</td>\n",
       "      <td>2019-08-15</td>\n",
       "      <td>2019-32</td>\n",
       "    </tr>\n",
       "    <tr>\n",
       "      <th>2</th>\n",
       "      <td>Paxful’s peer-to-peer Bitcoin exchange got a b...</td>\n",
       "      <td>BTC|Exchange|Trading|Fiat|Market</td>\n",
       "      <td>2019-08-15 21:55:41</td>\n",
       "      <td>2813832</td>\n",
       "      <td>1565906141</td>\n",
       "      <td>decrypt</td>\n",
       "      <td>Cryptocurrencies|bitcoin|cryptocurrency|Market...</td>\n",
       "      <td>Bitcoin peer-to-peer exchange Paxful sees 70 p...</td>\n",
       "      <td>bitcoin peertopeer exchange paxful sees  perce...</td>\n",
       "      <td>2019-08</td>\n",
       "      <td>2019-08-15</td>\n",
       "      <td>2019-32</td>\n",
       "    </tr>\n",
       "    <tr>\n",
       "      <th>3</th>\n",
       "      <td>Move over, John McAfee, there&amp;#8217;s a new cr...</td>\n",
       "      <td>BTC|Blockchain|Technology|Regulation</td>\n",
       "      <td>2019-08-15 21:21:14</td>\n",
       "      <td>2812410</td>\n",
       "      <td>1565904074</td>\n",
       "      <td>cryptobriefing</td>\n",
       "      <td>News|Bitcoin|Government|Politics|USA</td>\n",
       "      <td>Crypto Candidate Andrew Yang Talks Up Bitcoin ...</td>\n",
       "      <td>crypto candidate andrew yang talks up bitcoin ...</td>\n",
       "      <td>2019-08</td>\n",
       "      <td>2019-08-15</td>\n",
       "      <td>2019-32</td>\n",
       "    </tr>\n",
       "    <tr>\n",
       "      <th>4</th>\n",
       "      <td>TRON announced the latest release of its side ...</td>\n",
       "      <td>ETH|Blockchain|BTC|Market</td>\n",
       "      <td>2019-08-15 21:19:06</td>\n",
       "      <td>2812411</td>\n",
       "      <td>1565903946</td>\n",
       "      <td>cryptoslate</td>\n",
       "      <td>Analysis|EOS|Ethereum|Tron</td>\n",
       "      <td>Is TRON’s Sun Network a marketing gimmick? Com...</td>\n",
       "      <td>is trons sun network a marketing gimmick compa...</td>\n",
       "      <td>2019-08</td>\n",
       "      <td>2019-08-15</td>\n",
       "      <td>2019-32</td>\n",
       "    </tr>\n",
       "  </tbody>\n",
       "</table>\n",
       "</div>"
      ],
      "text/plain": [
       "                                                body  \\\n",
       "0  Bitcoin has been trading for a premium of betw...   \n",
       "1  Bitcoin’s market valuation has already made so...   \n",
       "2  Paxful’s peer-to-peer Bitcoin exchange got a b...   \n",
       "3  Move over, John McAfee, there&#8217;s a new cr...   \n",
       "4  TRON announced the latest release of its side ...   \n",
       "\n",
       "                             categories           date_time       id  \\\n",
       "0                    BTC|Market|Trading 2019-08-15 22:00:47  2813980   \n",
       "1                    BTC|Trading|Market 2019-08-15 22:00:21  2813979   \n",
       "2      BTC|Exchange|Trading|Fiat|Market 2019-08-15 21:55:41  2813832   \n",
       "3  BTC|Blockchain|Technology|Regulation 2019-08-15 21:21:14  2812410   \n",
       "4             ETH|Blockchain|BTC|Market 2019-08-15 21:19:06  2812411   \n",
       "\n",
       "   published_on          source  \\\n",
       "0    1565906447         newsbtc   \n",
       "1    1565906421      bitcoinist   \n",
       "2    1565906141         decrypt   \n",
       "3    1565904074  cryptobriefing   \n",
       "4    1565903946     cryptoslate   \n",
       "\n",
       "                                                tags  \\\n",
       "0       Bitcoin|Opinion|argentina|bitcoin|safe haven   \n",
       "1  Bitcoin|Bitcoin Price|News|News teaser|bitcoin...   \n",
       "2  Cryptocurrencies|bitcoin|cryptocurrency|Market...   \n",
       "3               News|Bitcoin|Government|Politics|USA   \n",
       "4                         Analysis|EOS|Ethereum|Tron   \n",
       "\n",
       "                                               title  \\\n",
       "0  Argentine Bitcoin Premium Shows Relativity of ...   \n",
       "1  Brandt’s Momentum Indicator Highlights Potenti...   \n",
       "2  Bitcoin peer-to-peer exchange Paxful sees 70 p...   \n",
       "3  Crypto Candidate Andrew Yang Talks Up Bitcoin ...   \n",
       "4  Is TRON’s Sun Network a marketing gimmick? Com...   \n",
       "\n",
       "                                                text year_month  \\\n",
       "0  argentine bitcoin premium shows relativity of ...    2019-08   \n",
       "1  brandts momentum indicator highlights potentia...    2019-08   \n",
       "2  bitcoin peertopeer exchange paxful sees  perce...    2019-08   \n",
       "3  crypto candidate andrew yang talks up bitcoin ...    2019-08   \n",
       "4  is trons sun network a marketing gimmick compa...    2019-08   \n",
       "\n",
       "  year_month_day date_time_week  \n",
       "0     2019-08-15        2019-32  \n",
       "1     2019-08-15        2019-32  \n",
       "2     2019-08-15        2019-32  \n",
       "3     2019-08-15        2019-32  \n",
       "4     2019-08-15        2019-32  "
      ]
     },
     "execution_count": 36,
     "metadata": {},
     "output_type": "execute_result"
    }
   ],
   "source": [
    "df_analysis.head()"
   ]
  },
  {
   "cell_type": "markdown",
   "metadata": {},
   "source": [
    "# 3. Sentiment Analysis -- Average over Time Period"
   ]
  },
  {
   "cell_type": "code",
   "execution_count": 37,
   "metadata": {
    "ExecuteTime": {
     "end_time": "2019-08-21T18:45:58.073369Z",
     "start_time": "2019-08-21T18:45:58.026862Z"
    }
   },
   "outputs": [],
   "source": [
    "#creating a smaller df for sentiment analysis\n",
    "\n",
    "df_sentiment = df_analysis[['year_month', 'year_month_day','date_time', 'date_time_week','published_on','tags','body','title','text']]\n"
   ]
  },
  {
   "cell_type": "code",
   "execution_count": 38,
   "metadata": {
    "ExecuteTime": {
     "end_time": "2019-08-21T18:45:58.663293Z",
     "start_time": "2019-08-21T18:45:58.651985Z"
    },
    "scrolled": false
   },
   "outputs": [
    {
     "data": {
      "text/html": [
       "<div>\n",
       "<style scoped>\n",
       "    .dataframe tbody tr th:only-of-type {\n",
       "        vertical-align: middle;\n",
       "    }\n",
       "\n",
       "    .dataframe tbody tr th {\n",
       "        vertical-align: top;\n",
       "    }\n",
       "\n",
       "    .dataframe thead th {\n",
       "        text-align: right;\n",
       "    }\n",
       "</style>\n",
       "<table border=\"1\" class=\"dataframe\">\n",
       "  <thead>\n",
       "    <tr style=\"text-align: right;\">\n",
       "      <th></th>\n",
       "      <th>year_month</th>\n",
       "      <th>year_month_day</th>\n",
       "      <th>date_time</th>\n",
       "      <th>date_time_week</th>\n",
       "      <th>published_on</th>\n",
       "      <th>tags</th>\n",
       "      <th>body</th>\n",
       "      <th>title</th>\n",
       "      <th>text</th>\n",
       "    </tr>\n",
       "  </thead>\n",
       "  <tbody>\n",
       "    <tr>\n",
       "      <th>0</th>\n",
       "      <td>2019-08</td>\n",
       "      <td>2019-08-15</td>\n",
       "      <td>2019-08-15 22:00:47</td>\n",
       "      <td>2019-32</td>\n",
       "      <td>1565906447</td>\n",
       "      <td>Bitcoin|Opinion|argentina|bitcoin|safe haven</td>\n",
       "      <td>Bitcoin has been trading for a premium of betw...</td>\n",
       "      <td>Argentine Bitcoin Premium Shows Relativity of ...</td>\n",
       "      <td>argentine bitcoin premium shows relativity of ...</td>\n",
       "    </tr>\n",
       "    <tr>\n",
       "      <th>1</th>\n",
       "      <td>2019-08</td>\n",
       "      <td>2019-08-15</td>\n",
       "      <td>2019-08-15 22:00:21</td>\n",
       "      <td>2019-32</td>\n",
       "      <td>1565906421</td>\n",
       "      <td>Bitcoin|Bitcoin Price|News|News teaser|bitcoin...</td>\n",
       "      <td>Bitcoin’s market valuation has already made so...</td>\n",
       "      <td>Brandt’s Momentum Indicator Highlights Potenti...</td>\n",
       "      <td>brandts momentum indicator highlights potentia...</td>\n",
       "    </tr>\n",
       "    <tr>\n",
       "      <th>2</th>\n",
       "      <td>2019-08</td>\n",
       "      <td>2019-08-15</td>\n",
       "      <td>2019-08-15 21:55:41</td>\n",
       "      <td>2019-32</td>\n",
       "      <td>1565906141</td>\n",
       "      <td>Cryptocurrencies|bitcoin|cryptocurrency|Market...</td>\n",
       "      <td>Paxful’s peer-to-peer Bitcoin exchange got a b...</td>\n",
       "      <td>Bitcoin peer-to-peer exchange Paxful sees 70 p...</td>\n",
       "      <td>bitcoin peertopeer exchange paxful sees  perce...</td>\n",
       "    </tr>\n",
       "    <tr>\n",
       "      <th>3</th>\n",
       "      <td>2019-08</td>\n",
       "      <td>2019-08-15</td>\n",
       "      <td>2019-08-15 21:21:14</td>\n",
       "      <td>2019-32</td>\n",
       "      <td>1565904074</td>\n",
       "      <td>News|Bitcoin|Government|Politics|USA</td>\n",
       "      <td>Move over, John McAfee, there&amp;#8217;s a new cr...</td>\n",
       "      <td>Crypto Candidate Andrew Yang Talks Up Bitcoin ...</td>\n",
       "      <td>crypto candidate andrew yang talks up bitcoin ...</td>\n",
       "    </tr>\n",
       "    <tr>\n",
       "      <th>4</th>\n",
       "      <td>2019-08</td>\n",
       "      <td>2019-08-15</td>\n",
       "      <td>2019-08-15 21:19:06</td>\n",
       "      <td>2019-32</td>\n",
       "      <td>1565903946</td>\n",
       "      <td>Analysis|EOS|Ethereum|Tron</td>\n",
       "      <td>TRON announced the latest release of its side ...</td>\n",
       "      <td>Is TRON’s Sun Network a marketing gimmick? Com...</td>\n",
       "      <td>is trons sun network a marketing gimmick compa...</td>\n",
       "    </tr>\n",
       "  </tbody>\n",
       "</table>\n",
       "</div>"
      ],
      "text/plain": [
       "  year_month year_month_day           date_time date_time_week  published_on  \\\n",
       "0    2019-08     2019-08-15 2019-08-15 22:00:47        2019-32    1565906447   \n",
       "1    2019-08     2019-08-15 2019-08-15 22:00:21        2019-32    1565906421   \n",
       "2    2019-08     2019-08-15 2019-08-15 21:55:41        2019-32    1565906141   \n",
       "3    2019-08     2019-08-15 2019-08-15 21:21:14        2019-32    1565904074   \n",
       "4    2019-08     2019-08-15 2019-08-15 21:19:06        2019-32    1565903946   \n",
       "\n",
       "                                                tags  \\\n",
       "0       Bitcoin|Opinion|argentina|bitcoin|safe haven   \n",
       "1  Bitcoin|Bitcoin Price|News|News teaser|bitcoin...   \n",
       "2  Cryptocurrencies|bitcoin|cryptocurrency|Market...   \n",
       "3               News|Bitcoin|Government|Politics|USA   \n",
       "4                         Analysis|EOS|Ethereum|Tron   \n",
       "\n",
       "                                                body  \\\n",
       "0  Bitcoin has been trading for a premium of betw...   \n",
       "1  Bitcoin’s market valuation has already made so...   \n",
       "2  Paxful’s peer-to-peer Bitcoin exchange got a b...   \n",
       "3  Move over, John McAfee, there&#8217;s a new cr...   \n",
       "4  TRON announced the latest release of its side ...   \n",
       "\n",
       "                                               title  \\\n",
       "0  Argentine Bitcoin Premium Shows Relativity of ...   \n",
       "1  Brandt’s Momentum Indicator Highlights Potenti...   \n",
       "2  Bitcoin peer-to-peer exchange Paxful sees 70 p...   \n",
       "3  Crypto Candidate Andrew Yang Talks Up Bitcoin ...   \n",
       "4  Is TRON’s Sun Network a marketing gimmick? Com...   \n",
       "\n",
       "                                                text  \n",
       "0  argentine bitcoin premium shows relativity of ...  \n",
       "1  brandts momentum indicator highlights potentia...  \n",
       "2  bitcoin peertopeer exchange paxful sees  perce...  \n",
       "3  crypto candidate andrew yang talks up bitcoin ...  \n",
       "4  is trons sun network a marketing gimmick compa...  "
      ]
     },
     "execution_count": 38,
     "metadata": {},
     "output_type": "execute_result"
    }
   ],
   "source": [
    "df_sentiment.head()"
   ]
  },
  {
   "cell_type": "code",
   "execution_count": 39,
   "metadata": {
    "ExecuteTime": {
     "end_time": "2019-08-21T18:45:59.353856Z",
     "start_time": "2019-08-21T18:45:59.337676Z"
    }
   },
   "outputs": [],
   "source": [
    "#utilizing vader sentiment analysis creating SentimentIntensityAnalyzer()\n",
    "\n",
    "analyser = SentimentIntensityAnalyzer()"
   ]
  },
  {
   "cell_type": "code",
   "execution_count": 40,
   "metadata": {
    "ExecuteTime": {
     "end_time": "2019-08-21T18:46:18.208505Z",
     "start_time": "2019-08-21T18:46:18.203663Z"
    },
    "scrolled": true
   },
   "outputs": [
    {
     "data": {
      "text/plain": [
       "{'neg': 0.0, 'neu': 0.983, 'pos': 0.017, 'compound': 0.0772}"
      ]
     },
     "execution_count": 40,
     "metadata": {},
     "output_type": "execute_result"
    }
   ],
   "source": [
    "analyser.polarity_scores(df_sentiment.body[2000])"
   ]
  },
  {
   "cell_type": "code",
   "execution_count": 41,
   "metadata": {
    "ExecuteTime": {
     "end_time": "2019-08-21T18:46:18.531524Z",
     "start_time": "2019-08-21T18:46:18.528262Z"
    },
    "scrolled": true
   },
   "outputs": [
    {
     "data": {
      "text/plain": [
       "{'neg': 0.0, 'neu': 1.0, 'pos': 0.0, 'compound': 0.0}"
      ]
     },
     "execution_count": 41,
     "metadata": {},
     "output_type": "execute_result"
    }
   ],
   "source": [
    "analyser.polarity_scores('bitcoin is rising')"
   ]
  },
  {
   "cell_type": "code",
   "execution_count": 42,
   "metadata": {
    "ExecuteTime": {
     "end_time": "2019-08-21T18:46:19.028447Z",
     "start_time": "2019-08-21T18:46:18.985965Z"
    }
   },
   "outputs": [
    {
     "data": {
      "text/plain": [
       "0.09659090909090909"
      ]
     },
     "execution_count": 42,
     "metadata": {},
     "output_type": "execute_result"
    }
   ],
   "source": [
    "\n",
    "TextBlob(df_sentiment.body[2000]).sentiment.polarity"
   ]
  },
  {
   "cell_type": "code",
   "execution_count": 43,
   "metadata": {
    "ExecuteTime": {
     "end_time": "2019-08-21T18:46:19.389671Z",
     "start_time": "2019-08-21T18:46:19.386284Z"
    },
    "scrolled": true
   },
   "outputs": [
    {
     "data": {
      "text/plain": [
       "'singapore releases new draft on tax guidelines for crypto bitcoin ethereum litecoin dash monero ripple and zcash the inland revenue authority of singapore iras has published a draft guide that explains the goods and services tax gst treatment for transactions involving cryptocurrencies that are used as a medium of exchange referred to as digital payment tokens the draft references bitcoin ethereum litecoin dash monero ripple xrp and zcash as examples in a the post singapore releases new draft on tax guidelines for crypto bitcoin ethereum litecoin dash monero ripple and zcash appeared first on the daily hodl'"
      ]
     },
     "execution_count": 43,
     "metadata": {},
     "output_type": "execute_result"
    }
   ],
   "source": [
    "df_sentiment.text[2000]"
   ]
  },
  {
   "cell_type": "code",
   "execution_count": 44,
   "metadata": {
    "ExecuteTime": {
     "end_time": "2019-08-21T18:46:57.627249Z",
     "start_time": "2019-08-21T18:46:19.818282Z"
    }
   },
   "outputs": [
    {
     "name": "stderr",
     "output_type": "stream",
     "text": [
      "/anaconda3/lib/python3.7/site-packages/ipykernel_launcher.py:3: SettingWithCopyWarning: \n",
      "A value is trying to be set on a copy of a slice from a DataFrame.\n",
      "Try using .loc[row_indexer,col_indexer] = value instead\n",
      "\n",
      "See the caveats in the documentation: http://pandas.pydata.org/pandas-docs/stable/indexing.html#indexing-view-versus-copy\n",
      "  This is separate from the ipykernel package so we can avoid doing imports until\n"
     ]
    }
   ],
   "source": [
    "#Create new columns for compound scores from vader\n",
    "\n",
    "df_sentiment['compound_score_vader'] = df_sentiment['text'].apply(lambda x: analyser.polarity_scores(x)['compound'])\n",
    "\n"
   ]
  },
  {
   "cell_type": "code",
   "execution_count": 45,
   "metadata": {
    "ExecuteTime": {
     "end_time": "2019-08-21T18:47:13.952284Z",
     "start_time": "2019-08-21T18:46:57.747459Z"
    }
   },
   "outputs": [
    {
     "name": "stderr",
     "output_type": "stream",
     "text": [
      "/anaconda3/lib/python3.7/site-packages/ipykernel_launcher.py:2: SettingWithCopyWarning: \n",
      "A value is trying to be set on a copy of a slice from a DataFrame.\n",
      "Try using .loc[row_indexer,col_indexer] = value instead\n",
      "\n",
      "See the caveats in the documentation: http://pandas.pydata.org/pandas-docs/stable/indexing.html#indexing-view-versus-copy\n",
      "  \n"
     ]
    }
   ],
   "source": [
    "#Create new columns for compound scores from textblob\n",
    "df_sentiment['compound_score_tb'] = df_sentiment['text'].apply(lambda x: TextBlob(x).sentiment.polarity)"
   ]
  },
  {
   "cell_type": "code",
   "execution_count": 46,
   "metadata": {
    "ExecuteTime": {
     "end_time": "2019-08-21T18:47:14.115005Z",
     "start_time": "2019-08-21T18:47:14.068462Z"
    }
   },
   "outputs": [],
   "source": [
    "#create new column for average sentiment\n",
    "df_sentiment['sentiment'] = (df_sentiment['compound_score_tb'] + df_sentiment['compound_score_vader'])/2"
   ]
  },
  {
   "cell_type": "code",
   "execution_count": 50,
   "metadata": {
    "ExecuteTime": {
     "end_time": "2019-08-21T18:47:39.887538Z",
     "start_time": "2019-08-21T18:47:39.865860Z"
    },
    "scrolled": false
   },
   "outputs": [
    {
     "data": {
      "text/html": [
       "<div>\n",
       "<style scoped>\n",
       "    .dataframe tbody tr th:only-of-type {\n",
       "        vertical-align: middle;\n",
       "    }\n",
       "\n",
       "    .dataframe tbody tr th {\n",
       "        vertical-align: top;\n",
       "    }\n",
       "\n",
       "    .dataframe thead th {\n",
       "        text-align: right;\n",
       "    }\n",
       "</style>\n",
       "<table border=\"1\" class=\"dataframe\">\n",
       "  <thead>\n",
       "    <tr style=\"text-align: right;\">\n",
       "      <th></th>\n",
       "      <th>year_month</th>\n",
       "      <th>year_month_day</th>\n",
       "      <th>date_time</th>\n",
       "      <th>date_time_week</th>\n",
       "      <th>published_on</th>\n",
       "      <th>tags</th>\n",
       "      <th>body</th>\n",
       "      <th>title</th>\n",
       "      <th>text</th>\n",
       "      <th>compound_score_vader</th>\n",
       "      <th>compound_score_tb</th>\n",
       "      <th>sentiment</th>\n",
       "    </tr>\n",
       "  </thead>\n",
       "  <tbody>\n",
       "    <tr>\n",
       "      <th>32733</th>\n",
       "      <td>2019-08</td>\n",
       "      <td>2019-08-15</td>\n",
       "      <td>2019-08-15 22:15:00</td>\n",
       "      <td>2019-32</td>\n",
       "      <td>1565907300</td>\n",
       "      <td>Bitcoin|CNBC</td>\n",
       "      <td>Bitcoin is a store of value, and watching the ...</td>\n",
       "      <td>Mark Yusko: Bitcoin Is a “Chaos Hedge, or Schm...</td>\n",
       "      <td>mark yusko bitcoin is a chaos hedge or schmuck...</td>\n",
       "      <td>-0.5423</td>\n",
       "      <td>-0.100000</td>\n",
       "      <td>-0.321150</td>\n",
       "    </tr>\n",
       "    <tr>\n",
       "      <th>32734</th>\n",
       "      <td>2019-08</td>\n",
       "      <td>2019-08-15</td>\n",
       "      <td>2019-08-15 22:06:39</td>\n",
       "      <td>2019-32</td>\n",
       "      <td>1565906799</td>\n",
       "      <td>Bitcoin Price|bitcoin price|bitcoin price anal...</td>\n",
       "      <td>Bitcoin price analysis reveals that Bitcoin (B...</td>\n",
       "      <td>Bitcoin price analysis: BTC price hits $9500, ...</td>\n",
       "      <td>bitcoin price analysis btc price hits  bears r...</td>\n",
       "      <td>-0.5789</td>\n",
       "      <td>0.021581</td>\n",
       "      <td>-0.278660</td>\n",
       "    </tr>\n",
       "    <tr>\n",
       "      <th>32735</th>\n",
       "      <td>2019-08</td>\n",
       "      <td>2019-08-15</td>\n",
       "      <td>2019-08-15 22:05:00</td>\n",
       "      <td>2019-32</td>\n",
       "      <td>1565906700</td>\n",
       "      <td>Blockchain|Texas|Oil|Energy|Smart Contracts|Tr...</td>\n",
       "      <td>Antelope Water Management announces that it wi...</td>\n",
       "      <td>Water Management Firm to Use Data Gumbo’s Serv...</td>\n",
       "      <td>water management firm to use data gumbos servi...</td>\n",
       "      <td>0.3612</td>\n",
       "      <td>-0.200000</td>\n",
       "      <td>0.080600</td>\n",
       "    </tr>\n",
       "    <tr>\n",
       "      <th>0</th>\n",
       "      <td>2019-08</td>\n",
       "      <td>2019-08-15</td>\n",
       "      <td>2019-08-15 22:00:47</td>\n",
       "      <td>2019-32</td>\n",
       "      <td>1565906447</td>\n",
       "      <td>Bitcoin|Opinion|argentina|bitcoin|safe haven</td>\n",
       "      <td>Bitcoin has been trading for a premium of betw...</td>\n",
       "      <td>Argentine Bitcoin Premium Shows Relativity of ...</td>\n",
       "      <td>argentine bitcoin premium shows relativity of ...</td>\n",
       "      <td>-0.1280</td>\n",
       "      <td>0.132000</td>\n",
       "      <td>0.002000</td>\n",
       "    </tr>\n",
       "    <tr>\n",
       "      <th>32736</th>\n",
       "      <td>2019-08</td>\n",
       "      <td>2019-08-15</td>\n",
       "      <td>2019-08-15 22:00:35</td>\n",
       "      <td>2019-32</td>\n",
       "      <td>1565906435</td>\n",
       "      <td>News|Altcoins|Beam|MimbleWimble|Privacy Coin</td>\n",
       "      <td>Launching in January of this year, beam is one...</td>\n",
       "      <td>Privacy Coin Beam Conducts First Hard Fork Awa...</td>\n",
       "      <td>privacy coin beam conducts first hard fork awa...</td>\n",
       "      <td>-0.1027</td>\n",
       "      <td>0.069444</td>\n",
       "      <td>-0.016628</td>\n",
       "    </tr>\n",
       "  </tbody>\n",
       "</table>\n",
       "</div>"
      ],
      "text/plain": [
       "      year_month year_month_day           date_time date_time_week  \\\n",
       "32733    2019-08     2019-08-15 2019-08-15 22:15:00        2019-32   \n",
       "32734    2019-08     2019-08-15 2019-08-15 22:06:39        2019-32   \n",
       "32735    2019-08     2019-08-15 2019-08-15 22:05:00        2019-32   \n",
       "0        2019-08     2019-08-15 2019-08-15 22:00:47        2019-32   \n",
       "32736    2019-08     2019-08-15 2019-08-15 22:00:35        2019-32   \n",
       "\n",
       "       published_on                                               tags  \\\n",
       "32733    1565907300                                       Bitcoin|CNBC   \n",
       "32734    1565906799  Bitcoin Price|bitcoin price|bitcoin price anal...   \n",
       "32735    1565906700  Blockchain|Texas|Oil|Energy|Smart Contracts|Tr...   \n",
       "0        1565906447       Bitcoin|Opinion|argentina|bitcoin|safe haven   \n",
       "32736    1565906435       News|Altcoins|Beam|MimbleWimble|Privacy Coin   \n",
       "\n",
       "                                                    body  \\\n",
       "32733  Bitcoin is a store of value, and watching the ...   \n",
       "32734  Bitcoin price analysis reveals that Bitcoin (B...   \n",
       "32735  Antelope Water Management announces that it wi...   \n",
       "0      Bitcoin has been trading for a premium of betw...   \n",
       "32736  Launching in January of this year, beam is one...   \n",
       "\n",
       "                                                   title  \\\n",
       "32733  Mark Yusko: Bitcoin Is a “Chaos Hedge, or Schm...   \n",
       "32734  Bitcoin price analysis: BTC price hits $9500, ...   \n",
       "32735  Water Management Firm to Use Data Gumbo’s Serv...   \n",
       "0      Argentine Bitcoin Premium Shows Relativity of ...   \n",
       "32736  Privacy Coin Beam Conducts First Hard Fork Awa...   \n",
       "\n",
       "                                                    text  \\\n",
       "32733  mark yusko bitcoin is a chaos hedge or schmuck...   \n",
       "32734  bitcoin price analysis btc price hits  bears r...   \n",
       "32735  water management firm to use data gumbos servi...   \n",
       "0      argentine bitcoin premium shows relativity of ...   \n",
       "32736  privacy coin beam conducts first hard fork awa...   \n",
       "\n",
       "       compound_score_vader  compound_score_tb  sentiment  \n",
       "32733               -0.5423          -0.100000  -0.321150  \n",
       "32734               -0.5789           0.021581  -0.278660  \n",
       "32735                0.3612          -0.200000   0.080600  \n",
       "0                   -0.1280           0.132000   0.002000  \n",
       "32736               -0.1027           0.069444  -0.016628  "
      ]
     },
     "execution_count": 50,
     "metadata": {},
     "output_type": "execute_result"
    }
   ],
   "source": [
    "df_sentiment.sort_values(by='date_time', ascending = False).head()"
   ]
  },
  {
   "cell_type": "code",
   "execution_count": 52,
   "metadata": {
    "ExecuteTime": {
     "end_time": "2019-08-21T19:17:30.386769Z",
     "start_time": "2019-08-21T19:17:29.206917Z"
    }
   },
   "outputs": [],
   "source": [
    "df_sentiment2 = df_sentiment[df_sentiment.published_on >= 1504224000]\n",
    "\n",
    "df_sentiment2.to_csv('df_sentiment2.csv')"
   ]
  },
  {
   "cell_type": "code",
   "execution_count": null,
   "metadata": {
    "ExecuteTime": {
     "end_time": "2019-08-21T18:47:14.341499Z",
     "start_time": "2019-08-21T18:46:28.081Z"
    }
   },
   "outputs": [],
   "source": [
    "df_monthly_sentiment = df_sentiment[df_sentiment.published_on >= 1504224000].groupby('year_month')['sentiment'].mean().reset_index().sort_values(by = 'year_month')"
   ]
  },
  {
   "cell_type": "code",
   "execution_count": null,
   "metadata": {
    "ExecuteTime": {
     "end_time": "2019-08-21T18:47:14.345182Z",
     "start_time": "2019-08-21T18:46:28.457Z"
    }
   },
   "outputs": [],
   "source": [
    "df_daily_sentiment = df_sentiment[df_sentiment.published_on >= 1504224000].groupby('year_month_day')['sentiment'].mean().reset_index().sort_values(by = 'year_month_day')"
   ]
  },
  {
   "cell_type": "code",
   "execution_count": null,
   "metadata": {
    "ExecuteTime": {
     "end_time": "2019-08-21T18:47:14.348090Z",
     "start_time": "2019-08-21T18:46:28.837Z"
    }
   },
   "outputs": [],
   "source": [
    "df_weekly_sentiment = df_sentiment[df_sentiment.published_on >= 1504224000].groupby('date_time_week')['sentiment'].mean().reset_index().sort_values(by = 'date_time_week')"
   ]
  },
  {
   "cell_type": "code",
   "execution_count": null,
   "metadata": {
    "ExecuteTime": {
     "end_time": "2019-08-21T18:47:14.350573Z",
     "start_time": "2019-08-21T18:46:30.198Z"
    }
   },
   "outputs": [],
   "source": [
    "#scaling sentiment scores\n",
    "\n",
    "#scalar = StandardScaler()\n",
    "#scalar.fit([df_monthly_sentiment.compound_score])\n",
    "\n",
    "#sentiment_scaled = scalar.transform([df_monthly_sentiment.compound_score])"
   ]
  },
  {
   "cell_type": "code",
   "execution_count": 57,
   "metadata": {
    "ExecuteTime": {
     "end_time": "2019-08-20T20:43:56.322867Z",
     "start_time": "2019-08-20T20:43:56.074745Z"
    }
   },
   "outputs": [
    {
     "data": {
      "text/plain": [
       "[<matplotlib.lines.Line2D at 0x1a27e063c8>]"
      ]
     },
     "execution_count": 57,
     "metadata": {},
     "output_type": "execute_result"
    },
    {
     "data": {
      "image/png": "[encoded data removed]",
      "text/plain": [
       "<Figure size 1440x720 with 1 Axes>"
      ]
     },
     "metadata": {
      "needs_background": "light"
     },
     "output_type": "display_data"
    }
   ],
   "source": [
    "#plotting montly sentiment trends\n",
    "x = df_monthly_sentiment.year_month\n",
    "y = df_monthly_sentiment.sentiment\n",
    "\n",
    "plt.figure(figsize = (20,10))\n",
    "\n",
    "plt.xticks(rotation= 90)\n",
    "plt.plot(x,y)"
   ]
  },
  {
   "cell_type": "code",
   "execution_count": 58,
   "metadata": {
    "ExecuteTime": {
     "end_time": "2019-08-20T20:44:10.816395Z",
     "start_time": "2019-08-20T20:44:10.814488Z"
    }
   },
   "outputs": [],
   "source": [
    "#plotting daily sentiment trends\n",
    "#x = df_daily_sentiment.year_month_day\n",
    "#y = df_daily_sentiment.compound_score\n",
    "\n",
    "#plt.figure(figsize = (20,10))\n",
    "\n",
    "#plt.xticks(rotation= 90)\n",
    "#plt.plot(x,y)\n",
    "\n",
    "#chart is really messy and nearly  unusable"
   ]
  },
  {
   "cell_type": "code",
   "execution_count": 60,
   "metadata": {
    "ExecuteTime": {
     "end_time": "2019-08-20T20:44:17.986876Z",
     "start_time": "2019-08-20T20:44:17.000885Z"
    }
   },
   "outputs": [
    {
     "data": {
      "text/plain": [
       "[<matplotlib.lines.Line2D at 0x1a2d79ba20>]"
      ]
     },
     "execution_count": 60,
     "metadata": {},
     "output_type": "execute_result"
    },
    {
     "data": {
      "image/png": "[encoded data removed]",
      "text/plain": [
       "<Figure size 1800x1080 with 1 Axes>"
      ]
     },
     "metadata": {
      "needs_background": "light"
     },
     "output_type": "display_data"
    }
   ],
   "source": [
    "#plotting daily sentiment trends\n",
    "x = df_weekly_sentiment.date_time_week\n",
    "y = df_weekly_sentiment.sentiment\n",
    "\n",
    "plt.figure(figsize = (25,15))\n",
    "\n",
    "plt.xticks(fontsize = 15)\n",
    "\n",
    "plt.xticks(rotation= 90)\n",
    "plt.plot(x,y)\n",
    "\n",
    "#chart is needs better labels possibly monthly labels and annotations will be good\n",
    "#could potentially use tableau to do this"
   ]
  },
  {
   "cell_type": "code",
   "execution_count": null,
   "metadata": {},
   "outputs": [],
   "source": [
    "#consider using mode or other kind of average?\n",
    "#next section will use groupby and take the aggregate sentiment of days, weeks, months instead of the average"
   ]
  },
  {
   "cell_type": "markdown",
   "metadata": {},
   "source": [
    "# 4. Sentiment Analysis -- Aggregated Corpus Sentiment"
   ]
  },
  {
   "cell_type": "code",
   "execution_count": null,
   "metadata": {
    "ExecuteTime": {
     "end_time": "2019-08-19T03:48:01.963440Z",
     "start_time": "2019-08-19T03:48:01.961317Z"
    }
   },
   "outputs": [],
   "source": [
    "#use concated corpus rather than averages to calcluate sentiment\n",
    "#this is not working, might be something wrong with code or inefficient code ask lukas"
   ]
  },
  {
   "cell_type": "code",
   "execution_count": null,
   "metadata": {
    "ExecuteTime": {
     "end_time": "2019-08-19T03:48:02.457663Z",
     "start_time": "2019-08-19T03:48:02.449210Z"
    }
   },
   "outputs": [],
   "source": [
    "df_monthly_concat = df_analysis [['published_on','year_month','text']]\n",
    "\n",
    "df_monthly_concat = df_monthly_concat[df_monthly_concat.published_on >= 1504224000]\n",
    "\n",
    "#df_monthly_concat"
   ]
  },
  {
   "cell_type": "code",
   "execution_count": null,
   "metadata": {
    "ExecuteTime": {
     "end_time": "2019-08-19T03:48:30.241713Z",
     "start_time": "2019-08-19T03:48:30.081478Z"
    }
   },
   "outputs": [],
   "source": [
    "df_monthly_concat = df_monthly_concat.groupby(['year_month'])['text'].apply(' '.join).reset_index()\n",
    "\n",
    "df_monthly_concat"
   ]
  },
  {
   "cell_type": "code",
   "execution_count": null,
   "metadata": {
    "ExecuteTime": {
     "end_time": "2019-08-19T05:06:47.214831Z",
     "start_time": "2019-08-19T03:48:43.700088Z"
    }
   },
   "outputs": [],
   "source": [
    "df_monthly_concat['compound_score'] = df_monthly_concat['text'].apply(lambda x: analyser.polarity_scores(x)['compound'])"
   ]
  },
  {
   "cell_type": "code",
   "execution_count": null,
   "metadata": {
    "ExecuteTime": {
     "end_time": "2019-08-19T05:06:47.225137Z",
     "start_time": "2019-08-19T04:25:52.302Z"
    }
   },
   "outputs": [],
   "source": [
    "df_monthly_concat.to_pickle(\"./df_monthlyconcat.pkl\")"
   ]
  },
  {
   "cell_type": "code",
   "execution_count": null,
   "metadata": {
    "ExecuteTime": {
     "end_time": "2019-08-19T03:45:17.184198Z",
     "start_time": "2019-08-19T03:45:17.176203Z"
    }
   },
   "outputs": [],
   "source": [
    "df_monthly_concat.head()"
   ]
  }
 ],
 "metadata": {
  "kernelspec": {
   "display_name": "Python 3",
   "language": "python",
   "name": "python3"
  },
  "language_info": {
   "codemirror_mode": {
    "name": "ipython",
    "version": 3
   },
   "file_extension": ".py",
   "mimetype": "text/x-python",
   "name": "python",
   "nbconvert_exporter": "python",
   "pygments_lexer": "ipython3",
   "version": "3.7.3"
  },
  "varInspector": {
   "cols": {
    "lenName": 16,
    "lenType": 16,
    "lenVar": 40
   },
   "kernels_config": {
    "python": {
     "delete_cmd_postfix": "",
     "delete_cmd_prefix": "del ",
     "library": "var_list.py",
     "varRefreshCmd": "print(var_dic_list())"
    },
    "r": {
     "delete_cmd_postfix": ") ",
     "delete_cmd_prefix": "rm(",
     "library": "var_list.r",
     "varRefreshCmd": "cat(var_dic_list()) "
    }
   },
   "types_to_exclude": [
    "module",
    "function",
    "builtin_function_or_method",
    "instance",
    "_Feature"
   ],
   "window_display": false
  }
 },
 "nbformat": 4,
 "nbformat_minor": 2
}
