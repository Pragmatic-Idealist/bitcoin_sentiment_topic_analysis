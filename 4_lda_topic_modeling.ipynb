{
 "cells": [
  {
   "cell_type": "code",
   "execution_count": 1,
   "metadata": {
    "ExecuteTime": {
     "end_time": "2019-09-02T23:34:11.686174Z",
     "start_time": "2019-09-02T23:34:11.684058Z"
    }
   },
   "outputs": [],
   "source": [
    "#pip install pyLDAvis #install pyLDAvis\n"
   ]
  },
  {
   "cell_type": "code",
   "execution_count": 2,
   "metadata": {
    "ExecuteTime": {
     "end_time": "2019-09-02T23:34:12.020013Z",
     "start_time": "2019-09-02T23:34:12.017865Z"
    }
   },
   "outputs": [],
   "source": [
    "#pip install -U spacy"
   ]
  },
  {
   "cell_type": "code",
   "execution_count": 3,
   "metadata": {
    "ExecuteTime": {
     "end_time": "2019-09-02T23:34:13.537650Z",
     "start_time": "2019-09-02T23:34:12.311771Z"
    }
   },
   "outputs": [
    {
     "name": "stderr",
     "output_type": "stream",
     "text": [
      "/anaconda3/lib/python3.7/site-packages/past/types/oldstr.py:5: DeprecationWarning: Using or importing the ABCs from 'collections' instead of from 'collections.abc' is deprecated, and in 3.8 it will stop working\n",
      "  from collections import Iterable\n",
      "/anaconda3/lib/python3.7/site-packages/nltk/decorators.py:68: DeprecationWarning: `formatargspec` is deprecated since Python 3.5. Use `signature` and the `Signature` object directly\n",
      "  regargs, varargs, varkwargs, defaults, formatvalue=lambda value: \"\"\n",
      "/anaconda3/lib/python3.7/site-packages/thinc/neural/train.py:7: DeprecationWarning: Using or importing the ABCs from 'collections' instead of from 'collections.abc' is deprecated, and in 3.8 it will stop working\n",
      "  from .optimizers import Adam, linear_decay\n",
      "/anaconda3/lib/python3.7/site-packages/thinc/check.py:4: DeprecationWarning: Using or importing the ABCs from 'collections' instead of from 'collections.abc' is deprecated, and in 3.8 it will stop working\n",
      "  from collections import Sequence, Sized, Iterable, Callable\n",
      "/anaconda3/lib/python3.7/site-packages/thinc/check.py:4: DeprecationWarning: Using or importing the ABCs from 'collections' instead of from 'collections.abc' is deprecated, and in 3.8 it will stop working\n",
      "  from collections import Sequence, Sized, Iterable, Callable\n"
     ]
    }
   ],
   "source": [
    "#basic libraries\n",
    "import pandas as pd\n",
    "import numpy as np\n",
    "import re, pprint\n",
    "\n",
    "#Dimension Reduction Libraries\n",
    "from sklearn.decomposition import LatentDirichletAllocation, TruncatedSVD\n",
    "from sklearn.feature_extraction.text import CountVectorizer, TfidfVectorizer\n",
    "\n",
    "#Visualizations\n",
    "import pyLDAvis\n",
    "import pyLDAvis.sklearn\n",
    "\n",
    "#NLP Libraries\n",
    "import nltk\n",
    "from nltk.corpus import stopwords\n",
    "from nltk.stem import PorterStemmer \n",
    "from nltk.tokenize import word_tokenize\n",
    "import spacy\n"
   ]
  },
  {
   "cell_type": "markdown",
   "metadata": {},
   "source": [
    "# 1. Reading in CSV and Dataframe Cleaning"
   ]
  },
  {
   "cell_type": "code",
   "execution_count": 4,
   "metadata": {
    "ExecuteTime": {
     "end_time": "2019-09-02T23:34:15.800897Z",
     "start_time": "2019-09-02T23:34:14.574098Z"
    }
   },
   "outputs": [
    {
     "name": "stderr",
     "output_type": "stream",
     "text": [
      "/anaconda3/lib/python3.7/site-packages/ipykernel_launcher.py:11: FutureWarning: Sorting because non-concatenation axis is not aligned. A future version\n",
      "of pandas will change to not sort by default.\n",
      "\n",
      "To accept the future behavior, pass 'sort=False'.\n",
      "\n",
      "To retain the current behavior and silence the warning, pass 'sort=True'.\n",
      "\n",
      "  # This is added back by InteractiveShellApp.init_path()\n"
     ]
    }
   ],
   "source": [
    "#Data already taken from API, will run additional requests with different filtering parameters as needed\n",
    "#designate paths\n",
    "path1 = 'api_data.csv'\n",
    "path2 = 'api_data_btc_eth_filter.csv'\n",
    "path3 = 'api_data_btc_eth_regulations_moreetc_regs_filter_yahoofinance.csv'\n",
    "path4 = 'api_data_btc_eth_regulations_moreetc_regs_filter.csv'\n",
    "path5 = 'api_data_no_filters.csv'\n",
    "\n",
    "#df=pd.concat([pd.read_csv(path1),pd.read_csv(path2),pd.read_csv(path3),pd.read_csv(path4), pd.read_csv(path5)])\n",
    "\n",
    "df=pd.concat([pd.read_csv(path2),pd.read_csv(path3),pd.read_csv(path4)])"
   ]
  },
  {
   "cell_type": "code",
   "execution_count": 5,
   "metadata": {
    "ExecuteTime": {
     "end_time": "2019-09-02T23:34:16.603954Z",
     "start_time": "2019-09-02T23:34:16.543079Z"
    }
   },
   "outputs": [],
   "source": [
    "df.id = df.id.astype(str)#changing ID to str"
   ]
  },
  {
   "cell_type": "code",
   "execution_count": 6,
   "metadata": {
    "ExecuteTime": {
     "end_time": "2019-09-02T23:34:17.286468Z",
     "start_time": "2019-09-02T23:34:17.190127Z"
    }
   },
   "outputs": [],
   "source": [
    "dropcol = ['Unnamed: 0','downvotes','guid','imageurl','lang','source_info','upvotes','url']\n",
    "\n",
    "df_analysis = df.drop(dropcol,axis=1)"
   ]
  },
  {
   "cell_type": "code",
   "execution_count": 7,
   "metadata": {
    "ExecuteTime": {
     "end_time": "2019-09-02T23:34:18.070582Z",
     "start_time": "2019-09-02T23:34:18.047497Z"
    }
   },
   "outputs": [],
   "source": [
    "#remove duplicate articles\n",
    "\n",
    "df_analysis.drop_duplicates('id',inplace = True)"
   ]
  },
  {
   "cell_type": "code",
   "execution_count": 8,
   "metadata": {
    "ExecuteTime": {
     "end_time": "2019-09-02T23:34:21.851896Z",
     "start_time": "2019-09-02T23:34:21.826880Z"
    }
   },
   "outputs": [],
   "source": [
    "df_analysis = df_analysis.reset_index()\n",
    "df_analysis = df_analysis.drop(['index'],axis = 1)"
   ]
  },
  {
   "cell_type": "code",
   "execution_count": 9,
   "metadata": {
    "ExecuteTime": {
     "end_time": "2019-09-02T23:34:22.569204Z",
     "start_time": "2019-09-02T23:34:22.485928Z"
    }
   },
   "outputs": [],
   "source": [
    "df_analysis[\"text\"] = df_analysis[\"title\"].map(str) + ' '+ df_analysis[\"body\"].map(str)"
   ]
  },
  {
   "cell_type": "code",
   "execution_count": 10,
   "metadata": {
    "ExecuteTime": {
     "end_time": "2019-09-02T23:34:33.913501Z",
     "start_time": "2019-09-02T23:34:32.935152Z"
    }
   },
   "outputs": [],
   "source": [
    "#need to do some regrex cleaning on text column\n",
    "#Regex to get rid of numbers so that only ingredients are left\n",
    "\n",
    "#use an apply function to apply regrex to each row in nlp_ingredients\n",
    "df_analysis['text'] = df_analysis['text'].apply(lambda x: re.sub(r'\\b\\d+\\b', '', x))\n",
    "\n",
    "#remove punctuation\n",
    "df_analysis['text'] = df_analysis['text'].apply(lambda x: re.sub(r'[^\\w\\s]','',x))\n",
    "\n",
    "#make all ingredients lowercase\n",
    "df_analysis['text'] = df_analysis['text'].apply(lambda x: x.lower())\n",
    "\n"
   ]
  },
  {
   "cell_type": "code",
   "execution_count": 11,
   "metadata": {
    "ExecuteTime": {
     "end_time": "2019-09-02T23:34:34.949925Z",
     "start_time": "2019-09-02T23:34:34.919721Z"
    }
   },
   "outputs": [],
   "source": [
    "#Create a year_month column\n",
    "df_analysis['year_month'] = df_analysis['date_time'].str[0:7]\n",
    "#Create a year_month_day column\n",
    "df_analysis['year_month_day'] = df_analysis['date_time'].str[0:10]\n"
   ]
  },
  {
   "cell_type": "code",
   "execution_count": 12,
   "metadata": {
    "ExecuteTime": {
     "end_time": "2019-09-02T23:34:39.130515Z",
     "start_time": "2019-09-02T23:34:39.102447Z"
    }
   },
   "outputs": [],
   "source": [
    "#convert data_time back to date_time object\n",
    "df_analysis['date_time'] = pd.to_datetime(df_analysis['date_time'])"
   ]
  },
  {
   "cell_type": "code",
   "execution_count": 13,
   "metadata": {
    "ExecuteTime": {
     "end_time": "2019-09-02T23:34:40.002193Z",
     "start_time": "2019-09-02T23:34:39.790701Z"
    }
   },
   "outputs": [],
   "source": [
    "#Create year_week column\n",
    "df_analysis['date_time_week'] = df_analysis.date_time.dt.strftime(\"%Y-%W\")"
   ]
  },
  {
   "cell_type": "code",
   "execution_count": 14,
   "metadata": {
    "ExecuteTime": {
     "end_time": "2019-09-02T23:34:41.971027Z",
     "start_time": "2019-09-02T23:34:41.952198Z"
    },
    "scrolled": true
   },
   "outputs": [
    {
     "data": {
      "text/html": [
       "<div>\n",
       "<style scoped>\n",
       "    .dataframe tbody tr th:only-of-type {\n",
       "        vertical-align: middle;\n",
       "    }\n",
       "\n",
       "    .dataframe tbody tr th {\n",
       "        vertical-align: top;\n",
       "    }\n",
       "\n",
       "    .dataframe thead th {\n",
       "        text-align: right;\n",
       "    }\n",
       "</style>\n",
       "<table border=\"1\" class=\"dataframe\">\n",
       "  <thead>\n",
       "    <tr style=\"text-align: right;\">\n",
       "      <th></th>\n",
       "      <th>body</th>\n",
       "      <th>categories</th>\n",
       "      <th>date_time</th>\n",
       "      <th>id</th>\n",
       "      <th>published_on</th>\n",
       "      <th>source</th>\n",
       "      <th>tags</th>\n",
       "      <th>title</th>\n",
       "      <th>text</th>\n",
       "      <th>year_month</th>\n",
       "      <th>year_month_day</th>\n",
       "      <th>date_time_week</th>\n",
       "    </tr>\n",
       "  </thead>\n",
       "  <tbody>\n",
       "    <tr>\n",
       "      <th>0</th>\n",
       "      <td>Bitcoin has been trading for a premium of betw...</td>\n",
       "      <td>BTC|Market|Trading</td>\n",
       "      <td>2019-08-15 22:00:47</td>\n",
       "      <td>2813980</td>\n",
       "      <td>1565906447</td>\n",
       "      <td>newsbtc</td>\n",
       "      <td>Bitcoin|Opinion|argentina|bitcoin|safe haven</td>\n",
       "      <td>Argentine Bitcoin Premium Shows Relativity of ...</td>\n",
       "      <td>argentine bitcoin premium shows relativity of ...</td>\n",
       "      <td>2019-08</td>\n",
       "      <td>2019-08-15</td>\n",
       "      <td>2019-32</td>\n",
       "    </tr>\n",
       "    <tr>\n",
       "      <th>1</th>\n",
       "      <td>Bitcoin’s market valuation has already made so...</td>\n",
       "      <td>BTC|Trading|Market</td>\n",
       "      <td>2019-08-15 22:00:21</td>\n",
       "      <td>2813979</td>\n",
       "      <td>1565906421</td>\n",
       "      <td>bitcoinist</td>\n",
       "      <td>Bitcoin|Bitcoin Price|News|News teaser|bitcoin...</td>\n",
       "      <td>Brandt’s Momentum Indicator Highlights Potenti...</td>\n",
       "      <td>brandts momentum indicator highlights potentia...</td>\n",
       "      <td>2019-08</td>\n",
       "      <td>2019-08-15</td>\n",
       "      <td>2019-32</td>\n",
       "    </tr>\n",
       "    <tr>\n",
       "      <th>2</th>\n",
       "      <td>Paxful’s peer-to-peer Bitcoin exchange got a b...</td>\n",
       "      <td>BTC|Exchange|Trading|Fiat|Market</td>\n",
       "      <td>2019-08-15 21:55:41</td>\n",
       "      <td>2813832</td>\n",
       "      <td>1565906141</td>\n",
       "      <td>decrypt</td>\n",
       "      <td>Cryptocurrencies|bitcoin|cryptocurrency|Market...</td>\n",
       "      <td>Bitcoin peer-to-peer exchange Paxful sees 70 p...</td>\n",
       "      <td>bitcoin peertopeer exchange paxful sees  perce...</td>\n",
       "      <td>2019-08</td>\n",
       "      <td>2019-08-15</td>\n",
       "      <td>2019-32</td>\n",
       "    </tr>\n",
       "    <tr>\n",
       "      <th>3</th>\n",
       "      <td>Move over, John McAfee, there&amp;#8217;s a new cr...</td>\n",
       "      <td>BTC|Blockchain|Technology|Regulation</td>\n",
       "      <td>2019-08-15 21:21:14</td>\n",
       "      <td>2812410</td>\n",
       "      <td>1565904074</td>\n",
       "      <td>cryptobriefing</td>\n",
       "      <td>News|Bitcoin|Government|Politics|USA</td>\n",
       "      <td>Crypto Candidate Andrew Yang Talks Up Bitcoin ...</td>\n",
       "      <td>crypto candidate andrew yang talks up bitcoin ...</td>\n",
       "      <td>2019-08</td>\n",
       "      <td>2019-08-15</td>\n",
       "      <td>2019-32</td>\n",
       "    </tr>\n",
       "    <tr>\n",
       "      <th>4</th>\n",
       "      <td>TRON announced the latest release of its side ...</td>\n",
       "      <td>ETH|Blockchain|BTC|Market</td>\n",
       "      <td>2019-08-15 21:19:06</td>\n",
       "      <td>2812411</td>\n",
       "      <td>1565903946</td>\n",
       "      <td>cryptoslate</td>\n",
       "      <td>Analysis|EOS|Ethereum|Tron</td>\n",
       "      <td>Is TRON’s Sun Network a marketing gimmick? Com...</td>\n",
       "      <td>is trons sun network a marketing gimmick compa...</td>\n",
       "      <td>2019-08</td>\n",
       "      <td>2019-08-15</td>\n",
       "      <td>2019-32</td>\n",
       "    </tr>\n",
       "  </tbody>\n",
       "</table>\n",
       "</div>"
      ],
      "text/plain": [
       "                                                body  \\\n",
       "0  Bitcoin has been trading for a premium of betw...   \n",
       "1  Bitcoin’s market valuation has already made so...   \n",
       "2  Paxful’s peer-to-peer Bitcoin exchange got a b...   \n",
       "3  Move over, John McAfee, there&#8217;s a new cr...   \n",
       "4  TRON announced the latest release of its side ...   \n",
       "\n",
       "                             categories           date_time       id  \\\n",
       "0                    BTC|Market|Trading 2019-08-15 22:00:47  2813980   \n",
       "1                    BTC|Trading|Market 2019-08-15 22:00:21  2813979   \n",
       "2      BTC|Exchange|Trading|Fiat|Market 2019-08-15 21:55:41  2813832   \n",
       "3  BTC|Blockchain|Technology|Regulation 2019-08-15 21:21:14  2812410   \n",
       "4             ETH|Blockchain|BTC|Market 2019-08-15 21:19:06  2812411   \n",
       "\n",
       "   published_on          source  \\\n",
       "0    1565906447         newsbtc   \n",
       "1    1565906421      bitcoinist   \n",
       "2    1565906141         decrypt   \n",
       "3    1565904074  cryptobriefing   \n",
       "4    1565903946     cryptoslate   \n",
       "\n",
       "                                                tags  \\\n",
       "0       Bitcoin|Opinion|argentina|bitcoin|safe haven   \n",
       "1  Bitcoin|Bitcoin Price|News|News teaser|bitcoin...   \n",
       "2  Cryptocurrencies|bitcoin|cryptocurrency|Market...   \n",
       "3               News|Bitcoin|Government|Politics|USA   \n",
       "4                         Analysis|EOS|Ethereum|Tron   \n",
       "\n",
       "                                               title  \\\n",
       "0  Argentine Bitcoin Premium Shows Relativity of ...   \n",
       "1  Brandt’s Momentum Indicator Highlights Potenti...   \n",
       "2  Bitcoin peer-to-peer exchange Paxful sees 70 p...   \n",
       "3  Crypto Candidate Andrew Yang Talks Up Bitcoin ...   \n",
       "4  Is TRON’s Sun Network a marketing gimmick? Com...   \n",
       "\n",
       "                                                text year_month  \\\n",
       "0  argentine bitcoin premium shows relativity of ...    2019-08   \n",
       "1  brandts momentum indicator highlights potentia...    2019-08   \n",
       "2  bitcoin peertopeer exchange paxful sees  perce...    2019-08   \n",
       "3  crypto candidate andrew yang talks up bitcoin ...    2019-08   \n",
       "4  is trons sun network a marketing gimmick compa...    2019-08   \n",
       "\n",
       "  year_month_day date_time_week  \n",
       "0     2019-08-15        2019-32  \n",
       "1     2019-08-15        2019-32  \n",
       "2     2019-08-15        2019-32  \n",
       "3     2019-08-15        2019-32  \n",
       "4     2019-08-15        2019-32  "
      ]
     },
     "execution_count": 14,
     "metadata": {},
     "output_type": "execute_result"
    }
   ],
   "source": [
    "df_analysis.head()"
   ]
  },
  {
   "cell_type": "markdown",
   "metadata": {},
   "source": [
    "# 2. Preprocessing"
   ]
  },
  {
   "cell_type": "code",
   "execution_count": 15,
   "metadata": {
    "ExecuteTime": {
     "end_time": "2019-09-02T23:34:47.205060Z",
     "start_time": "2019-09-02T23:34:47.200315Z"
    }
   },
   "outputs": [],
   "source": [
    "#appending additional stopwords for better topic modeling\n",
    "stopwords = nltk.corpus.stopwords.words('english')\n",
    "crypto_stop_words = ['bitcoin', 'bitcoins', 'cryptocurrency', 'crypto', 'cryptocurrencies','first', 'new', 'post', 'pron','blockchain',\n",
    "                     'cryptocurrencie', 'price', 'appear','exchange','analysis','market','ethereum', 'say','south','one']\n",
    "stopwords.extend(crypto_stop_words)"
   ]
  },
  {
   "cell_type": "code",
   "execution_count": 16,
   "metadata": {
    "ExecuteTime": {
     "end_time": "2019-09-02T23:34:50.647670Z",
     "start_time": "2019-09-02T23:34:50.367529Z"
    }
   },
   "outputs": [],
   "source": [
    "#Simple function that lemmatizes a description\n",
    "scy = spacy.load(\"en_core_web_sm\")\n",
    "def desc_prepro(desc):\n",
    "    doc = scy(desc)\n",
    "    words = [token.lemma_ for token in doc]\n",
    "    return ' '.join(words)\n",
    "\n"
   ]
  },
  {
   "cell_type": "code",
   "execution_count": 17,
   "metadata": {
    "ExecuteTime": {
     "end_time": "2019-09-02T23:34:51.188398Z",
     "start_time": "2019-09-02T23:34:51.186266Z"
    }
   },
   "outputs": [],
   "source": [
    "#Lemmmatizing Process -- Takes about 10 Minutes\n",
    "#df_analysis['text'] = df_analysis['text'].map(desc_prepro)\n",
    "#df_analysis.to_csv('topicmodel.csv')"
   ]
  },
  {
   "cell_type": "code",
   "execution_count": 18,
   "metadata": {
    "ExecuteTime": {
     "end_time": "2019-09-02T23:34:52.005546Z",
     "start_time": "2019-09-02T23:34:51.991591Z"
    }
   },
   "outputs": [
    {
     "data": {
      "text/html": [
       "<div>\n",
       "<style scoped>\n",
       "    .dataframe tbody tr th:only-of-type {\n",
       "        vertical-align: middle;\n",
       "    }\n",
       "\n",
       "    .dataframe tbody tr th {\n",
       "        vertical-align: top;\n",
       "    }\n",
       "\n",
       "    .dataframe thead th {\n",
       "        text-align: right;\n",
       "    }\n",
       "</style>\n",
       "<table border=\"1\" class=\"dataframe\">\n",
       "  <thead>\n",
       "    <tr style=\"text-align: right;\">\n",
       "      <th></th>\n",
       "      <th>body</th>\n",
       "      <th>categories</th>\n",
       "      <th>date_time</th>\n",
       "      <th>id</th>\n",
       "      <th>published_on</th>\n",
       "      <th>source</th>\n",
       "      <th>tags</th>\n",
       "      <th>title</th>\n",
       "      <th>text</th>\n",
       "      <th>year_month</th>\n",
       "      <th>year_month_day</th>\n",
       "      <th>date_time_week</th>\n",
       "    </tr>\n",
       "  </thead>\n",
       "  <tbody>\n",
       "    <tr>\n",
       "      <th>0</th>\n",
       "      <td>Bitcoin has been trading for a premium of betw...</td>\n",
       "      <td>BTC|Market|Trading</td>\n",
       "      <td>2019-08-15 22:00:47</td>\n",
       "      <td>2813980</td>\n",
       "      <td>1565906447</td>\n",
       "      <td>newsbtc</td>\n",
       "      <td>Bitcoin|Opinion|argentina|bitcoin|safe haven</td>\n",
       "      <td>Argentine Bitcoin Premium Shows Relativity of ...</td>\n",
       "      <td>argentine bitcoin premium shows relativity of ...</td>\n",
       "      <td>2019-08</td>\n",
       "      <td>2019-08-15</td>\n",
       "      <td>2019-32</td>\n",
       "    </tr>\n",
       "    <tr>\n",
       "      <th>1</th>\n",
       "      <td>Bitcoin’s market valuation has already made so...</td>\n",
       "      <td>BTC|Trading|Market</td>\n",
       "      <td>2019-08-15 22:00:21</td>\n",
       "      <td>2813979</td>\n",
       "      <td>1565906421</td>\n",
       "      <td>bitcoinist</td>\n",
       "      <td>Bitcoin|Bitcoin Price|News|News teaser|bitcoin...</td>\n",
       "      <td>Brandt’s Momentum Indicator Highlights Potenti...</td>\n",
       "      <td>brandts momentum indicator highlights potentia...</td>\n",
       "      <td>2019-08</td>\n",
       "      <td>2019-08-15</td>\n",
       "      <td>2019-32</td>\n",
       "    </tr>\n",
       "    <tr>\n",
       "      <th>2</th>\n",
       "      <td>Paxful’s peer-to-peer Bitcoin exchange got a b...</td>\n",
       "      <td>BTC|Exchange|Trading|Fiat|Market</td>\n",
       "      <td>2019-08-15 21:55:41</td>\n",
       "      <td>2813832</td>\n",
       "      <td>1565906141</td>\n",
       "      <td>decrypt</td>\n",
       "      <td>Cryptocurrencies|bitcoin|cryptocurrency|Market...</td>\n",
       "      <td>Bitcoin peer-to-peer exchange Paxful sees 70 p...</td>\n",
       "      <td>bitcoin peertopeer exchange paxful sees  perce...</td>\n",
       "      <td>2019-08</td>\n",
       "      <td>2019-08-15</td>\n",
       "      <td>2019-32</td>\n",
       "    </tr>\n",
       "    <tr>\n",
       "      <th>3</th>\n",
       "      <td>Move over, John McAfee, there&amp;#8217;s a new cr...</td>\n",
       "      <td>BTC|Blockchain|Technology|Regulation</td>\n",
       "      <td>2019-08-15 21:21:14</td>\n",
       "      <td>2812410</td>\n",
       "      <td>1565904074</td>\n",
       "      <td>cryptobriefing</td>\n",
       "      <td>News|Bitcoin|Government|Politics|USA</td>\n",
       "      <td>Crypto Candidate Andrew Yang Talks Up Bitcoin ...</td>\n",
       "      <td>crypto candidate andrew yang talks up bitcoin ...</td>\n",
       "      <td>2019-08</td>\n",
       "      <td>2019-08-15</td>\n",
       "      <td>2019-32</td>\n",
       "    </tr>\n",
       "    <tr>\n",
       "      <th>4</th>\n",
       "      <td>TRON announced the latest release of its side ...</td>\n",
       "      <td>ETH|Blockchain|BTC|Market</td>\n",
       "      <td>2019-08-15 21:19:06</td>\n",
       "      <td>2812411</td>\n",
       "      <td>1565903946</td>\n",
       "      <td>cryptoslate</td>\n",
       "      <td>Analysis|EOS|Ethereum|Tron</td>\n",
       "      <td>Is TRON’s Sun Network a marketing gimmick? Com...</td>\n",
       "      <td>is trons sun network a marketing gimmick compa...</td>\n",
       "      <td>2019-08</td>\n",
       "      <td>2019-08-15</td>\n",
       "      <td>2019-32</td>\n",
       "    </tr>\n",
       "  </tbody>\n",
       "</table>\n",
       "</div>"
      ],
      "text/plain": [
       "                                                body  \\\n",
       "0  Bitcoin has been trading for a premium of betw...   \n",
       "1  Bitcoin’s market valuation has already made so...   \n",
       "2  Paxful’s peer-to-peer Bitcoin exchange got a b...   \n",
       "3  Move over, John McAfee, there&#8217;s a new cr...   \n",
       "4  TRON announced the latest release of its side ...   \n",
       "\n",
       "                             categories           date_time       id  \\\n",
       "0                    BTC|Market|Trading 2019-08-15 22:00:47  2813980   \n",
       "1                    BTC|Trading|Market 2019-08-15 22:00:21  2813979   \n",
       "2      BTC|Exchange|Trading|Fiat|Market 2019-08-15 21:55:41  2813832   \n",
       "3  BTC|Blockchain|Technology|Regulation 2019-08-15 21:21:14  2812410   \n",
       "4             ETH|Blockchain|BTC|Market 2019-08-15 21:19:06  2812411   \n",
       "\n",
       "   published_on          source  \\\n",
       "0    1565906447         newsbtc   \n",
       "1    1565906421      bitcoinist   \n",
       "2    1565906141         decrypt   \n",
       "3    1565904074  cryptobriefing   \n",
       "4    1565903946     cryptoslate   \n",
       "\n",
       "                                                tags  \\\n",
       "0       Bitcoin|Opinion|argentina|bitcoin|safe haven   \n",
       "1  Bitcoin|Bitcoin Price|News|News teaser|bitcoin...   \n",
       "2  Cryptocurrencies|bitcoin|cryptocurrency|Market...   \n",
       "3               News|Bitcoin|Government|Politics|USA   \n",
       "4                         Analysis|EOS|Ethereum|Tron   \n",
       "\n",
       "                                               title  \\\n",
       "0  Argentine Bitcoin Premium Shows Relativity of ...   \n",
       "1  Brandt’s Momentum Indicator Highlights Potenti...   \n",
       "2  Bitcoin peer-to-peer exchange Paxful sees 70 p...   \n",
       "3  Crypto Candidate Andrew Yang Talks Up Bitcoin ...   \n",
       "4  Is TRON’s Sun Network a marketing gimmick? Com...   \n",
       "\n",
       "                                                text year_month  \\\n",
       "0  argentine bitcoin premium shows relativity of ...    2019-08   \n",
       "1  brandts momentum indicator highlights potentia...    2019-08   \n",
       "2  bitcoin peertopeer exchange paxful sees  perce...    2019-08   \n",
       "3  crypto candidate andrew yang talks up bitcoin ...    2019-08   \n",
       "4  is trons sun network a marketing gimmick compa...    2019-08   \n",
       "\n",
       "  year_month_day date_time_week  \n",
       "0     2019-08-15        2019-32  \n",
       "1     2019-08-15        2019-32  \n",
       "2     2019-08-15        2019-32  \n",
       "3     2019-08-15        2019-32  \n",
       "4     2019-08-15        2019-32  "
      ]
     },
     "execution_count": 18,
     "metadata": {},
     "output_type": "execute_result"
    }
   ],
   "source": [
    "df_analysis.head()"
   ]
  },
  {
   "cell_type": "code",
   "execution_count": 114,
   "metadata": {
    "ExecuteTime": {
     "end_time": "2019-08-22T03:02:14.605637Z",
     "start_time": "2019-08-22T03:02:13.042566Z"
    }
   },
   "outputs": [],
   "source": [
    "vectorizer = TfidfVectorizer(analyzer='word',       \n",
    "                             min_df=10,                        # minimum read occurences of a word \n",
    "                             stop_words= stopwords,             # remove stop words, using a custom list \n",
    "                             lowercase=True,                   # convert all words to lowercase\n",
    "                             token_pattern='[a-zA-Z0-9]{3,}',  # num chars > 3\n",
    "                             max_features=1000,             # max number of uniq words\n",
    "                            )\n",
    "\n",
    "data_vectorized = vectorizer.fit_transform(df_analysis.text)"
   ]
  },
  {
   "cell_type": "code",
   "execution_count": 115,
   "metadata": {
    "ExecuteTime": {
     "end_time": "2019-08-22T03:02:15.036470Z",
     "start_time": "2019-08-22T03:02:15.022252Z"
    }
   },
   "outputs": [
    {
     "data": {
      "text/html": [
       "<div>\n",
       "<style scoped>\n",
       "    .dataframe tbody tr th:only-of-type {\n",
       "        vertical-align: middle;\n",
       "    }\n",
       "\n",
       "    .dataframe tbody tr th {\n",
       "        vertical-align: top;\n",
       "    }\n",
       "\n",
       "    .dataframe thead th {\n",
       "        text-align: right;\n",
       "    }\n",
       "</style>\n",
       "<table border=\"1\" class=\"dataframe\">\n",
       "  <thead>\n",
       "    <tr style=\"text-align: right;\">\n",
       "      <th></th>\n",
       "      <th>index</th>\n",
       "      <th>Weight</th>\n",
       "    </tr>\n",
       "  </thead>\n",
       "  <tbody>\n",
       "    <tr>\n",
       "      <th>0</th>\n",
       "      <td>news</td>\n",
       "      <td>2.519669</td>\n",
       "    </tr>\n",
       "    <tr>\n",
       "      <th>1</th>\n",
       "      <td>world</td>\n",
       "      <td>3.224442</td>\n",
       "    </tr>\n",
       "    <tr>\n",
       "      <th>2</th>\n",
       "      <td>make</td>\n",
       "      <td>3.255424</td>\n",
       "    </tr>\n",
       "    <tr>\n",
       "      <th>3</th>\n",
       "      <td>company</td>\n",
       "      <td>3.263004</td>\n",
       "    </tr>\n",
       "    <tr>\n",
       "      <th>4</th>\n",
       "      <td>use</td>\n",
       "      <td>3.282426</td>\n",
       "    </tr>\n",
       "    <tr>\n",
       "      <th>5</th>\n",
       "      <td>also</td>\n",
       "      <td>3.311731</td>\n",
       "    </tr>\n",
       "    <tr>\n",
       "      <th>6</th>\n",
       "      <td>year</td>\n",
       "      <td>3.314620</td>\n",
       "    </tr>\n",
       "    <tr>\n",
       "      <th>7</th>\n",
       "      <td>time</td>\n",
       "      <td>3.333947</td>\n",
       "    </tr>\n",
       "    <tr>\n",
       "      <th>8</th>\n",
       "      <td>btc</td>\n",
       "      <td>3.344669</td>\n",
       "    </tr>\n",
       "    <tr>\n",
       "      <th>9</th>\n",
       "      <td>may</td>\n",
       "      <td>3.388266</td>\n",
       "    </tr>\n",
       "    <tr>\n",
       "      <th>10</th>\n",
       "      <td>platform</td>\n",
       "      <td>3.392588</td>\n",
       "    </tr>\n",
       "    <tr>\n",
       "      <th>11</th>\n",
       "      <td>week</td>\n",
       "      <td>3.397895</td>\n",
       "    </tr>\n",
       "    <tr>\n",
       "      <th>12</th>\n",
       "      <td>digital</td>\n",
       "      <td>3.398137</td>\n",
       "    </tr>\n",
       "    <tr>\n",
       "      <th>13</th>\n",
       "      <td>newsbtc</td>\n",
       "      <td>3.402988</td>\n",
       "    </tr>\n",
       "    <tr>\n",
       "      <th>14</th>\n",
       "      <td>see</td>\n",
       "      <td>3.418671</td>\n",
       "    </tr>\n",
       "    <tr>\n",
       "      <th>15</th>\n",
       "      <td>launch</td>\n",
       "      <td>3.422382</td>\n",
       "    </tr>\n",
       "    <tr>\n",
       "      <th>16</th>\n",
       "      <td>report</td>\n",
       "      <td>3.461306</td>\n",
       "    </tr>\n",
       "    <tr>\n",
       "      <th>17</th>\n",
       "      <td>trading</td>\n",
       "      <td>3.467510</td>\n",
       "    </tr>\n",
       "    <tr>\n",
       "      <th>18</th>\n",
       "      <td>ccn</td>\n",
       "      <td>3.480037</td>\n",
       "    </tr>\n",
       "    <tr>\n",
       "      <th>19</th>\n",
       "      <td>continue</td>\n",
       "      <td>3.487681</td>\n",
       "    </tr>\n",
       "    <tr>\n",
       "      <th>20</th>\n",
       "      <td>technology</td>\n",
       "      <td>3.496185</td>\n",
       "    </tr>\n",
       "    <tr>\n",
       "      <th>21</th>\n",
       "      <td>currency</td>\n",
       "      <td>3.496452</td>\n",
       "    </tr>\n",
       "    <tr>\n",
       "      <th>22</th>\n",
       "      <td>network</td>\n",
       "      <td>3.505301</td>\n",
       "    </tr>\n",
       "    <tr>\n",
       "      <th>23</th>\n",
       "      <td>announce</td>\n",
       "      <td>3.509078</td>\n",
       "    </tr>\n",
       "    <tr>\n",
       "      <th>24</th>\n",
       "      <td>accord</td>\n",
       "      <td>3.529562</td>\n",
       "    </tr>\n",
       "    <tr>\n",
       "      <th>25</th>\n",
       "      <td>take</td>\n",
       "      <td>3.554427</td>\n",
       "    </tr>\n",
       "    <tr>\n",
       "      <th>26</th>\n",
       "      <td>day</td>\n",
       "      <td>3.555276</td>\n",
       "    </tr>\n",
       "    <tr>\n",
       "      <th>27</th>\n",
       "      <td>read</td>\n",
       "      <td>3.565807</td>\n",
       "    </tr>\n",
       "    <tr>\n",
       "      <th>28</th>\n",
       "      <td>investor</td>\n",
       "      <td>3.604010</td>\n",
       "    </tr>\n",
       "    <tr>\n",
       "      <th>29</th>\n",
       "      <td>coin</td>\n",
       "      <td>3.606391</td>\n",
       "    </tr>\n",
       "    <tr>\n",
       "      <th>...</th>\n",
       "      <td>...</td>\n",
       "      <td>...</td>\n",
       "    </tr>\n",
       "    <tr>\n",
       "      <th>970</th>\n",
       "      <td>browser</td>\n",
       "      <td>6.446781</td>\n",
       "    </tr>\n",
       "    <tr>\n",
       "      <th>971</th>\n",
       "      <td>whale</td>\n",
       "      <td>6.451896</td>\n",
       "    </tr>\n",
       "    <tr>\n",
       "      <th>972</th>\n",
       "      <td>gemini</td>\n",
       "      <td>6.451896</td>\n",
       "    </tr>\n",
       "    <tr>\n",
       "      <th>973</th>\n",
       "      <td>malta</td>\n",
       "      <td>6.457038</td>\n",
       "    </tr>\n",
       "    <tr>\n",
       "      <th>974</th>\n",
       "      <td>roger</td>\n",
       "      <td>6.457038</td>\n",
       "    </tr>\n",
       "    <tr>\n",
       "      <th>975</th>\n",
       "      <td>roundup</td>\n",
       "      <td>6.467401</td>\n",
       "    </tr>\n",
       "    <tr>\n",
       "      <th>976</th>\n",
       "      <td>candle</td>\n",
       "      <td>6.467401</td>\n",
       "    </tr>\n",
       "    <tr>\n",
       "      <th>977</th>\n",
       "      <td>petro</td>\n",
       "      <td>6.472623</td>\n",
       "    </tr>\n",
       "    <tr>\n",
       "      <th>978</th>\n",
       "      <td>warren</td>\n",
       "      <td>6.472623</td>\n",
       "    </tr>\n",
       "    <tr>\n",
       "      <th>979</th>\n",
       "      <td>bakkt</td>\n",
       "      <td>6.483149</td>\n",
       "    </tr>\n",
       "    <tr>\n",
       "      <th>980</th>\n",
       "      <td>ethusd</td>\n",
       "      <td>6.488454</td>\n",
       "    </tr>\n",
       "    <tr>\n",
       "      <th>981</th>\n",
       "      <td>bitcoincom</td>\n",
       "      <td>6.499149</td>\n",
       "    </tr>\n",
       "    <tr>\n",
       "      <th>982</th>\n",
       "      <td>novogratz</td>\n",
       "      <td>6.499149</td>\n",
       "    </tr>\n",
       "    <tr>\n",
       "      <th>983</th>\n",
       "      <td>bsv</td>\n",
       "      <td>6.499149</td>\n",
       "    </tr>\n",
       "    <tr>\n",
       "      <th>984</th>\n",
       "      <td>microsoft</td>\n",
       "      <td>6.499149</td>\n",
       "    </tr>\n",
       "    <tr>\n",
       "      <th>985</th>\n",
       "      <td>insurance</td>\n",
       "      <td>6.509960</td>\n",
       "    </tr>\n",
       "    <tr>\n",
       "      <th>986</th>\n",
       "      <td>iran</td>\n",
       "      <td>6.543112</td>\n",
       "    </tr>\n",
       "    <tr>\n",
       "      <th>987</th>\n",
       "      <td>bitpay</td>\n",
       "      <td>6.543112</td>\n",
       "    </tr>\n",
       "    <tr>\n",
       "      <th>988</th>\n",
       "      <td>ver</td>\n",
       "      <td>6.548746</td>\n",
       "    </tr>\n",
       "    <tr>\n",
       "      <th>989</th>\n",
       "      <td>mcafee</td>\n",
       "      <td>6.560110</td>\n",
       "    </tr>\n",
       "    <tr>\n",
       "      <th>990</th>\n",
       "      <td>atm</td>\n",
       "      <td>6.565841</td>\n",
       "    </tr>\n",
       "    <tr>\n",
       "      <th>991</th>\n",
       "      <td>malware</td>\n",
       "      <td>6.565841</td>\n",
       "    </tr>\n",
       "    <tr>\n",
       "      <th>992</th>\n",
       "      <td>swap</td>\n",
       "      <td>6.571604</td>\n",
       "    </tr>\n",
       "    <tr>\n",
       "      <th>993</th>\n",
       "      <td>etoro</td>\n",
       "      <td>6.589098</td>\n",
       "    </tr>\n",
       "    <tr>\n",
       "      <th>994</th>\n",
       "      <td>visa</td>\n",
       "      <td>6.637300</td>\n",
       "    </tr>\n",
       "    <tr>\n",
       "      <th>995</th>\n",
       "      <td>atms</td>\n",
       "      <td>6.748162</td>\n",
       "    </tr>\n",
       "    <tr>\n",
       "      <th>996</th>\n",
       "      <td>tezos</td>\n",
       "      <td>6.762051</td>\n",
       "    </tr>\n",
       "    <tr>\n",
       "      <th>997</th>\n",
       "      <td>bithumb</td>\n",
       "      <td>6.762051</td>\n",
       "    </tr>\n",
       "    <tr>\n",
       "      <th>998</th>\n",
       "      <td>segwit</td>\n",
       "      <td>6.783254</td>\n",
       "    </tr>\n",
       "    <tr>\n",
       "      <th>999</th>\n",
       "      <td>samsung</td>\n",
       "      <td>6.797642</td>\n",
       "    </tr>\n",
       "  </tbody>\n",
       "</table>\n",
       "<p>1000 rows × 2 columns</p>\n",
       "</div>"
      ],
      "text/plain": [
       "          index    Weight\n",
       "0          news  2.519669\n",
       "1         world  3.224442\n",
       "2          make  3.255424\n",
       "3       company  3.263004\n",
       "4           use  3.282426\n",
       "5          also  3.311731\n",
       "6          year  3.314620\n",
       "7          time  3.333947\n",
       "8           btc  3.344669\n",
       "9           may  3.388266\n",
       "10     platform  3.392588\n",
       "11         week  3.397895\n",
       "12      digital  3.398137\n",
       "13      newsbtc  3.402988\n",
       "14          see  3.418671\n",
       "15       launch  3.422382\n",
       "16       report  3.461306\n",
       "17      trading  3.467510\n",
       "18          ccn  3.480037\n",
       "19     continue  3.487681\n",
       "20   technology  3.496185\n",
       "21     currency  3.496452\n",
       "22      network  3.505301\n",
       "23     announce  3.509078\n",
       "24       accord  3.529562\n",
       "25         take  3.554427\n",
       "26          day  3.555276\n",
       "27         read  3.565807\n",
       "28     investor  3.604010\n",
       "29         coin  3.606391\n",
       "..          ...       ...\n",
       "970     browser  6.446781\n",
       "971       whale  6.451896\n",
       "972      gemini  6.451896\n",
       "973       malta  6.457038\n",
       "974       roger  6.457038\n",
       "975     roundup  6.467401\n",
       "976      candle  6.467401\n",
       "977       petro  6.472623\n",
       "978      warren  6.472623\n",
       "979       bakkt  6.483149\n",
       "980      ethusd  6.488454\n",
       "981  bitcoincom  6.499149\n",
       "982   novogratz  6.499149\n",
       "983         bsv  6.499149\n",
       "984   microsoft  6.499149\n",
       "985   insurance  6.509960\n",
       "986        iran  6.543112\n",
       "987      bitpay  6.543112\n",
       "988         ver  6.548746\n",
       "989      mcafee  6.560110\n",
       "990         atm  6.565841\n",
       "991     malware  6.565841\n",
       "992        swap  6.571604\n",
       "993       etoro  6.589098\n",
       "994        visa  6.637300\n",
       "995        atms  6.748162\n",
       "996       tezos  6.762051\n",
       "997     bithumb  6.762051\n",
       "998      segwit  6.783254\n",
       "999     samsung  6.797642\n",
       "\n",
       "[1000 rows x 2 columns]"
      ]
     },
     "execution_count": 115,
     "metadata": {},
     "output_type": "execute_result"
    }
   ],
   "source": [
    "#print(X)\n",
    "df_vectors = pd.DataFrame(vectorizer.idf_, index=vectorizer.get_feature_names(), columns = ['Weight'])\n",
    " \n",
    "# sort ascending\n",
    "\n",
    "df_word_weights = df_vectors.sort_values(by = 'Weight').reset_index()\n",
    "df_word_weights"
   ]
  },
  {
   "cell_type": "code",
   "execution_count": 116,
   "metadata": {
    "ExecuteTime": {
     "end_time": "2019-08-22T03:02:15.457971Z",
     "start_time": "2019-08-22T03:02:15.455136Z"
    }
   },
   "outputs": [
    {
     "data": {
      "text/plain": [
       "(45473, 1000)"
      ]
     },
     "execution_count": 116,
     "metadata": {},
     "output_type": "execute_result"
    }
   ],
   "source": [
    "#check word with the most weight\n",
    "data_vectorized.shape"
   ]
  },
  {
   "cell_type": "code",
   "execution_count": 117,
   "metadata": {
    "ExecuteTime": {
     "end_time": "2019-08-22T03:02:15.869086Z",
     "start_time": "2019-08-22T03:02:15.866076Z"
    }
   },
   "outputs": [
    {
     "data": {
      "text/plain": [
       "(45473, 1000)"
      ]
     },
     "execution_count": 117,
     "metadata": {},
     "output_type": "execute_result"
    }
   ],
   "source": [
    "data_vectorized.shape #does this mean i have exactly 1000 words?"
   ]
  },
  {
   "cell_type": "code",
   "execution_count": 120,
   "metadata": {
    "ExecuteTime": {
     "end_time": "2019-08-22T14:50:59.198890Z",
     "start_time": "2019-08-22T14:49:35.315573Z"
    }
   },
   "outputs": [
    {
     "name": "stdout",
     "output_type": "stream",
     "text": [
      "LatentDirichletAllocation(batch_size=128, doc_topic_prior=None,\n",
      "                          evaluate_every=-1, learning_decay=0.7,\n",
      "                          learning_method='online', learning_offset=10.0,\n",
      "                          max_doc_update_iter=100, max_iter=10,\n",
      "                          mean_change_tol=0.001, n_components=5, n_jobs=-1,\n",
      "                          perp_tol=0.1, random_state=100, topic_word_prior=None,\n",
      "                          total_samples=1000000.0, verbose=0)\n"
     ]
    }
   ],
   "source": [
    "# Build LDA Model\n",
    "n_components = 5\n",
    "\n",
    "lda_model = LatentDirichletAllocation(n_components=n_components,   # Number of topics\n",
    "                                      max_iter=10,                 # Max learning iterations\n",
    "                                      learning_method='online',   \n",
    "                                      random_state=100,            # Random state\n",
    "                                      #batch_size=128,             # n docs in each learning iter\n",
    "                                      n_jobs = -1,                 # Use all available CPUs\n",
    "                                     )\n",
    "lda_output = lda_model.fit_transform(data_vectorized)\n",
    "\n",
    "print(lda_model)  # Model attributes"
   ]
  },
  {
   "cell_type": "code",
   "execution_count": 121,
   "metadata": {
    "ExecuteTime": {
     "end_time": "2019-08-22T14:51:19.758384Z",
     "start_time": "2019-08-22T14:50:59.818898Z"
    }
   },
   "outputs": [
    {
     "name": "stderr",
     "output_type": "stream",
     "text": [
      "/anaconda3/lib/python3.7/site-packages/pyLDAvis/_prepare.py:257: FutureWarning: Sorting because non-concatenation axis is not aligned. A future version\n",
      "of pandas will change to not sort by default.\n",
      "\n",
      "To accept the future behavior, pass 'sort=False'.\n",
      "\n",
      "To retain the current behavior and silence the warning, pass 'sort=True'.\n",
      "\n",
      "  return pd.concat([default_term_info] + list(topic_dfs))\n"
     ]
    },
    {
     "data": {
      "text/html": [
       "\n",
       "<link rel=\"stylesheet\" type=\"text/css\" href=\"https://cdn.rawgit.com/bmabey/pyLDAvis/files/ldavis.v1.0.0.css\">\n",
       "\n",
       "\n",
       "<div id=\"ldavis_el15061122538824403691553666\"></div>\n",
       "<script type=\"text/javascript\">\n",
       "\n",
       "var ldavis_el15061122538824403691553666_data = {\"mdsDat\": {\"x\": [31.853294372558594, 124.29411315917969, 32.204689025878906, 117.37086486816406, -38.17229080200195], \"y\": [-107.43881225585938, 21.4388427734375, 16.894643783569336, -73.6943359375, -42.67270278930664], \"topics\": [1, 2, 3, 4, 5], \"cluster\": [1, 1, 1, 1, 1], \"Freq\": [34.76509432631881, 24.57323873500504, 22.63256674127014, 9.51379000273361, 8.515310194672395]}, \"tinfo\": {\"Category\": [\"Default\", \"Default\", \"Default\", \"Default\", \"Default\", \"Default\", \"Default\", \"Default\", \"Default\", \"Default\", \"Default\", \"Default\", \"Default\", \"Default\", \"Default\", \"Default\", \"Default\", \"Default\", \"Default\", \"Default\", \"Default\", \"Default\", \"Default\", \"Default\", \"Default\", \"Default\", \"Default\", \"Default\", \"Default\", \"Default\", \"Topic1\", \"Topic1\", \"Topic1\", \"Topic1\", \"Topic1\", \"Topic1\", \"Topic1\", \"Topic1\", \"Topic1\", \"Topic1\", \"Topic1\", \"Topic1\", \"Topic1\", \"Topic1\", \"Topic1\", \"Topic1\", \"Topic1\", \"Topic1\", \"Topic1\", \"Topic1\", \"Topic1\", \"Topic1\", \"Topic1\", \"Topic1\", \"Topic1\", \"Topic1\", \"Topic1\", \"Topic1\", \"Topic1\", \"Topic1\", \"Topic1\", \"Topic1\", \"Topic1\", \"Topic1\", \"Topic1\", \"Topic1\", \"Topic1\", \"Topic1\", \"Topic1\", \"Topic1\", \"Topic1\", \"Topic1\", \"Topic1\", \"Topic1\", \"Topic1\", \"Topic1\", \"Topic1\", \"Topic1\", \"Topic1\", \"Topic1\", \"Topic1\", \"Topic1\", \"Topic1\", \"Topic1\", \"Topic1\", \"Topic1\", \"Topic2\", \"Topic2\", \"Topic2\", \"Topic2\", \"Topic2\", \"Topic2\", \"Topic2\", \"Topic2\", \"Topic2\", \"Topic2\", \"Topic2\", \"Topic2\", \"Topic2\", \"Topic2\", \"Topic2\", \"Topic2\", \"Topic2\", \"Topic2\", \"Topic2\", \"Topic2\", \"Topic2\", \"Topic2\", \"Topic2\", \"Topic2\", \"Topic2\", \"Topic2\", \"Topic2\", \"Topic2\", \"Topic2\", \"Topic2\", \"Topic2\", \"Topic2\", \"Topic2\", \"Topic2\", \"Topic2\", \"Topic2\", \"Topic2\", \"Topic2\", \"Topic2\", \"Topic2\", \"Topic2\", \"Topic2\", \"Topic2\", \"Topic2\", \"Topic2\", \"Topic2\", \"Topic2\", \"Topic2\", \"Topic2\", \"Topic2\", \"Topic2\", \"Topic2\", \"Topic2\", \"Topic2\", \"Topic2\", \"Topic2\", \"Topic2\", \"Topic2\", \"Topic2\", \"Topic2\", \"Topic2\", \"Topic2\", \"Topic2\", \"Topic3\", \"Topic3\", \"Topic3\", \"Topic3\", \"Topic3\", \"Topic3\", \"Topic3\", \"Topic3\", \"Topic3\", \"Topic3\", \"Topic3\", \"Topic3\", \"Topic3\", \"Topic3\", \"Topic3\", \"Topic3\", \"Topic3\", \"Topic3\", \"Topic3\", \"Topic3\", \"Topic3\", \"Topic3\", \"Topic3\", \"Topic3\", \"Topic3\", \"Topic3\", \"Topic3\", \"Topic3\", \"Topic3\", \"Topic3\", \"Topic3\", \"Topic3\", \"Topic3\", \"Topic3\", \"Topic3\", \"Topic3\", \"Topic3\", \"Topic3\", \"Topic3\", \"Topic3\", \"Topic3\", \"Topic3\", \"Topic3\", \"Topic3\", \"Topic3\", \"Topic3\", \"Topic3\", \"Topic3\", \"Topic3\", \"Topic3\", \"Topic3\", \"Topic3\", \"Topic3\", \"Topic3\", \"Topic3\", \"Topic3\", \"Topic3\", \"Topic3\", \"Topic3\", \"Topic3\", \"Topic3\", \"Topic3\", \"Topic4\", \"Topic4\", \"Topic4\", \"Topic4\", \"Topic4\", \"Topic4\", \"Topic4\", \"Topic4\", \"Topic4\", \"Topic4\", \"Topic4\", \"Topic4\", \"Topic4\", \"Topic4\", \"Topic4\", \"Topic4\", \"Topic4\", \"Topic4\", \"Topic4\", \"Topic4\", \"Topic4\", \"Topic4\", \"Topic4\", \"Topic4\", \"Topic4\", \"Topic4\", \"Topic4\", \"Topic4\", \"Topic4\", \"Topic4\", \"Topic4\", \"Topic4\", \"Topic4\", \"Topic4\", \"Topic4\", \"Topic4\", \"Topic4\", \"Topic4\", \"Topic4\", \"Topic4\", \"Topic4\", \"Topic4\", \"Topic4\", \"Topic4\", \"Topic5\", \"Topic5\", \"Topic5\", \"Topic5\", \"Topic5\", \"Topic5\", \"Topic5\", \"Topic5\", \"Topic5\", \"Topic5\", \"Topic5\", \"Topic5\", \"Topic5\", \"Topic5\", \"Topic5\", \"Topic5\", \"Topic5\", \"Topic5\", \"Topic5\", \"Topic5\", \"Topic5\", \"Topic5\", \"Topic5\", \"Topic5\", \"Topic5\", \"Topic5\", \"Topic5\", \"Topic5\", \"Topic5\", \"Topic5\", \"Topic5\", \"Topic5\", \"Topic5\", \"Topic5\", \"Topic5\", \"Topic5\", \"Topic5\", \"Topic5\"], \"Freq\": [747.0, 612.0, 759.0, 559.0, 451.0, 398.0, 411.0, 774.0, 837.0, 332.0, 330.0, 285.0, 284.0, 277.0, 349.0, 265.0, 247.0, 246.0, 258.0, 416.0, 245.0, 350.0, 235.0, 235.0, 225.0, 220.0, 438.0, 410.0, 350.0, 482.0, 354.60394974592634, 335.67618151635475, 335.42851362672525, 239.56508722719676, 235.27047031624278, 228.52728376703416, 221.31934271848252, 206.74130967673477, 207.66737239837056, 185.02755668983875, 183.36528170557747, 182.22978803952682, 174.38749631744022, 170.92612502095096, 166.26522562477086, 161.07403148786378, 157.47584083771713, 157.32382623678484, 138.88685882217493, 136.49178218604752, 126.97982779792439, 121.3109048432942, 121.17797227400663, 116.92470264911348, 108.37874443033405, 108.11913865345933, 104.90072818185591, 102.00506228814538, 101.94138244668827, 99.08072045522674, 592.3664602078493, 608.2114619075526, 329.8807523140108, 400.4399728332119, 367.80378929203346, 255.43282201894954, 422.2637405220848, 392.43660909534225, 346.6859897413313, 458.72425710142, 314.0367626853295, 245.29078091380467, 320.2672082885008, 322.43181175128154, 397.75698873659445, 360.13578667480664, 287.18003962853356, 370.6021324001432, 245.52252748171892, 243.1309767483858, 311.1091305133742, 320.5763883884436, 268.92123613179314, 262.558493602037, 252.94786157793035, 246.456318449144, 317.6939677682673, 233.49616877574482, 183.9902861138585, 179.57920102839878, 150.91397643022995, 140.63507962164442, 119.09947924045014, 112.82620507920424, 108.81464192420933, 103.45674256579824, 103.22759498812103, 102.62398438580225, 100.251683607159, 87.57341198032469, 86.65583088418018, 87.94640299162072, 88.40199380786451, 83.93771389834009, 82.59102517456999, 81.51421140230444, 78.59449355601002, 80.02634420579923, 74.84396296269452, 76.79585906545348, 73.96165645521639, 70.48542020990475, 70.14537557470899, 68.30718906014178, 62.80338465687788, 62.98374375988963, 119.81262143307931, 96.61679927968055, 692.0132414687357, 178.96622377499082, 300.24392587458993, 174.21838850094045, 160.75814140621483, 210.00055217962947, 153.73310022578642, 322.0967969408536, 339.0520136683298, 254.18634737710926, 154.99508605062178, 228.2549799461517, 308.4639686467584, 241.84466084378496, 210.61785977364315, 210.7263666347921, 262.4482535669331, 247.32062592492775, 295.91453388475526, 209.94284523160314, 205.3779681925542, 258.5901195671609, 162.23685724607063, 220.5890686777969, 219.75263901296677, 235.5758097350443, 217.3912491868151, 198.09413435045238, 200.75522047943355, 199.99196492789423, 176.47199630251757, 243.95083126570805, 348.89119787408765, 171.5627301532696, 174.54512195419852, 147.5151395306017, 116.29393537796821, 116.43410304474591, 108.30101957378113, 105.7064321525139, 93.46335720834146, 87.49880703138412, 80.92130902708227, 72.75127891421032, 70.17987518026635, 69.6674004955532, 71.64756503936584, 65.46375432290603, 62.49890963452875, 60.53309083547727, 50.79880101409272, 102.46221034503027, 109.98255400228484, 114.86893420418649, 88.04205817980426, 70.76173316894203, 105.87067576990832, 95.15981693613482, 112.79719962109118, 200.67862663869144, 90.56704714354169, 205.19495725384513, 241.06742869825288, 235.92845208238666, 263.14634170780124, 257.5381443865758, 259.23025544458494, 438.0337310830209, 339.2076394243393, 264.2857583134594, 277.8745961440715, 263.5272229021491, 215.6399040450303, 276.06592804416704, 154.88806947168572, 403.44177263137465, 261.5550386663152, 388.96742320351194, 358.1326602503437, 211.9062931330938, 285.8449044231569, 334.9668084071883, 210.76701469807924, 228.5126089760683, 259.214787251494, 250.52788077918353, 298.2608411453136, 280.4704179906041, 218.3116420979157, 221.75708979655084, 255.62611824800868, 236.09043382825305, 221.4510858147177, 746.1059170838824, 612.079520826415, 558.8296821280794, 450.2461107656112, 410.1268266981018, 329.77855154276267, 331.4650269011167, 257.4265728340276, 213.93291513289319, 211.90659198304905, 198.92861472897934, 198.79372122769334, 177.84619994717227, 179.8998923266975, 167.5539947074595, 154.23683908683307, 151.11844722221605, 124.90965310086521, 114.32962833347068, 106.92389084943345, 108.86060823199385, 106.59930459778197, 106.37544493010662, 104.59925552112706, 103.2839783637248, 99.28850665050082, 94.2584696870104, 92.4056039903055, 91.48862897087662, 89.252385466506, 111.58236926893493, 227.0581820881309, 348.88135296136994, 151.7944904284091, 199.32470814791012, 222.7809264313098, 164.24852814817496, 219.49043051352012, 134.09573476634532, 192.63252334637878, 176.4571868249222, 133.8780098891964, 167.77614241480921, 147.47352067593192, 397.99134583834467, 284.9204020341308, 283.7923233817786, 276.8156409008882, 246.7352982601937, 244.18002373139979, 246.0490365244783, 264.12724355029053, 234.7661262183183, 234.62467215105707, 224.84812996669726, 200.15784604259184, 186.16950005717354, 187.5442975201149, 172.7804079973081, 171.07150638077525, 170.11383735682065, 169.17770163861863, 158.26792406385644, 155.1740619945376, 147.2938079907064, 146.28378581841537, 145.1467314887864, 140.13234079182612, 132.21385529886092, 124.10928408323157, 123.75140904095028, 122.2270736388145, 122.1876057212735, 122.37368388350502, 218.76856098625882, 144.44745674562233, 444.3918670209018, 239.03468592062507, 178.57766928589308, 165.05947076255995, 153.70085281430607, 159.13139575038926], \"Term\": [\"ripple\", \"xrp\", \"mining\", \"litecoin\", \"eos\", \"ban\", \"tron\", \"cash\", \"bank\", \"miner\", \"bch\", \"india\", \"court\", \"chinese\", \"china\", \"scam\", \"bitmain\", \"attack\", \"stellar\", \"trend\", \"patent\", \"range\", \"wall\", \"street\", \"venezuela\", \"fraud\", \"chart\", \"level\", \"drop\", \"support\", \"wallet\", \"sec\", \"startup\", \"solution\", \"developer\", \"contract\", \"app\", \"smart\", \"team\", \"blockchainbase\", \"application\", \"game\", \"protocol\", \"customer\", \"sale\", \"etf\", \"lightning\", \"commission\", \"foundation\", \"chain\", \"software\", \"ledger\", \"distribute\", \"steal\", \"dapp\", \"access\", \"enable\", \"marketplace\", \"program\", \"mobile\", \"platform\", \"launch\", \"coinbase\", \"announce\", \"user\", \"offer\", \"network\", \"token\", \"service\", \"company\", \"payment\", \"release\", \"security\", \"project\", \"use\", \"million\", \"ico\", \"technology\", \"transaction\", \"firm\", \"mining\", \"news\", \"trading\", \"make\", \"world\", \"future\", \"central\", \"tax\", \"facebook\", \"korea\", \"economic\", \"economy\", \"libra\", \"bubble\", \"hedge\", \"survey\", \"trump\", \"lee\", \"morgan\", \"canada\", \"nation\", \"dogecoin\", \"pass\", \"policy\", \"billionaire\", \"committee\", \"taxis\", \"canadian\", \"economist\", \"attract\", \"trillion\", \"argue\", \"switzerland\", \"novogratz\", \"cnbc\", \"class\", \"reserve\", \"minister\", \"bank\", \"bill\", \"regulation\", \"japan\", \"expert\", \"gold\", \"conference\", \"financial\", \"currency\", \"government\", \"finance\", \"country\", \"digital\", \"ceo\", \"people\", \"investment\", \"investor\", \"industry\", \"technology\", \"money\", \"state\", \"world\", \"regulator\", \"report\", \"year\", \"news\", \"use\", \"could\", \"make\", \"may\", \"fund\", \"watch\", \"drop\", \"momentum\", \"google\", \"alltime\", \"weekend\", \"spike\", \"recovery\", \"bottom\", \"sentiment\", \"iran\", \"tezos\", \"pump\", \"climb\", \"plunge\", \"uptrend\", \"pattern\", \"etoro\", \"indicator\", \"candle\", \"correction\", \"stay\", \"dip\", \"usdt\", \"dominance\", \"jump\", \"shortterm\", \"pressure\", \"rally\", \"surpass\", \"tether\", \"surge\", \"cap\", \"analyst\", \"volume\", \"bear\", \"high\", \"low\", \"bull\", \"gain\", \"past\", \"hit\", \"rise\", \"decline\", \"btc\", \"fall\", \"week\", \"see\", \"altcoin\", \"billion\", \"day\", \"percent\", \"since\", \"top\", \"last\", \"time\", \"continue\", \"hour\", \"bullish\", \"trading\", \"trade\", \"may\", \"ripple\", \"xrp\", \"litecoin\", \"eos\", \"tron\", \"bch\", \"miner\", \"stellar\", \"cardano\", \"neo\", \"ltc\", \"iota\", \"credit\", \"approach\", \"trx\", \"dash\", \"swiss\", \"red\", \"kraken\", \"xlm\", \"forecast\", \"roundup\", \"ethusd\", \"samsung\", \"electricity\", \"breach\", \"bnb\", \"bithumb\", \"visa\", \"segwit\", \"asic\", \"range\", \"cash\", \"march\", \"daily\", \"trend\", \"movement\", \"chart\", \"pair\", \"support\", \"level\", \"weekly\", \"binance\", \"coin\", \"ban\", \"india\", \"court\", \"chinese\", \"bitmain\", \"patent\", \"attack\", \"scam\", \"wall\", \"street\", \"venezuela\", \"buterin\", \"vitalik\", \"satoshi\", \"petro\", \"indian\", \"scheme\", \"goldman\", \"story\", \"europe\", \"lawsuit\", \"wright\", \"laundering\", \"hong\", \"gox\", \"craig\", \"sachs\", \"john\", \"shut\", \"proof\", \"fraud\", \"fake\", \"mining\", \"china\", \"legal\", \"file\", \"regulate\", \"authority\"], \"Total\": [747.0, 612.0, 759.0, 559.0, 451.0, 398.0, 411.0, 774.0, 837.0, 332.0, 330.0, 285.0, 284.0, 277.0, 349.0, 265.0, 247.0, 246.0, 258.0, 416.0, 245.0, 350.0, 235.0, 235.0, 225.0, 220.0, 438.0, 410.0, 350.0, 482.0, 355.6253541709007, 336.702500824004, 336.45768771131173, 240.6003727289165, 236.30040229087194, 229.54523717174945, 222.33473841414934, 207.75855446826114, 208.7033283295923, 186.04950722610053, 184.39020716106162, 183.25621959358907, 175.4053693531012, 171.95670404263802, 167.30519900554359, 162.09112829986563, 158.48756756624272, 158.3592657882468, 139.92315242841892, 137.51551951771037, 127.99976251408256, 122.3300385220118, 122.20355709021841, 117.96196706615386, 109.40049006070356, 109.15359774370026, 105.93378806620561, 103.02286720997532, 102.9620300510902, 100.09431841569916, 642.1436128765888, 680.7221659497766, 362.79832787147956, 451.57801554486286, 416.7648272219686, 288.23934045161684, 531.3776977580543, 491.5204479165133, 425.9227530152907, 603.0555733716922, 403.79572788401026, 293.57157444419187, 421.18103884420884, 450.307190481671, 643.3697631341322, 585.1406457163122, 410.0893948893559, 667.3504860770507, 375.0899268705377, 377.0951543989263, 759.5311368921964, 831.5431418947745, 613.8993986016528, 585.8552278848094, 592.0617414498524, 478.87921044075057, 318.70465506888473, 234.50381504093158, 185.00100407762915, 180.59584391579955, 151.93057157231007, 141.65992606887983, 120.10049352483763, 113.83259372872303, 109.82464466544563, 104.46129401251032, 104.23423193923898, 103.63527021245274, 101.2580442544263, 88.58896170544585, 87.67279115390762, 88.98196647389608, 89.44506318800372, 84.95465881382977, 83.60371022384143, 82.51819093079277, 79.59709435194762, 81.05754542385932, 75.85139087814551, 77.83821955581011, 74.9820542924954, 71.50952019951441, 71.16532657940131, 69.31010953281387, 63.82150816251196, 64.05944630288548, 125.06289629505048, 100.04264396305344, 837.442913991995, 196.32933208972824, 346.53218493377, 197.26181686359624, 181.26371824531316, 256.0299078487746, 177.82658965094808, 464.7924119172128, 579.9211467654254, 393.12887818874333, 198.57184439330098, 342.5044834557284, 565.816720509034, 412.1066576599572, 341.1597408576792, 348.4604523758145, 503.0373014716507, 473.24440486021206, 667.3504860770507, 368.39295557604913, 371.1514146409207, 592.0617414498524, 241.14423203543691, 585.1015793747855, 586.3414733887448, 831.5431418947745, 643.3697631341322, 491.05254821958226, 585.8552278848094, 619.5294374916895, 390.6789259789016, 244.92588299975296, 350.3939839677047, 172.5305054923453, 175.54197500443843, 148.4779347302149, 117.2737393485074, 117.41706746513889, 109.27408127305759, 106.67561647960014, 94.44340650648233, 88.49238890746167, 81.89456107654362, 73.73361842807326, 71.15163213397504, 70.64404038789506, 72.66758434910194, 66.45261081674352, 63.4704332509243, 61.49924667567423, 51.76140168113372, 106.34978320592735, 114.64887517866619, 119.83154298779583, 93.6137935302096, 75.95018167015053, 114.145388563047, 103.2074084442913, 122.49621002904479, 219.26485001371358, 99.6693852390029, 225.9664918471951, 265.97628731485366, 266.85696255114595, 301.1752158844418, 301.1700165808029, 310.0171016793934, 561.7805531677382, 432.0029315148059, 324.9388976027675, 365.7439977600373, 345.57827533189544, 273.42102057147287, 380.89983816326105, 184.47979516025092, 654.966750183381, 372.51033773784064, 644.9806585529492, 579.8067552248772, 285.4847812375521, 441.86512541543294, 569.3787468466804, 293.1031967102404, 333.33058764632835, 420.9824125524762, 401.90193910690425, 543.0453773185909, 530.7614768972194, 324.7650900929121, 354.42961535935524, 613.8993986016528, 493.02475427105384, 619.5294374916895, 747.0004664393726, 612.9721779607233, 559.723565466152, 451.14099340326663, 411.01913243877203, 330.68349597928693, 332.3801705339643, 258.31821785787986, 214.82448318627107, 212.80007048974267, 199.81887921143414, 199.7013188397375, 178.75814904086545, 180.83489191192518, 168.44329953639354, 155.13079668901642, 152.02549047611674, 125.8372933406676, 115.22576050717991, 107.8127996889044, 109.76743848755585, 107.49476240002706, 107.27204764851157, 105.49207106567515, 104.19564258534842, 100.2083230743974, 95.1491545088667, 93.30250308699961, 92.38287857131917, 90.14712799243357, 117.56381813550377, 350.1806397003062, 774.9613597673649, 206.82952779365888, 329.2471200422138, 416.2378685551334, 245.0230800987281, 438.13261971111564, 188.76017341374, 482.6446799708676, 410.5427912047332, 194.49124710957219, 383.3390809057703, 573.749058186963, 398.87028110227925, 285.7941922745608, 284.663826969382, 277.69681477092945, 247.60894254892963, 245.05386862946713, 246.93058588949094, 265.07624636067595, 235.64330450531887, 235.5016248699671, 225.72252798790203, 201.02784822032262, 187.0401215276857, 188.42189997953673, 173.65077358001224, 171.94522627114253, 170.99124875772682, 170.05136351067486, 159.16710780872933, 156.06755320039312, 148.16584095924878, 147.15269069697584, 146.02711525638523, 141.00813206385817, 133.0861901863044, 124.97833520861168, 124.62334750321932, 123.10213364481302, 123.06502294945273, 123.25900774709463, 220.46076458506732, 147.51820111361064, 759.5311368921964, 349.3768084997056, 227.8855847869558, 209.62052553972038, 191.66168634637535, 218.59562394574723], \"loglift\": [30.0, 29.0, 28.0, 27.0, 26.0, 25.0, 24.0, 23.0, 22.0, 21.0, 20.0, 19.0, 18.0, 17.0, 16.0, 15.0, 14.0, 13.0, 12.0, 11.0, 10.0, 9.0, 8.0, 7.0, 6.0, 5.0, 4.0, 3.0, 2.0, 1.0, 1.0537, 1.0535, 1.0535, 1.0522, 1.0522, 1.0521, 1.052, 1.0516, 1.0516, 1.051, 1.051, 1.0509, 1.0507, 1.0505, 1.0503, 1.0503, 1.0502, 1.05, 1.0491, 1.0491, 1.0486, 1.0482, 1.0481, 1.0477, 1.0472, 1.047, 1.0468, 1.0466, 1.0466, 1.0464, 0.9759, 0.9439, 0.9614, 0.9364, 0.9316, 0.9357, 0.8267, 0.8314, 0.8507, 0.783, 0.8052, 0.8769, 0.7826, 0.7225, 0.5757, 0.5712, 0.7003, 0.4684, 0.6328, 0.6177, 0.164, 0.1034, 0.2311, 0.254, 0.2061, 0.3923, 1.4003, 1.3992, 1.398, 1.3979, 1.3968, 1.3963, 1.3951, 1.3946, 1.3943, 1.3938, 1.3938, 1.3937, 1.3935, 1.392, 1.3918, 1.3918, 1.3918, 1.3915, 1.3913, 1.3913, 1.3908, 1.3907, 1.3901, 1.39, 1.3898, 1.3891, 1.3891, 1.3889, 1.3874, 1.3866, 1.3606, 1.3687, 1.2128, 1.3109, 1.2601, 1.2793, 1.2835, 1.2053, 1.2579, 1.0368, 0.8668, 0.9674, 1.1558, 0.9977, 0.7968, 0.8705, 0.9212, 0.9005, 0.7529, 0.7546, 0.5903, 0.8412, 0.8118, 0.5751, 1.0072, 0.428, 0.4221, 0.1423, 0.3185, 0.4957, 0.3325, 0.2728, 0.6088, 1.4818, 1.4815, 1.4802, 1.4801, 1.4793, 1.4774, 1.4774, 1.4768, 1.4767, 1.4753, 1.4745, 1.4738, 1.4724, 1.472, 1.4719, 1.4716, 1.4708, 1.4704, 1.4699, 1.467, 1.4485, 1.4442, 1.4435, 1.4244, 1.415, 1.4105, 1.4046, 1.4033, 1.3972, 1.39, 1.3894, 1.3874, 1.3626, 1.3508, 1.3293, 1.3069, 1.237, 1.244, 1.2792, 1.211, 1.2147, 1.2484, 1.1639, 1.3109, 1.0012, 1.1322, 0.9801, 1.004, 1.1877, 1.0502, 0.9553, 1.156, 1.1082, 1.0008, 1.0131, 0.8866, 0.8479, 1.0886, 1.0169, 0.6097, 0.7494, 0.457, 2.3512, 2.351, 2.3508, 2.3504, 2.3503, 2.3497, 2.3497, 2.349, 2.3483, 2.3482, 2.348, 2.3479, 2.3473, 2.3472, 2.3471, 2.3466, 2.3464, 2.345, 2.3446, 2.3441, 2.3441, 2.3441, 2.344, 2.3439, 2.3436, 2.3432, 2.343, 2.3428, 2.3427, 2.3425, 2.3002, 1.9192, 1.5543, 2.0431, 1.8506, 1.7274, 1.9525, 1.6612, 2.0105, 1.4339, 1.508, 1.979, 1.5261, 0.9939, 2.4611, 2.4602, 2.4602, 2.4601, 2.4598, 2.4597, 2.4597, 2.4597, 2.4596, 2.4596, 2.4594, 2.459, 2.4586, 2.4586, 2.4583, 2.4582, 2.4582, 2.4582, 2.4576, 2.4576, 2.4574, 2.4574, 2.4573, 2.4571, 2.4567, 2.4563, 2.4563, 2.4562, 2.4561, 2.4561, 2.4556, 2.4423, 1.9273, 2.0838, 2.2195, 2.2243, 2.2426, 2.1458], \"logprob\": [30.0, 29.0, 28.0, 27.0, 26.0, 25.0, 24.0, 23.0, 22.0, 21.0, 20.0, 19.0, 18.0, 17.0, 16.0, 15.0, 14.0, 13.0, 12.0, 11.0, 10.0, 9.0, 8.0, 7.0, 6.0, 5.0, 4.0, 3.0, 2.0, 1.0, -5.117, -5.1719, -5.1726, -5.5092, -5.5273, -5.5563, -5.5884, -5.6565, -5.6521, -5.7675, -5.7765, -5.7827, -5.8267, -5.8468, -5.8744, -5.9061, -5.9287, -5.9297, -6.0543, -6.0717, -6.144, -6.1896, -6.1907, -6.2265, -6.3024, -6.3048, -6.335, -6.363, -6.3636, -6.3921, -4.6039, -4.5775, -5.1893, -4.9954, -5.0805, -5.445, -4.9424, -5.0156, -5.1396, -4.8596, -5.2385, -5.4856, -5.2188, -5.2121, -5.0022, -5.1015, -5.3279, -5.0729, -5.4846, -5.4944, -5.2479, -5.2179, -5.3936, -5.4175, -5.4548, -5.4808, -4.88, -5.1879, -5.4262, -5.4504, -5.6243, -5.6949, -5.8611, -5.9152, -5.9514, -6.0019, -6.0041, -6.01, -6.0334, -6.1686, -6.1791, -6.1643, -6.1592, -6.211, -6.2271, -6.2403, -6.2767, -6.2587, -6.3256, -6.2999, -6.3375, -6.3856, -6.3905, -6.417, -6.501, -6.4982, -5.8551, -6.0703, -4.1014, -5.4538, -4.9365, -5.4807, -5.5611, -5.2939, -5.6058, -4.8662, -4.8149, -5.103, -5.5977, -5.2106, -4.9094, -5.1528, -5.291, -5.2905, -5.071, -5.1304, -4.951, -5.2942, -5.3162, -5.0858, -5.552, -5.2447, -5.2485, -5.179, -5.2593, -5.3523, -5.339, -5.3428, -5.4679, -5.0618, -4.704, -5.4138, -5.3966, -5.5648, -5.8027, -5.8015, -5.8739, -5.8981, -6.0212, -6.0872, -6.1653, -6.2717, -6.3077, -6.315, -6.287, -6.3773, -6.4236, -6.4556, -6.6309, -5.9293, -5.8585, -5.815, -6.081, -6.2995, -5.8966, -6.0032, -5.8332, -5.2571, -6.0527, -5.2348, -5.0737, -5.0952, -4.9861, -5.0076, -5.0011, -4.4765, -4.7322, -4.9817, -4.9316, -4.9846, -5.1852, -4.9381, -5.5161, -4.5587, -4.9921, -4.5953, -4.6779, -5.2026, -4.9033, -4.7447, -5.208, -5.1272, -5.0011, -5.0352, -4.8608, -4.9223, -5.1729, -5.1572, -5.0151, -5.0946, -5.1586, -3.0773, -3.2753, -3.3663, -3.5823, -3.6757, -3.8937, -3.8886, -4.1414, -4.3265, -4.336, -4.3992, -4.3999, -4.5112, -4.4997, -4.5708, -4.6536, -4.6741, -4.8645, -4.953, -5.02, -5.0021, -5.0231, -5.0252, -5.042, -5.0546, -5.0941, -5.1461, -5.1659, -5.1759, -5.2007, -4.9774, -4.2669, -3.8374, -4.6696, -4.3972, -4.2859, -4.5907, -4.3008, -4.7936, -4.4313, -4.5191, -4.7952, -4.5695, -4.6985, -3.5948, -3.929, -3.933, -3.9579, -4.0729, -4.0833, -4.0757, -4.0048, -4.1227, -4.1233, -4.1658, -4.2821, -4.3546, -4.3472, -4.4292, -4.4392, -4.4448, -4.4503, -4.517, -4.5367, -4.5888, -4.5957, -4.6035, -4.6387, -4.6968, -4.7601, -4.763, -4.7754, -4.7757, -4.7742, -4.1932, -4.6083, -3.4845, -4.1046, -4.3962, -4.4749, -4.5462, -4.5115]}, \"token.table\": {\"Topic\": [1, 3, 1, 2, 3, 4, 2, 3, 1, 2, 1, 1, 4, 2, 1, 4, 5, 2, 1, 5, 5, 1, 2, 4, 2, 3, 4, 1, 2, 1, 2, 3, 5, 2, 1, 3, 4, 4, 5, 1, 4, 3, 4, 1, 2, 3, 4, 5, 2, 2, 3, 4, 2, 3, 4, 5, 2, 2, 3, 3, 4, 4, 1, 2, 3, 4, 5, 2, 1, 2, 5, 1, 1, 2, 3, 4, 2, 5, 5, 2, 3, 2, 1, 2, 3, 4, 1, 3, 1, 2, 1, 2, 5, 1, 2, 1, 2, 3, 4, 5, 1, 3, 4, 1, 2, 3, 4, 1, 2, 5, 5, 5, 4, 1, 2, 3, 1, 1, 2, 3, 4, 1, 4, 1, 2, 3, 4, 5, 2, 3, 4, 1, 1, 2, 3, 3, 4, 1, 2, 3, 4, 3, 4, 2, 2, 2, 4, 1, 4, 1, 4, 3, 5, 2, 3, 2, 1, 5, 2, 3, 4, 1, 5, 1, 2, 1, 2, 1, 2, 3, 4, 1, 1, 5, 1, 2, 1, 2, 3, 4, 1, 2, 3, 4, 1, 2, 3, 5, 3, 1, 2, 5, 5, 2, 1, 2, 3, 4, 1, 2, 3, 4, 5, 3, 4, 1, 2, 5, 5, 3, 1, 2, 3, 1, 2, 1, 2, 3, 4, 3, 2, 5, 5, 2, 3, 2, 4, 1, 2, 3, 4, 5, 1, 2, 5, 5, 1, 2, 1, 5, 1, 2, 3, 4, 2, 1, 4, 2, 3, 4, 4, 1, 2, 3, 4, 5, 1, 2, 4, 1, 1, 2, 3, 4, 5, 1, 2, 3, 4, 5, 4, 1, 4, 5, 2, 5, 1, 3, 1, 2, 3, 5, 2, 2, 3, 4, 2, 4, 1, 2, 3, 4, 1, 2, 3, 4, 5, 2, 1, 3, 5, 1, 3, 4, 2, 1, 2, 3, 4, 5, 3, 1, 2, 1, 2, 3, 1, 2, 3, 4, 5, 1, 2, 3, 3, 2, 2, 3, 1, 1, 2, 3, 5, 1, 3, 3, 4, 2, 3, 4, 3, 4, 1, 5, 1, 2, 5, 1, 2, 5, 1, 2, 1, 2, 3, 4, 1, 2, 4, 2, 3, 4, 4, 5, 1, 4, 5, 5, 5, 1, 1, 2, 5, 1, 2, 3, 4, 4, 3, 1, 2, 3, 4, 5, 1, 2, 3, 4, 1, 1, 1, 3, 1, 1, 2, 3, 5, 3, 4, 1, 4, 5, 5, 1, 2, 3, 4, 3, 4, 2, 3, 4, 2, 4, 2, 2, 2, 1, 1, 2, 1, 3, 3, 1, 2, 3, 4, 1, 2, 3, 2, 3, 4, 1, 2, 3, 4, 1, 2, 3, 4, 5, 1, 2, 4, 2, 3, 4, 2, 4, 2, 4, 3, 1, 3, 1, 2, 3, 5, 1, 2, 3, 5, 5, 4, 5, 1, 3, 4, 5, 1, 3, 1, 2, 3, 4, 5, 3, 3, 4, 1, 2, 3, 5, 4, 4, 1, 2, 3], \"Freq\": [0.9894314272039939, 0.9967811060203435, 0.0490393916597277, 0.08056471486955265, 0.7425965022758766, 0.1261012928392998, 0.12285207430280905, 0.8732458254496968, 0.8857827135746852, 0.11072283919683565, 0.9939967167359016, 0.9924605152168016, 0.995383125993562, 0.9788906400811698, 0.04253009199001186, 0.9526740605762657, 0.9962313867027092, 0.9892312599055647, 0.26990476266186864, 0.7273704620887647, 0.9978181350090204, 0.1731461304135962, 0.826324981008335, 0.997933081065135, 0.06128694158185182, 0.8354377826157695, 0.09999448363354771, 0.08658920100757285, 0.91173335178562, 0.18784012411471718, 0.09505162907009786, 0.6472563312868568, 0.0678940207643556, 0.9927789063161784, 0.40695042005995424, 0.15391073579190576, 0.43825429852610454, 0.9860399984576502, 0.9975407085759461, 0.9943589894875395, 0.9879225988418046, 0.9936666269022281, 0.9879418890834017, 0.1267239901518073, 0.0885541136000581, 0.6152984100141968, 0.11909001484145745, 0.04885744198623895, 0.9926858055197513, 0.05539503005886573, 0.8124604408633641, 0.12925507013735338, 0.04232151984475547, 0.626358493702381, 0.33010785478909266, 0.9948870356549003, 0.9933517484107769, 0.9869531526234936, 0.9852901649413556, 0.8843689058881801, 0.11241977617222629, 0.996162061353332, 0.28646589562432123, 0.0051615476689066886, 0.18194455532896078, 0.4503450341121086, 0.07613282811637366, 0.9977890028975811, 0.27177430385610246, 0.5872266208319357, 0.1407402644969102, 0.9889792837708388, 0.1506393202211635, 0.1323800086792043, 0.21454691061802075, 0.49984865346113344, 0.31484631298901083, 0.6840751709488507, 0.9974907354572855, 0.9834615132657218, 0.9838143961082076, 0.9871280358900308, 0.2614383376488623, 0.12026163531847668, 0.36078490595543006, 0.2562095708958851, 0.9095962540293232, 0.08820327311799497, 0.9914165692706332, 0.9937202824619923, 0.7611238835481191, 0.2255181877179612, 0.013265775748115365, 0.12933948767249148, 0.8660122218071169, 0.19971306248461326, 0.1940608059991997, 0.527543938638601, 0.07159524881523872, 0.005652256485413583, 0.9976247071014526, 0.9590992752894966, 0.02820880221439696, 0.2036441931980024, 0.40321550253204475, 0.340085802640664, 0.052947490231480626, 0.1430638206706385, 0.6656847165899098, 0.18977853762431637, 0.9976680318800977, 0.9921719615885533, 0.9957588001166194, 0.1672641195118134, 0.5845622321082964, 0.24658524835246717, 0.9944363667123975, 0.16401054622156297, 0.07593080843590878, 0.15489884920925392, 0.6044092351498339, 0.9871985028592974, 0.9927106885727965, 0.10537801126629778, 0.10889061164184104, 0.5883605629034959, 0.18792412009156437, 0.008781500938858149, 0.0325238869372552, 0.8402004125457594, 0.12467489992614493, 0.9944968257427204, 0.3534713499100399, 0.5443458788614615, 0.09897197797481116, 0.9596805409716881, 0.033380192729450024, 0.9901512106613242, 0.9889644327630795, 0.934823307050811, 0.06583262725709936, 0.9960216669478174, 0.002853930277787442, 0.993875020921203, 0.9887755403257765, 0.9953414766815638, 0.9885250231614143, 0.9911851725190644, 0.9974708718118047, 0.9932684267713464, 0.9881418535732666, 0.9768327837764856, 0.9931596723437935, 0.8882086363367584, 0.11033647656357248, 0.9945891965147978, 0.01355764905552032, 0.976150731997463, 0.04563631737910046, 0.7033361854896659, 0.2523419902138496, 0.2099031088998132, 0.7871366583742995, 0.21654630912745174, 0.7805739049943028, 0.305512732908584, 0.6927823943420004, 0.6443996884216975, 0.3288294706349403, 0.023866655126729534, 0.9930085050892132, 0.9934024326039168, 0.0045359545127320764, 0.9933740382883247, 0.5452047342105751, 0.4504978085495832, 0.513699477105274, 0.30279034219619805, 0.17332136829161682, 0.008352837026102015, 0.060151363070171514, 0.12850518474082095, 0.7600944969776219, 0.049214751602867604, 0.9931450097771578, 0.8202166761081584, 0.1757607163088911, 0.9938173767679972, 0.9969125617709114, 0.15262170582949053, 0.6460985546781766, 0.20095191267549586, 0.9918384455608514, 0.9924912603363506, 0.04094125343127104, 0.06052185289840066, 0.7796638696911614, 0.11926365129978954, 0.08046199211025602, 0.12069298816538404, 0.7899904679916047, 0.0073147265554778206, 0.9928505395461759, 0.6712544132672399, 0.3263897605794836, 0.6998474078497787, 0.2974961106539129, 0.9972211042210478, 0.9945027478131205, 0.9918820684372431, 0.4247276839107518, 0.5219290444077398, 0.05071375330277633, 0.39315795828746025, 0.6055206510850665, 0.27632145686483156, 0.5208361273279559, 0.2007803391607769, 0.9964881612008767, 0.983135398129863, 0.8820764340841418, 0.11152690545891449, 0.9910469980317886, 0.06132529827198077, 0.9286402309757088, 0.9967006775854855, 0.989362096619848, 0.17666000855276862, 0.12689662586184788, 0.6245304527710552, 0.05473972096001281, 0.01741718394182226, 0.8931690936664137, 0.10577002424997003, 0.9929662703082103, 0.9921315132307086, 0.989127457670403, 0.9938701350307628, 0.21502018236830908, 0.7854818906923944, 0.026793796494929613, 0.02192219713221514, 0.5212611318104489, 0.4287007439188738, 0.9908368942329946, 0.9906139794490759, 0.9987072806814032, 0.006944397320362124, 0.78471689720092, 0.20833191961086373, 0.9959018926806829, 0.4489163661636061, 0.3430881733797902, 0.14338013215871828, 0.06315553440324496, 0.003413812670445674, 0.19339598376835992, 0.06768859431892597, 0.7349047383197677, 0.9900714546422925, 0.17916824170520385, 0.32282566073009705, 0.3567223551067572, 0.11460310955918444, 0.024211924554757278, 0.6152367001600076, 0.07348660585244536, 0.11108440419555693, 0.005126972501333397, 0.19482495505066907, 0.9958476147005187, 0.4094631344180714, 0.005266406873544327, 0.5845711629634203, 0.9695865298784275, 0.029987212264281263, 0.9890671275550889, 0.9969251496085785, 0.21173043300470518, 0.5700434734742063, 0.027144927308295534, 0.1927289838888983, 0.9875758586521258, 0.03264998544943819, 0.2938498690449437, 0.6693247017134829, 0.9923261122971829, 0.9962402715003742, 0.7941620466580893, 0.14302444442183598, 0.0583389181194331, 0.001881900584497842, 0.3860292795735908, 0.2838096884092443, 0.18640043094674946, 0.07095242210231108, 0.07456017237869979, 0.9810978579943865, 0.8846814581259552, 0.055509424823589344, 0.05897876387506368, 0.05827500473783365, 0.22780229124789517, 0.7098955122608827, 0.9838441258075211, 0.08102361172185558, 0.12153541758278337, 0.7639369105203526, 0.03472440502365239, 0.9956994409622619, 0.9781406509256741, 0.7776209066040343, 0.22040847352789508, 0.2520813264302379, 0.6184786032183743, 0.12897184142942406, 0.06141181741458338, 0.13988247299988438, 0.719882970804283, 0.07847065558530099, 0.9962524003400861, 0.921912151937536, 0.06852049777914118, 0.007786420202175135, 0.9908833019125359, 0.9887627255861058, 0.07347166086090362, 0.9224775196980122, 0.9906564580106586, 0.7150674179898677, 0.25538122071066705, 0.02664847520459134, 0.9897856735170392, 0.9919878772338371, 0.9900504214534257, 0.916699598624352, 0.08209250136934496, 0.0028556690080177656, 0.3483916189781674, 0.6482368648200328, 0.9883404988793831, 0.9933462225828327, 0.19304849448696157, 0.8034991392160022, 0.09234351494974677, 0.8657204526538759, 0.04040028779051421, 0.3234578714225172, 0.6717971175698434, 0.004146895787468169, 0.8345494636660562, 0.16009724405022302, 0.33498456833672746, 0.3777121918490651, 0.23756558672859754, 0.05127314821480523, 0.031983906646165725, 0.9595171993849718, 0.9986606883337819, 0.1496456398481553, 0.7245999403173835, 0.12601738092476236, 0.9953973348191062, 0.9949981482947791, 0.9921986942826544, 0.9953354687162336, 0.9977608760999515, 0.9959398611703156, 0.9942029269630559, 0.9979135859630244, 0.7597682955484736, 0.15670221095687267, 0.08309965732561429, 0.11900516746004185, 0.2138643589136984, 0.6174471007347099, 0.0482919520127706, 0.987274935785754, 0.9847167043219341, 0.8147017212474268, 0.1831317990123899, 0.9204765571773711, 0.06782458842359576, 0.9913458517787774, 0.16500135912626268, 0.12900106258962354, 0.6870056589075301, 0.018000148268319565, 0.996348865296052, 0.9921893408671554, 0.9975046891153699, 0.9879313331891924, 0.9956675452380732, 0.3179295439683611, 0.5523352246907968, 0.016165909015340395, 0.11316136310738276, 0.9594511924218926, 0.034889134269887004, 0.9918451082999118, 0.9948969226064996, 0.9926674058177156, 0.9978699727857756, 0.3232191433445742, 0.04143835171084285, 0.2341266871662621, 0.3998800940096335, 0.9060958118973682, 0.0902336078238043, 0.04013268457920325, 0.9130185741768739, 0.05016585572400406, 0.9860111438755936, 0.9932544833573298, 0.98362507929896, 0.9935872470105909, 0.9924985408473895, 0.9966300090409599, 0.5559297666521295, 0.4435450429353917, 0.08850869806628038, 0.907214155179374, 0.9890766729220575, 0.20440280800858218, 0.21176867496384638, 0.5487570881671846, 0.03498786803750505, 0.7975253148910353, 0.0590005972751021, 0.14038073144765673, 0.14489916486094592, 0.6152276016227048, 0.23753961452614086, 0.2758482182118391, 0.13183922193948192, 0.47867779042642666, 0.11155626471802316, 0.4381825436101279, 0.11565412861085159, 0.4170064355546198, 0.026062902222163738, 0.004886794166655701, 0.6558427256429814, 0.13863342168063023, 0.2052841051809332, 0.05045192085212308, 0.4132252565031033, 0.5357513500011165, 0.9869028089219251, 0.9975204744540114, 0.9881590537362193, 0.9973682566322696, 0.9908131754332881, 0.053410932421902944, 0.9400324106254918, 0.6186178194964743, 0.3372866000772234, 0.017097477423269388, 0.026423374199598147, 0.882991980040589, 0.0911785196781043, 0.011997173641855829, 0.014396608370226995, 0.9967990435232909, 0.9850310079886546, 0.9944390459159762, 0.059766905764241846, 0.8566589826207998, 0.08300959133922478, 0.9972700072821108, 0.9982415365958407, 0.9962197421178476, 0.14884167257880487, 0.11008082034474109, 0.6031188607620322, 0.11783299079155385, 0.02170607725107571, 0.9891387504518622, 0.3084971734804975, 0.6889770207731111, 0.42732029835342616, 0.43745437657524655, 0.1351210429576051, 0.9921667032283527, 0.9924610093490778, 0.9984139933333391, 0.2575291137556747, 0.3752079803062811, 0.3666805262084111], \"Term\": [\"access\", \"alltime\", \"altcoin\", \"altcoin\", \"altcoin\", \"altcoin\", \"analyst\", \"analyst\", \"announce\", \"announce\", \"app\", \"application\", \"approach\", \"argue\", \"asic\", \"asic\", \"attack\", \"attract\", \"authority\", \"authority\", \"ban\", \"bank\", \"bank\", \"bch\", \"bear\", \"bear\", \"bear\", \"bill\", \"bill\", \"billion\", \"billion\", \"billion\", \"billion\", \"billionaire\", \"binance\", \"binance\", \"binance\", \"bithumb\", \"bitmain\", \"blockchainbase\", \"bnb\", \"bottom\", \"breach\", \"btc\", \"btc\", \"btc\", \"btc\", \"btc\", \"bubble\", \"bull\", \"bull\", \"bull\", \"bullish\", \"bullish\", \"bullish\", \"buterin\", \"canada\", \"canadian\", \"candle\", \"cap\", \"cap\", \"cardano\", \"cash\", \"cash\", \"cash\", \"cash\", \"cash\", \"central\", \"ceo\", \"ceo\", \"ceo\", \"chain\", \"chart\", \"chart\", \"chart\", \"chart\", \"china\", \"china\", \"chinese\", \"class\", \"climb\", \"cnbc\", \"coin\", \"coin\", \"coin\", \"coin\", \"coinbase\", \"coinbase\", \"commission\", \"committee\", \"company\", \"company\", \"company\", \"conference\", \"conference\", \"continue\", \"continue\", \"continue\", \"continue\", \"continue\", \"contract\", \"correction\", \"correction\", \"could\", \"could\", \"could\", \"could\", \"country\", \"country\", \"country\", \"court\", \"craig\", \"credit\", \"currency\", \"currency\", \"currency\", \"customer\", \"daily\", \"daily\", \"daily\", \"daily\", \"dapp\", \"dash\", \"day\", \"day\", \"day\", \"day\", \"day\", \"decline\", \"decline\", \"decline\", \"developer\", \"digital\", \"digital\", \"digital\", \"dip\", \"dip\", \"distribute\", \"dogecoin\", \"dominance\", \"dominance\", \"drop\", \"drop\", \"economic\", \"economist\", \"economy\", \"electricity\", \"enable\", \"eos\", \"etf\", \"ethusd\", \"etoro\", \"europe\", \"expert\", \"expert\", \"facebook\", \"fake\", \"fake\", \"fall\", \"fall\", \"fall\", \"file\", \"file\", \"finance\", \"finance\", \"financial\", \"financial\", \"firm\", \"firm\", \"firm\", \"forecast\", \"foundation\", \"fraud\", \"fraud\", \"fund\", \"fund\", \"future\", \"future\", \"future\", \"future\", \"gain\", \"gain\", \"gain\", \"gain\", \"game\", \"gold\", \"gold\", \"goldman\", \"google\", \"government\", \"government\", \"government\", \"gox\", \"hedge\", \"high\", \"high\", \"high\", \"high\", \"hit\", \"hit\", \"hit\", \"hit\", \"hong\", \"hour\", \"hour\", \"ico\", \"ico\", \"india\", \"indian\", \"indicator\", \"industry\", \"industry\", \"industry\", \"investment\", \"investment\", \"investor\", \"investor\", \"investor\", \"iota\", \"iran\", \"japan\", \"japan\", \"john\", \"jump\", \"jump\", \"korea\", \"kraken\", \"last\", \"last\", \"last\", \"last\", \"last\", \"launch\", \"launch\", \"laundering\", \"lawsuit\", \"ledger\", \"lee\", \"legal\", \"legal\", \"level\", \"level\", \"level\", \"level\", \"libra\", \"lightning\", \"litecoin\", \"low\", \"low\", \"low\", \"ltc\", \"make\", \"make\", \"make\", \"make\", \"make\", \"march\", \"march\", \"march\", \"marketplace\", \"may\", \"may\", \"may\", \"may\", \"may\", \"million\", \"million\", \"million\", \"million\", \"million\", \"miner\", \"mining\", \"mining\", \"mining\", \"minister\", \"minister\", \"mobile\", \"momentum\", \"money\", \"money\", \"money\", \"money\", \"morgan\", \"movement\", \"movement\", \"movement\", \"nation\", \"neo\", \"network\", \"network\", \"network\", \"network\", \"news\", \"news\", \"news\", \"news\", \"news\", \"novogratz\", \"offer\", \"offer\", \"offer\", \"pair\", \"pair\", \"pair\", \"pass\", \"past\", \"past\", \"past\", \"past\", \"patent\", \"pattern\", \"payment\", \"payment\", \"people\", \"people\", \"people\", \"percent\", \"percent\", \"percent\", \"percent\", \"petro\", \"platform\", \"platform\", \"platform\", \"plunge\", \"policy\", \"pressure\", \"pressure\", \"program\", \"project\", \"project\", \"project\", \"proof\", \"protocol\", \"pump\", \"rally\", \"rally\", \"range\", \"range\", \"range\", \"recovery\", \"red\", \"regulate\", \"regulate\", \"regulation\", \"regulation\", \"regulation\", \"regulator\", \"regulator\", \"regulator\", \"release\", \"release\", \"report\", \"report\", \"report\", \"report\", \"reserve\", \"reserve\", \"ripple\", \"rise\", \"rise\", \"rise\", \"roundup\", \"sachs\", \"sale\", \"samsung\", \"satoshi\", \"scam\", \"scheme\", \"sec\", \"security\", \"security\", \"security\", \"see\", \"see\", \"see\", \"see\", \"segwit\", \"sentiment\", \"service\", \"service\", \"shortterm\", \"shortterm\", \"shut\", \"since\", \"since\", \"since\", \"since\", \"smart\", \"software\", \"solution\", \"spike\", \"startup\", \"state\", \"state\", \"state\", \"state\", \"stay\", \"stay\", \"steal\", \"stellar\", \"story\", \"street\", \"support\", \"support\", \"support\", \"support\", \"surge\", \"surge\", \"surpass\", \"surpass\", \"surpass\", \"survey\", \"swiss\", \"switzerland\", \"tax\", \"taxis\", \"team\", \"technology\", \"technology\", \"tether\", \"tether\", \"tezos\", \"time\", \"time\", \"time\", \"time\", \"token\", \"token\", \"token\", \"top\", \"top\", \"top\", \"trade\", \"trade\", \"trade\", \"trade\", \"trading\", \"trading\", \"trading\", \"trading\", \"trading\", \"transaction\", \"transaction\", \"transaction\", \"trend\", \"trend\", \"trend\", \"trillion\", \"tron\", \"trump\", \"trx\", \"uptrend\", \"usdt\", \"usdt\", \"use\", \"use\", \"use\", \"use\", \"user\", \"user\", \"user\", \"user\", \"venezuela\", \"visa\", \"vitalik\", \"volume\", \"volume\", \"volume\", \"wall\", \"wallet\", \"watch\", \"week\", \"week\", \"week\", \"week\", \"week\", \"weekend\", \"weekly\", \"weekly\", \"world\", \"world\", \"world\", \"wright\", \"xlm\", \"xrp\", \"year\", \"year\", \"year\"]}, \"R\": 30, \"lambda.step\": 0.01, \"plot.opts\": {\"xlab\": \"PC1\", \"ylab\": \"PC2\"}, \"topic.order\": [3, 1, 5, 2, 4]};\n",
       "\n",
       "function LDAvis_load_lib(url, callback){\n",
       "  var s = document.createElement('script');\n",
       "  s.src = url;\n",
       "  s.async = true;\n",
       "  s.onreadystatechange = s.onload = callback;\n",
       "  s.onerror = function(){console.warn(\"failed to load library \" + url);};\n",
       "  document.getElementsByTagName(\"head\")[0].appendChild(s);\n",
       "}\n",
       "\n",
       "if(typeof(LDAvis) !== \"undefined\"){\n",
       "   // already loaded: just create the visualization\n",
       "   !function(LDAvis){\n",
       "       new LDAvis(\"#\" + \"ldavis_el15061122538824403691553666\", ldavis_el15061122538824403691553666_data);\n",
       "   }(LDAvis);\n",
       "}else if(typeof define === \"function\" && define.amd){\n",
       "   // require.js is available: use it to load d3/LDAvis\n",
       "   require.config({paths: {d3: \"https://cdnjs.cloudflare.com/ajax/libs/d3/3.5.5/d3.min\"}});\n",
       "   require([\"d3\"], function(d3){\n",
       "      window.d3 = d3;\n",
       "      LDAvis_load_lib(\"https://cdn.rawgit.com/bmabey/pyLDAvis/files/ldavis.v1.0.0.js\", function(){\n",
       "        new LDAvis(\"#\" + \"ldavis_el15061122538824403691553666\", ldavis_el15061122538824403691553666_data);\n",
       "      });\n",
       "    });\n",
       "}else{\n",
       "    // require.js not available: dynamically load d3 & LDAvis\n",
       "    LDAvis_load_lib(\"https://cdnjs.cloudflare.com/ajax/libs/d3/3.5.5/d3.min.js\", function(){\n",
       "         LDAvis_load_lib(\"https://cdn.rawgit.com/bmabey/pyLDAvis/files/ldavis.v1.0.0.js\", function(){\n",
       "                 new LDAvis(\"#\" + \"ldavis_el15061122538824403691553666\", ldavis_el15061122538824403691553666_data);\n",
       "            })\n",
       "         });\n",
       "}\n",
       "</script>"
      ],
      "text/plain": [
       "PreparedData(topic_coordinates=                x           y  topics  cluster       Freq\n",
       "topic                                                    \n",
       "2       31.853294 -107.438812       1        1  34.765094\n",
       "0      124.294113   21.438843       2        1  24.573239\n",
       "4       32.204689   16.894644       3        1  22.632567\n",
       "1      117.370865  -73.694336       4        1   9.513790\n",
       "3      -38.172291  -42.672703       5        1   8.515310, topic_info=    Category        Freq        Term       Total  loglift  logprob\n",
       "756  Default  747.000000      ripple  747.000000  30.0000  30.0000\n",
       "994  Default  612.000000         xrp  612.000000  29.0000  29.0000\n",
       "565  Default  759.000000      mining  759.000000  28.0000  28.0000\n",
       "518  Default  559.000000    litecoin  559.000000  27.0000  27.0000\n",
       "303  Default  451.000000         eos  451.000000  26.0000  26.0000\n",
       "83   Default  398.000000         ban  398.000000  25.0000  25.0000\n",
       "921  Default  411.000000        tron  411.000000  24.0000  24.0000\n",
       "148  Default  774.000000        cash  774.000000  23.0000  23.0000\n",
       "84   Default  837.000000        bank  837.000000  22.0000  22.0000\n",
       "564  Default  332.000000       miner  332.000000  21.0000  21.0000\n",
       "87   Default  330.000000         bch  330.000000  20.0000  20.0000\n",
       "442  Default  285.000000       india  285.000000  19.0000  19.0000\n",
       "219  Default  284.000000       court  284.000000  18.0000  18.0000\n",
       "166  Default  277.000000     chinese  277.000000  17.0000  17.0000\n",
       "165  Default  349.000000       china  349.000000  16.0000  16.0000\n",
       "777  Default  265.000000        scam  265.000000  15.0000  15.0000\n",
       "108  Default  247.000000     bitmain  247.000000  14.0000  14.0000\n",
       "69   Default  246.000000      attack  246.000000  13.0000  13.0000\n",
       "847  Default  258.000000     stellar  258.000000  12.0000  12.0000\n",
       "919  Default  416.000000       trend  416.000000  11.0000  11.0000\n",
       "637  Default  245.000000      patent  245.000000  10.0000  10.0000\n",
       "708  Default  350.000000       range  350.000000   9.0000   9.0000\n",
       "963  Default  235.000000        wall  235.000000   8.0000   8.0000\n",
       "856  Default  235.000000      street  235.000000   7.0000   7.0000\n",
       "949  Default  225.000000   venezuela  225.000000   6.0000   6.0000\n",
       "368  Default  220.000000       fraud  220.000000   5.0000   5.0000\n",
       "163  Default  438.000000       chart  438.000000   4.0000   4.0000\n",
       "508  Default  410.000000       level  410.000000   3.0000   3.0000\n",
       "277  Default  350.000000        drop  350.000000   2.0000   2.0000\n",
       "868  Default  482.000000     support  482.000000   1.0000   1.0000\n",
       "..       ...         ...         ...         ...      ...      ...\n",
       "963   Topic5  234.766126        wall  235.643305   2.4596  -4.1227\n",
       "856   Topic5  234.624672      street  235.501625   2.4596  -4.1233\n",
       "949   Topic5  224.848130   venezuela  225.722528   2.4594  -4.1658\n",
       "135   Topic5  200.157846     buterin  201.027848   2.4590  -4.2821\n",
       "959   Topic5  186.169500     vitalik  187.040122   2.4586  -4.3546\n",
       "775   Topic5  187.544298     satoshi  188.421900   2.4586  -4.3472\n",
       "648   Topic5  172.780408       petro  173.650774   2.4583  -4.4292\n",
       "443   Topic5  171.071506      indian  171.945226   2.4582  -4.4392\n",
       "778   Topic5  170.113837      scheme  170.991249   2.4582  -4.4448\n",
       "388   Topic5  169.177702     goldman  170.051364   2.4582  -4.4503\n",
       "854   Topic5  158.267924       story  159.167108   2.4576  -4.5170\n",
       "311   Topic5  155.174062      europe  156.067553   2.4576  -4.5367\n",
       "497   Topic5  147.293808     lawsuit  148.165841   2.4574  -4.5888\n",
       "991   Topic5  146.283786      wright  147.152691   2.4574  -4.5957\n",
       "495   Topic5  145.146731  laundering  146.027115   2.4573  -4.6035\n",
       "421   Topic5  140.132341        hong  141.008132   2.4571  -4.6387\n",
       "392   Topic5  132.213855         gox  133.086190   2.4567  -4.6968\n",
       "221   Topic5  124.109284       craig  124.978335   2.4563  -4.7601\n",
       "770   Topic5  123.751409       sachs  124.623348   2.4563  -4.7630\n",
       "475   Topic5  122.227074        john  123.102134   2.4562  -4.7754\n",
       "806   Topic5  122.187606        shut  123.065023   2.4561  -4.7757\n",
       "687   Topic5  122.373684       proof  123.259008   2.4561  -4.7742\n",
       "368   Topic5  218.768561       fraud  220.460765   2.4556  -4.1932\n",
       "334   Topic5  144.447457        fake  147.518201   2.4423  -4.6083\n",
       "565   Topic5  444.391867      mining  759.531137   1.9273  -3.4845\n",
       "165   Topic5  239.034686       china  349.376808   2.0838  -4.1046\n",
       "505   Topic5  178.577669       legal  227.885585   2.2195  -4.3962\n",
       "347   Topic5  165.059471        file  209.620526   2.2243  -4.4749\n",
       "729   Topic5  153.700853    regulate  191.661686   2.2426  -4.5462\n",
       "76    Topic5  159.131396   authority  218.595624   2.1458  -4.5115\n",
       "\n",
       "[293 rows x 6 columns], token_table=      Topic      Freq         Term\n",
       "term                              \n",
       "2         1  0.989431       access\n",
       "28        3  0.996781      alltime\n",
       "33        1  0.049039      altcoin\n",
       "33        2  0.080565      altcoin\n",
       "33        3  0.742597      altcoin\n",
       "33        4  0.126101      altcoin\n",
       "45        2  0.122852      analyst\n",
       "45        3  0.873246      analyst\n",
       "46        1  0.885783     announce\n",
       "46        2  0.110723     announce\n",
       "50        1  0.993997          app\n",
       "52        1  0.992461  application\n",
       "53        4  0.995383     approach\n",
       "58        2  0.978891        argue\n",
       "62        1  0.042530         asic\n",
       "62        4  0.952674         asic\n",
       "69        5  0.996231       attack\n",
       "72        2  0.989231      attract\n",
       "76        1  0.269905    authority\n",
       "76        5  0.727370    authority\n",
       "83        5  0.997818          ban\n",
       "84        1  0.173146         bank\n",
       "84        2  0.826325         bank\n",
       "87        4  0.997933          bch\n",
       "88        2  0.061287         bear\n",
       "88        3  0.835438         bear\n",
       "88        4  0.099994         bear\n",
       "99        1  0.086589         bill\n",
       "99        2  0.911733         bill\n",
       "100       1  0.187840      billion\n",
       "...     ...       ...          ...\n",
       "945       1  0.882992         user\n",
       "945       2  0.091179         user\n",
       "945       3  0.011997         user\n",
       "945       5  0.014397         user\n",
       "949       5  0.996799    venezuela\n",
       "958       4  0.985031         visa\n",
       "959       5  0.994439      vitalik\n",
       "961       1  0.059767       volume\n",
       "961       3  0.856659       volume\n",
       "961       4  0.083010       volume\n",
       "963       5  0.997270         wall\n",
       "964       1  0.998242       wallet\n",
       "969       3  0.996220        watch\n",
       "975       1  0.148842         week\n",
       "975       2  0.110081         week\n",
       "975       3  0.603119         week\n",
       "975       4  0.117833         week\n",
       "975       5  0.021706         week\n",
       "976       3  0.989139      weekend\n",
       "977       3  0.308497       weekly\n",
       "977       4  0.688977       weekly\n",
       "988       1  0.427320        world\n",
       "988       2  0.437454        world\n",
       "988       3  0.135121        world\n",
       "991       5  0.992167       wright\n",
       "993       4  0.992461          xlm\n",
       "994       4  0.998414          xrp\n",
       "995       1  0.257529         year\n",
       "995       2  0.375208         year\n",
       "995       3  0.366681         year\n",
       "\n",
       "[489 rows x 3 columns], R=30, lambda_step=0.01, plot_opts={'xlab': 'PC1', 'ylab': 'PC2'}, topic_order=[3, 1, 5, 2, 4])"
      ]
     },
     "execution_count": 121,
     "metadata": {},
     "output_type": "execute_result"
    }
   ],
   "source": [
    "pyLDAvis.enable_notebook()\n",
    "\n",
    "panel = pyLDAvis.sklearn.prepare(lda_model, data_vectorized, vectorizer, mds='tsne')\n",
    "panel"
   ]
  },
  {
   "cell_type": "code",
   "execution_count": null,
   "metadata": {},
   "outputs": [],
   "source": []
  },
  {
   "cell_type": "code",
   "execution_count": null,
   "metadata": {},
   "outputs": [],
   "source": []
  },
  {
   "cell_type": "code",
   "execution_count": null,
   "metadata": {},
   "outputs": [],
   "source": []
  },
  {
   "cell_type": "code",
   "execution_count": null,
   "metadata": {},
   "outputs": [],
   "source": []
  }
 ],
 "metadata": {
  "kernelspec": {
   "display_name": "Python 3",
   "language": "python",
   "name": "python3"
  },
  "language_info": {
   "codemirror_mode": {
    "name": "ipython",
    "version": 3
   },
   "file_extension": ".py",
   "mimetype": "text/x-python",
   "name": "python",
   "nbconvert_exporter": "python",
   "pygments_lexer": "ipython3",
   "version": "3.7.3"
  },
  "varInspector": {
   "cols": {
    "lenName": 16,
    "lenType": 16,
    "lenVar": 40
   },
   "kernels_config": {
    "python": {
     "delete_cmd_postfix": "",
     "delete_cmd_prefix": "del ",
     "library": "var_list.py",
     "varRefreshCmd": "print(var_dic_list())"
    },
    "r": {
     "delete_cmd_postfix": ") ",
     "delete_cmd_prefix": "rm(",
     "library": "var_list.r",
     "varRefreshCmd": "cat(var_dic_list()) "
    }
   },
   "types_to_exclude": [
    "module",
    "function",
    "builtin_function_or_method",
    "instance",
    "_Feature"
   ],
   "window_display": false
  }
 },
 "nbformat": 4,
 "nbformat_minor": 2
}
